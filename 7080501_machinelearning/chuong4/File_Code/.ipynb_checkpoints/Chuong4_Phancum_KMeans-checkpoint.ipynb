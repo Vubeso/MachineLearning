{
 "cells": [
  {
   "cell_type": "markdown",
   "metadata": {
    "id": "6kWuo-YrM7jE"
   },
   "source": [
    "\n",
    "<h2 align='center'> MÔN HỌC: KỸ NGHỆ TRI THỨC VÀ HỌC MÁY (7080510) </h2>\n",
    "\n",
    "---\n",
    "* Giảng viên: Đặng Văn Nam\n",
    "* Email: dangvannam@humg.edu.n\n",
    "\n",
    "---\n",
    "* Họ tên sinh viên:\n",
    "* Mã sinh viên:\n",
    "* Lớp/Nhóm môn học:\n",
    "* Email:\n",
    "\n",
    "---\n",
    "\n",
    "## CHƯƠNG 4: HỌC KHÔNG GIÁM SÁT - UNSUPERVISED LEARNING\n",
    "---\n",
    "Nếu dữ liệu huấn luyện chỉ bao gồm các dữ liệu đầu vào x mà không có đầu ra tương ứng. Các thuật toán machine learning có thể không dự đoán được đầu ra nhưng vẫn trích xuất được những thông tin quan trọng dựa trên mối liên quan giữa các điểm dữ liệu. Các thuật toán trong nhóm này được gọi là học không giám sát (unsupervised learning).\n",
    "\n",
    "* Học máy có giám sát (Supervised learning): Dự đoán đầu ra (label) của một dữ liệu mới (new sample) dựa trên các cặp (sample, label) đã biết từ trước.\n",
    "* Học máy không giám sát (Unsupervised learning): chỉ có dữ liệu đầu vào (sample) mà không có nhãn (label).\n",
    "\n",
    "<img src='pic/pic1.jpg' width='700px'>\n",
    "\n",
    "– Mục đích là khai phá dữ liệu để tìm ra các cấu trúc nội tại trong dữ liệu để thực hiện một công việc nào đó, ví dụ như phân nhóm (clustering) hoặc giảm số chiều của dữ liệu (dimension reduction) để thuận tiện trong việc lưu trữ và tính toán.\n"
   ]
  },
  {
   "cell_type": "markdown",
   "metadata": {},
   "source": [
    "## A. Phân cụm khách hàng (Customer Segmentation) với KMeans\n",
    "---"
   ]
  },
  {
   "cell_type": "markdown",
   "metadata": {
    "id": "i-0OCHb6GQKF"
   },
   "source": [
    "Từ tập dữ liệu thông tin của 200 khách hàng của trung tâm thương mại phân chia các khách hàng đấy vào những phân khúc (cụm) khách hàng phù hợp\n",
    "\n",
    "File dữ liệu sử dụng:\n",
    "\n",
    "**Mall_Custemers.csv**: Tập dữ liệu gồm 200 khách hàng với một số thuộc tính:\n",
    "1. Gender: Giới tính của khách hàng\n",
    "2. Age: Tuổi của khách hàng\n",
    "3. Income: Thu nhập hàng năm của khách hàng (k$)\n",
    "4. Spending score: Điểm chi tiêu do trung tâm mua sắm chỉ định dựa trên hành vi chi tiêu của khách hàng với thang điểm từ 1-100"
   ]
  },
  {
   "cell_type": "markdown",
   "metadata": {
    "id": "0lJ42IPSKGfw"
   },
   "source": [
    "### 1.Tải và quan sát tập dữ liệu"
   ]
  },
  {
   "cell_type": "code",
   "execution_count": 2,
   "metadata": {
    "id": "_IapebkMNLbg"
   },
   "outputs": [],
   "source": [
    "# Khai báo thư viện\n",
    "import numpy as np\n",
    "import pandas as pd\n",
    "import matplotlib.pyplot as plt\n",
    "\n",
    "import warnings\n",
    "warnings.filterwarnings('ignore')"
   ]
  },
  {
   "cell_type": "code",
   "execution_count": 3,
   "metadata": {
    "colab": {
     "base_uri": "https://localhost:8080/",
     "height": 357
    },
    "id": "70ZONbd9Nl7r",
    "outputId": "68d69ff4-df80-4ec2-e1eb-f8372a06ca81"
   },
   "outputs": [
    {
     "name": "stdout",
     "output_type": "stream",
     "text": [
      "<class 'pandas.core.frame.DataFrame'>\n",
      "RangeIndex: 200 entries, 0 to 199\n",
      "Data columns (total 5 columns):\n",
      " #   Column                  Non-Null Count  Dtype \n",
      "---  ------                  --------------  ----- \n",
      " 0   CustomerID              200 non-null    int64 \n",
      " 1   Gender                  200 non-null    object\n",
      " 2   Age                     200 non-null    int64 \n",
      " 3   Annual Income (k$)      200 non-null    int64 \n",
      " 4   Spending Score (1-100)  200 non-null    int64 \n",
      "dtypes: int64(4), object(1)\n",
      "memory usage: 7.9+ KB\n"
     ]
    }
   ],
   "source": [
    "# Đọc tập dữ liệu\n",
    "path = \"data/Mall_Customers.csv\"\n",
    "df = pd.read_csv(path)\n",
    "df.info()"
   ]
  },
  {
   "cell_type": "code",
   "execution_count": 4,
   "metadata": {},
   "outputs": [
    {
     "data": {
      "text/html": [
       "<div>\n",
       "<style scoped>\n",
       "    .dataframe tbody tr th:only-of-type {\n",
       "        vertical-align: middle;\n",
       "    }\n",
       "\n",
       "    .dataframe tbody tr th {\n",
       "        vertical-align: top;\n",
       "    }\n",
       "\n",
       "    .dataframe thead th {\n",
       "        text-align: right;\n",
       "    }\n",
       "</style>\n",
       "<table border=\"1\" class=\"dataframe\">\n",
       "  <thead>\n",
       "    <tr style=\"text-align: right;\">\n",
       "      <th></th>\n",
       "      <th>CustomerID</th>\n",
       "      <th>Gender</th>\n",
       "      <th>Age</th>\n",
       "      <th>Annual Income (k$)</th>\n",
       "      <th>Spending Score (1-100)</th>\n",
       "    </tr>\n",
       "  </thead>\n",
       "  <tbody>\n",
       "    <tr>\n",
       "      <th>0</th>\n",
       "      <td>1</td>\n",
       "      <td>Male</td>\n",
       "      <td>19</td>\n",
       "      <td>15</td>\n",
       "      <td>39</td>\n",
       "    </tr>\n",
       "    <tr>\n",
       "      <th>1</th>\n",
       "      <td>2</td>\n",
       "      <td>Male</td>\n",
       "      <td>21</td>\n",
       "      <td>15</td>\n",
       "      <td>81</td>\n",
       "    </tr>\n",
       "    <tr>\n",
       "      <th>2</th>\n",
       "      <td>3</td>\n",
       "      <td>Female</td>\n",
       "      <td>20</td>\n",
       "      <td>16</td>\n",
       "      <td>6</td>\n",
       "    </tr>\n",
       "    <tr>\n",
       "      <th>3</th>\n",
       "      <td>4</td>\n",
       "      <td>Female</td>\n",
       "      <td>23</td>\n",
       "      <td>16</td>\n",
       "      <td>77</td>\n",
       "    </tr>\n",
       "    <tr>\n",
       "      <th>4</th>\n",
       "      <td>5</td>\n",
       "      <td>Female</td>\n",
       "      <td>31</td>\n",
       "      <td>17</td>\n",
       "      <td>40</td>\n",
       "    </tr>\n",
       "  </tbody>\n",
       "</table>\n",
       "</div>"
      ],
      "text/plain": [
       "   CustomerID  Gender  Age  Annual Income (k$)  Spending Score (1-100)\n",
       "0           1    Male   19                  15                      39\n",
       "1           2    Male   21                  15                      81\n",
       "2           3  Female   20                  16                       6\n",
       "3           4  Female   23                  16                      77\n",
       "4           5  Female   31                  17                      40"
      ]
     },
     "execution_count": 4,
     "metadata": {},
     "output_type": "execute_result"
    }
   ],
   "source": [
    "#Hiển thị 5 bản ghi đầu tiên:\n",
    "df.head()"
   ]
  },
  {
   "cell_type": "code",
   "execution_count": 5,
   "metadata": {},
   "outputs": [
    {
     "data": {
      "text/html": [
       "<div>\n",
       "<style scoped>\n",
       "    .dataframe tbody tr th:only-of-type {\n",
       "        vertical-align: middle;\n",
       "    }\n",
       "\n",
       "    .dataframe tbody tr th {\n",
       "        vertical-align: top;\n",
       "    }\n",
       "\n",
       "    .dataframe thead th {\n",
       "        text-align: right;\n",
       "    }\n",
       "</style>\n",
       "<table border=\"1\" class=\"dataframe\">\n",
       "  <thead>\n",
       "    <tr style=\"text-align: right;\">\n",
       "      <th></th>\n",
       "      <th>CustomerID</th>\n",
       "      <th>Age</th>\n",
       "      <th>Annual Income (k$)</th>\n",
       "      <th>Spending Score (1-100)</th>\n",
       "    </tr>\n",
       "  </thead>\n",
       "  <tbody>\n",
       "    <tr>\n",
       "      <th>count</th>\n",
       "      <td>200.000000</td>\n",
       "      <td>200.000000</td>\n",
       "      <td>200.000000</td>\n",
       "      <td>200.000000</td>\n",
       "    </tr>\n",
       "    <tr>\n",
       "      <th>mean</th>\n",
       "      <td>100.500000</td>\n",
       "      <td>38.850000</td>\n",
       "      <td>60.560000</td>\n",
       "      <td>50.200000</td>\n",
       "    </tr>\n",
       "    <tr>\n",
       "      <th>std</th>\n",
       "      <td>57.879185</td>\n",
       "      <td>13.969007</td>\n",
       "      <td>26.264721</td>\n",
       "      <td>25.823522</td>\n",
       "    </tr>\n",
       "    <tr>\n",
       "      <th>min</th>\n",
       "      <td>1.000000</td>\n",
       "      <td>18.000000</td>\n",
       "      <td>15.000000</td>\n",
       "      <td>1.000000</td>\n",
       "    </tr>\n",
       "    <tr>\n",
       "      <th>25%</th>\n",
       "      <td>50.750000</td>\n",
       "      <td>28.750000</td>\n",
       "      <td>41.500000</td>\n",
       "      <td>34.750000</td>\n",
       "    </tr>\n",
       "    <tr>\n",
       "      <th>50%</th>\n",
       "      <td>100.500000</td>\n",
       "      <td>36.000000</td>\n",
       "      <td>61.500000</td>\n",
       "      <td>50.000000</td>\n",
       "    </tr>\n",
       "    <tr>\n",
       "      <th>75%</th>\n",
       "      <td>150.250000</td>\n",
       "      <td>49.000000</td>\n",
       "      <td>78.000000</td>\n",
       "      <td>73.000000</td>\n",
       "    </tr>\n",
       "    <tr>\n",
       "      <th>max</th>\n",
       "      <td>200.000000</td>\n",
       "      <td>70.000000</td>\n",
       "      <td>137.000000</td>\n",
       "      <td>99.000000</td>\n",
       "    </tr>\n",
       "  </tbody>\n",
       "</table>\n",
       "</div>"
      ],
      "text/plain": [
       "       CustomerID         Age  Annual Income (k$)  Spending Score (1-100)\n",
       "count  200.000000  200.000000          200.000000              200.000000\n",
       "mean   100.500000   38.850000           60.560000               50.200000\n",
       "std     57.879185   13.969007           26.264721               25.823522\n",
       "min      1.000000   18.000000           15.000000                1.000000\n",
       "25%     50.750000   28.750000           41.500000               34.750000\n",
       "50%    100.500000   36.000000           61.500000               50.000000\n",
       "75%    150.250000   49.000000           78.000000               73.000000\n",
       "max    200.000000   70.000000          137.000000               99.000000"
      ]
     },
     "execution_count": 5,
     "metadata": {},
     "output_type": "execute_result"
    }
   ],
   "source": [
    "#Quan sát các đặc trưng thống kê:\n",
    "df.describe()"
   ]
  },
  {
   "cell_type": "markdown",
   "metadata": {
    "id": "mb9-u082K-UQ"
   },
   "source": [
    "### 1.1 Quan sát thuộc tính tuổi của khách hàng\n",
    "---\n",
    "Lập biểu đồ quan sát sự phân bổ tuổi của khách hàng"
   ]
  },
  {
   "cell_type": "code",
   "execution_count": 6,
   "metadata": {
    "colab": {
     "base_uri": "https://localhost:8080/",
     "height": 404
    },
    "id": "YnuPAJauRESF",
    "outputId": "ffb636ad-d7f0-4e7f-b22b-056a31446078",
    "scrolled": true
   },
   "outputs": [
    {
     "data": {
      "image/png": "[encoded data removed]",
      "text/plain": [
       "<Figure size 576x360 with 1 Axes>"
      ]
     },
     "metadata": {
      "needs_background": "light"
     },
     "output_type": "display_data"
    }
   ],
   "source": [
    "#Vẽ biểu đồ cột quan sát khách hàng theo từng nhóm tuổi\n",
    "\n",
    "age18_25 = df.Age[(df.Age <= 25) & (df.Age >= 18)]\n",
    "age26_35 = df.Age[(df.Age <= 35) & (df.Age >= 26)]\n",
    "age36_45 = df.Age[(df.Age <= 45) & (df.Age >= 36)]\n",
    "age46_55 = df.Age[(df.Age <= 55) & (df.Age >= 46)]\n",
    "age55above = df.Age[df.Age >= 56]\n",
    "\n",
    "x = [\"18-25\",\"26-35\",\"36-45\",\"46-55\",\"56+\"]\n",
    "y = [len(age18_25.values),len(age26_35.values),len(age36_45.values),len(age46_55.values),len(age55above.values)]\n",
    "\n",
    "plt.figure(figsize=(8,5))\n",
    "plt.bar(x, y, color='brown')\n",
    "plt.title(\"THỐNG KÊ KHÁCH HÀNG THEO NHÓM TUỔI\")\n",
    "plt.xlabel(\"Độ tuổi\")\n",
    "plt.ylabel(\"Số lượng khách hàng\")\n",
    "plt.grid(True)\n",
    "plt.show()"
   ]
  },
  {
   "cell_type": "markdown",
   "metadata": {
    "id": "s1LbkmN-QCoH"
   },
   "source": [
    "Độ tuổi của khách hàng tối thiểu là 18, tối đa là 30, tuổi trung bình là 38,85 và độ tuổi chủ yếu là từ 26 - 35 tuổi"
   ]
  },
  {
   "cell_type": "markdown",
   "metadata": {
    "id": "resZidfnQebO"
   },
   "source": [
    "## 1.2 Quan sát thuộc tính thu nhập hàng năm của khách hàng\n",
    "---\n",
    "Vẽ biểu đồ hộp và biểu đồ cột để thấy sự phân bố thu nhập hàng năm của khách hàng"
   ]
  },
  {
   "cell_type": "code",
   "execution_count": 7,
   "metadata": {},
   "outputs": [
    {
     "data": {
      "text/plain": [
       "count    200.000000\n",
       "mean      60.560000\n",
       "std       26.264721\n",
       "min       15.000000\n",
       "25%       41.500000\n",
       "50%       61.500000\n",
       "75%       78.000000\n",
       "max      137.000000\n",
       "Name: Annual Income (k$), dtype: float64"
      ]
     },
     "execution_count": 7,
     "metadata": {},
     "output_type": "execute_result"
    }
   ],
   "source": [
    "#Quan sát thống kê thuộc tính thu nhập:\n",
    "df['Annual Income (k$)'].describe()"
   ]
  },
  {
   "cell_type": "code",
   "execution_count": 8,
   "metadata": {
    "colab": {
     "base_uri": "https://localhost:8080/",
     "height": 404
    },
    "id": "I1cVW4pWRrrP",
    "outputId": "4db3fe3b-9e79-4f42-867b-3a3727ae9cb3"
   },
   "outputs": [
    {
     "data": {
      "image/png": "[encoded data removed]",
      "text/plain": [
       "<Figure size 720x360 with 1 Axes>"
      ]
     },
     "metadata": {
      "needs_background": "light"
     },
     "output_type": "display_data"
    }
   ],
   "source": [
    "#Trực quan hóa dữ liệu theo từng nhóm thu nhập:\n",
    "ai0_30 = df[\"Annual Income (k$)\"][(df[\"Annual Income (k$)\"] >= 15) & (df[\"Annual Income (k$)\"] <= 30)]\n",
    "ai31_60 = df[\"Annual Income (k$)\"][(df[\"Annual Income (k$)\"] >= 31) & (df[\"Annual Income (k$)\"] <= 60)]\n",
    "ai61_90 = df[\"Annual Income (k$)\"][(df[\"Annual Income (k$)\"] >= 61) & (df[\"Annual Income (k$)\"] <= 90)]\n",
    "ai91_120 = df[\"Annual Income (k$)\"][(df[\"Annual Income (k$)\"] >= 91) & (df[\"Annual Income (k$)\"] <= 120)]\n",
    "ai121_150 = df[\"Annual Income (k$)\"][(df[\"Annual Income (k$)\"] >= 121) & (df[\"Annual Income (k$)\"] <= 137)]\n",
    "\n",
    "aix = [\"$ 15,000 - 30,000\", \"$ 30,001 - 60,000\", \"$ 60,001 - 90,000\", \"$ 90,001 - 120,000\", \"$ 120,001 - 137,000\"]\n",
    "aiy = [len(ai0_30.values), len(ai31_60.values), len(ai61_90.values), len(ai91_120.values), len(ai121_150.values)]\n",
    "\n",
    "plt.figure(figsize=(10,5))\n",
    "plt.bar(aix, aiy, color='orange')\n",
    "plt.title(\"BIỂU ĐỒ THỐNG KÊ THEO THU NHẬP\")\n",
    "plt.xlabel(\"Tổng thu nhập hàng năm ($)\")\n",
    "plt.ylabel(\"Số lượng khách hàng\")\n",
    "plt.grid(True)\n",
    "plt.show()"
   ]
  },
  {
   "cell_type": "markdown",
   "metadata": {
    "id": "blVhBODyRbOe"
   },
   "source": [
    "Như vậy thu nhập hàng năm của khách hàng phần lớn trong khoảng từ 60000 - 90000. Thu nhập thấp nhất là 15000 và cao nhất là 137000 trung bình là 60560"
   ]
  },
  {
   "cell_type": "markdown",
   "metadata": {
    "id": "kJ6vmV3DScnX"
   },
   "source": [
    "### 1.3 Quan sát thuộc tính điểm chi tiêu của khách hàng\n",
    "---\n",
    "* Thuộc tính điểm chi tiêu của khách hàng được tính dựa trên hành vi mua sắm tại trung tâm trên thang điểm 1-100.\n",
    "\n",
    "* Thuộc tính này cho biết khả năng chi tiêu cho các mặt hàng của trung tâm thương mại. Điểm chi tiêu càng cao khách hàng càng tiêu nhiều tiền vào việc mua sắm ở trung tâm thương mại."
   ]
  },
  {
   "cell_type": "code",
   "execution_count": 9,
   "metadata": {},
   "outputs": [
    {
     "data": {
      "text/plain": [
       "count    200.000000\n",
       "mean      50.200000\n",
       "std       25.823522\n",
       "min        1.000000\n",
       "25%       34.750000\n",
       "50%       50.000000\n",
       "75%       73.000000\n",
       "max       99.000000\n",
       "Name: Spending Score (1-100), dtype: float64"
      ]
     },
     "execution_count": 9,
     "metadata": {},
     "output_type": "execute_result"
    }
   ],
   "source": [
    "#Quan sát thống kê thuộc tính điểm chi tiêu:\n",
    "df['Spending Score (1-100)'].describe()"
   ]
  },
  {
   "cell_type": "code",
   "execution_count": 10,
   "metadata": {
    "colab": {
     "base_uri": "https://localhost:8080/",
     "height": 404
    },
    "id": "6P2aBHqtRPGf",
    "outputId": "b8156f4b-2b09-484f-e24f-826953ff40da"
   },
   "outputs": [
    {
     "data": {
      "image/png": "[encoded data removed]",
      "text/plain": [
       "<Figure size 864x360 with 1 Axes>"
      ]
     },
     "metadata": {
      "needs_background": "light"
     },
     "output_type": "display_data"
    }
   ],
   "source": [
    "#Trực quan hóa dữ liệu theo từng nhóm dựa vào điểm chi tiêu:\n",
    "ss1_20 = df[\"Spending Score (1-100)\"][(df[\"Spending Score (1-100)\"] >= 1) & (df[\"Spending Score (1-100)\"] <= 20)]\n",
    "ss21_40 = df[\"Spending Score (1-100)\"][(df[\"Spending Score (1-100)\"] >= 21) & (df[\"Spending Score (1-100)\"] <= 40)]\n",
    "ss41_60 = df[\"Spending Score (1-100)\"][(df[\"Spending Score (1-100)\"] >= 41) & (df[\"Spending Score (1-100)\"] <= 60)]\n",
    "ss61_80 = df[\"Spending Score (1-100)\"][(df[\"Spending Score (1-100)\"] >= 61) & (df[\"Spending Score (1-100)\"] <= 80)]\n",
    "ss81_100 = df[\"Spending Score (1-100)\"][(df[\"Spending Score (1-100)\"] >= 81) & (df[\"Spending Score (1-100)\"] <= 100)]\n",
    "\n",
    "ssx = [\"1-20\", \"21-40\", \"41-60\", \"61-80\", \"81-100\"]\n",
    "ssy = [len(ss1_20.values), len(ss21_40.values), len(ss41_60.values), len(ss61_80.values), len(ss81_100.values)]\n",
    "\n",
    "plt.figure(figsize=(12,5))\n",
    "plt.bar(ssx,ssy, color='blue')\n",
    "plt.title(\"BIỂU ĐỒ THỐNG KÊ THEO ĐIỂM CHI TIÊU\")\n",
    "plt.xlabel(\"Score\")\n",
    "plt.ylabel(\"Số lượng khách hàng theo Score\")\n",
    "plt.grid(True)\n",
    "plt.show()"
   ]
  },
  {
   "cell_type": "markdown",
   "metadata": {
    "id": "7QbR-vQuTsFk"
   },
   "source": [
    "Như vậy điểm chi tiêu của khách hàng phần lớn trong khoảng từ 41-60 điểm. Điểm thấp nhất là 1 và cao nhất là 99 trung bình là 50,2"
   ]
  },
  {
   "cell_type": "markdown",
   "metadata": {
    "id": "TFn_NCxeVFG_"
   },
   "source": [
    "### 1.4 Quan sát thuộc tính giới tính\n",
    "---"
   ]
  },
  {
   "cell_type": "code",
   "execution_count": 11,
   "metadata": {
    "colab": {
     "base_uri": "https://localhost:8080/",
     "height": 357
    },
    "id": "4v7PDyj8VRgX",
    "outputId": "ee610e0b-5819-4150-a79e-bc0563ba6695"
   },
   "outputs": [
    {
     "name": "stdout",
     "output_type": "stream",
     "text": [
      "Female    112\n",
      "Male       88\n",
      "Name: Gender, dtype: int64\n"
     ]
    },
    {
     "data": {
      "image/png": "[encoded data removed]",
      "text/plain": [
       "<Figure size 576x432 with 1 Axes>"
      ]
     },
     "metadata": {},
     "output_type": "display_data"
    }
   ],
   "source": [
    "genders = df.Gender.value_counts()\n",
    "print(genders)\n",
    "\n",
    "plt.figure(figsize=(8,6))\n",
    "plt.subplot()\n",
    "plt.pie(genders.values,\n",
    "        labels=genders.index,\n",
    "        autopct='%1.1f%%', \n",
    "        pctdistance=0.5,\n",
    "        wedgeprops=dict(width=0.7))\n",
    "plt.title('THỐNG KÊ KHÁCH HÀNG THEO GIỚI TÍNH', fontdict={'fontname':'Tahoma',\n",
    "                                                    'fontweight':'bold',\n",
    "                                                   'fontsize':15})\n",
    "plt.show()"
   ]
  },
  {
   "cell_type": "markdown",
   "metadata": {
    "id": "PSeJ_B6KWTVO"
   },
   "source": [
    "Khách hàng là nữ giới đông hơn nam giới. Nữ giới chiếm 56% và nam giới là 44%"
   ]
  },
  {
   "cell_type": "markdown",
   "metadata": {
    "id": "mJbUNWdZXjmF"
   },
   "source": [
    "# 2.Tiến hành phân cụm tập dữ liệu"
   ]
  },
  {
   "cell_type": "markdown",
   "metadata": {
    "id": "1bHsg1S7Xxdk"
   },
   "source": [
    "## 2.1 Sử dụng phương pháp khửu tay tìm số cụm tối ưu"
   ]
  },
  {
   "cell_type": "code",
   "execution_count": null,
   "metadata": {},
   "outputs": [],
   "source": [
    "#Sử dụng 3 thuộc tính Age, Income, Score để phân cụm dữ liệu\n",
    "data_cluster = df.iloc[:,2:]\n",
    "data_cluster.head()"
   ]
  },
  {
   "cell_type": "code",
   "execution_count": null,
   "metadata": {
    "colab": {
     "base_uri": "https://localhost:8080/",
     "height": 388
    },
    "id": "01mKlGbbSUi_",
    "outputId": "eee09cd3-0c7b-43e9-9575-7413c4a61274",
    "scrolled": true
   },
   "outputs": [],
   "source": [
    "from sklearn.cluster import KMeans\n",
    "wcss = []\n",
    "#Thử số cụm (n_clusters) thay đổi từ 1 đến 10\n",
    "for k in range(1,11):\n",
    "    kmeans = KMeans(n_clusters=k,init='k-means++')\n",
    "    kmeans.fit(df.iloc[:,2:])\n",
    "    wcss.append(kmeans.inertia_)\n",
    "\n",
    "#Trực quan hóa lên biểu đồ:\n",
    "plt.figure(figsize=(12,6))    \n",
    "plt.grid(True)\n",
    "plt.plot(range(1,11),wcss, linewidth=2, color=\"red\", marker =\"8\")\n",
    "plt.xlabel(\"K Value\")\n",
    "plt.xticks(np.arange(1,11,1))\n",
    "plt.ylabel(\"WCSS\")\n",
    "plt.show()"
   ]
  },
  {
   "cell_type": "markdown",
   "metadata": {
    "id": "GKvBlZRBYAxQ"
   },
   "source": [
    "Từ biểu đồ trên theo phương pháp khửu tay ta thấy số lượng cụm n = 5 tốt nhất"
   ]
  },
  {
   "cell_type": "markdown",
   "metadata": {
    "id": "fZJLjLRoY-jc"
   },
   "source": [
    "## 2.2 Tiến hành phân cụm dữ liệu theo số lượng cụm phía trên"
   ]
  },
  {
   "cell_type": "markdown",
   "metadata": {
    "id": "QP6RQqKIZHSc"
   },
   "source": [
    "Với k=5. Phân chia tập dữ liệu thành 5 cụm"
   ]
  },
  {
   "cell_type": "code",
   "execution_count": null,
   "metadata": {
    "colab": {
     "base_uri": "https://localhost:8080/",
     "height": 483
    },
    "id": "vXLk9cbJTG2s",
    "outputId": "97e3efb0-62a1-4006-93ca-0670c836d6a1"
   },
   "outputs": [],
   "source": [
    "from sklearn.cluster import KMeans\n",
    "\n",
    "#Thực hiện phân thành 5 cụm, các tham số khác sử dụng mặc định\n",
    "model_km = KMeans(n_clusters=5)\n",
    "\n",
    "#Liệt kê các tham số của mô hình\n",
    "model_km.get_params()"
   ]
  },
  {
   "cell_type": "markdown",
   "metadata": {},
   "source": [
    "Các tham số của model: https://scikit-learn.org/stable/modules/generated/sklearn.cluster.KMeans.html\n",
    "\n",
    "1. n_clusters: xác định số cụm cần phần nhóm (Default=8)\n",
    "2. init: thuật toán khởi tạo (k-means++, random)"
   ]
  },
  {
   "cell_type": "code",
   "execution_count": null,
   "metadata": {},
   "outputs": [],
   "source": [
    "model_km.fit_predict(df.iloc[:,2:])\n",
    "\n",
    "#Tạo cột Cluster để cho biết mẫu thuộc cụm nào\n",
    "df[\"Cluster\"] = model_km.labels_\n",
    "df"
   ]
  },
  {
   "cell_type": "code",
   "execution_count": null,
   "metadata": {},
   "outputs": [],
   "source": [
    "#Thống kê số lượng khách hàng theo mỗi cụm:\n",
    "sum_cluster = df.Cluster.value_counts()\n",
    "print(sum_cluster)\n",
    "\n",
    "#Trực quan hóa dữ liệu\n",
    "plt.figure(figsize=(10,4))\n",
    "plt.bar(sum_cluster.index, sum_cluster.values)\n",
    "plt.show()\n"
   ]
  },
  {
   "cell_type": "code",
   "execution_count": null,
   "metadata": {},
   "outputs": [],
   "source": [
    "#Trực quan hóa phân cụm\n",
    "from mpl_toolkits.mplot3d import Axes3D\n",
    "\n",
    "fig = plt.figure(figsize=(15,7))\n",
    "ax = fig.add_subplot(111, projection='3d')\n",
    "ax.scatter(df.Age[df.Cluster == 0], df[\"Annual Income (k$)\"][df.Cluster == 0], df[\"Spending Score (1-100)\"][df.Cluster == 0], c='blue', s=100,label='Cluster0')\n",
    "ax.scatter(df.Age[df.Cluster == 1], df[\"Annual Income (k$)\"][df.Cluster == 1], df[\"Spending Score (1-100)\"][df.Cluster == 1], c='red', s=100,label='Cluster1')\n",
    "ax.scatter(df.Age[df.Cluster == 2], df[\"Annual Income (k$)\"][df.Cluster == 2], df[\"Spending Score (1-100)\"][df.Cluster == 2], c='green', s=100,label='Cluster2')\n",
    "ax.scatter(df.Age[df.Cluster == 3], df[\"Annual Income (k$)\"][df.Cluster == 3], df[\"Spending Score (1-100)\"][df.Cluster == 3], c='orange', s=100,label='Cluster3')\n",
    "ax.scatter(df.Age[df.Cluster == 4], df[\"Annual Income (k$)\"][df.Cluster == 4], df[\"Spending Score (1-100)\"][df.Cluster == 4], c='purple', s=100,label='Cluster4')\n",
    "ax.scatter(model_km.cluster_centers_[:, 0], \n",
    "           model_km.cluster_centers_[:, 1],\n",
    "           model_km.cluster_centers_[:, 2], \n",
    "           color = 'black', label = 'Centroids',s=100,marker='s')\n",
    "#ax.view_init(30, 185)\n",
    "plt.xlabel(\"Age\")\n",
    "plt.ylabel(\"Annual Income (k$)\")\n",
    "ax.set_zlabel('Spending Score (1-100)')\n",
    "plt.legend()\n",
    "plt.show()"
   ]
  },
  {
   "cell_type": "code",
   "execution_count": null,
   "metadata": {},
   "outputs": [],
   "source": [
    "#Vị trí tâm của các cụm\n",
    "np.round(model_km.cluster_centers_,1)"
   ]
  },
  {
   "cell_type": "code",
   "execution_count": null,
   "metadata": {},
   "outputs": [],
   "source": [
    "#Tổng bình phương khoảng cách từ các mẫu tới trung tâm cụm gần nhất.\n",
    "model_km.inertia_"
   ]
  },
  {
   "cell_type": "markdown",
   "metadata": {
    "id": "X58Fsv9daohF"
   },
   "source": [
    "# 3.Kết quả thu được\n",
    "---\n",
    "## Nhóm 0:"
   ]
  },
  {
   "cell_type": "code",
   "execution_count": null,
   "metadata": {
    "colab": {
     "base_uri": "https://localhost:8080/",
     "height": 578
    },
    "id": "MmLVzr2klZD-",
    "outputId": "e3e9f42a-e9e5-4bf6-f95c-957d2a5ac333"
   },
   "outputs": [],
   "source": [
    "#Danh sách khách hàng nhóm 0\n",
    "cluster_0 = df[df.Cluster== 0]\n",
    "cluster_0.reset_index(inplace=True)\n",
    "cluster_0[['CustomerID','Gender','Age','Annual Income (k$)','Spending Score (1-100)', 'Cluster']]"
   ]
  },
  {
   "cell_type": "code",
   "execution_count": null,
   "metadata": {},
   "outputs": [],
   "source": [
    "#Đặc trưng thống kê của thuộc tính phân cụm khách hàng nhóm 0\n",
    "cluster_0[['Age','Annual Income (k$)','Spending Score (1-100)']].describe()"
   ]
  },
  {
   "cell_type": "code",
   "execution_count": null,
   "metadata": {},
   "outputs": [],
   "source": [
    "fig = plt.figure(figsize=(15,7))\n",
    "ax = fig.add_subplot(111, projection='3d')\n",
    "ax.scatter(cluster_0['Age'], cluster_0[\"Annual Income (k$)\"], cluster_0[\"Spending Score (1-100)\"], c='blue', s=100,label='Cluster1')\n",
    "ax.scatter(model_km.cluster_centers_[0, 0], model_km.cluster_centers_[0, 1],model_km.cluster_centers_[0, 2], color = 'black', label = 'Centroids',s=100,marker=',')\n",
    "#ax.view_init(30, 185)\n",
    "plt.xlabel(\"Age\")\n",
    "plt.ylabel(\"Annual Income (k$)\")\n",
    "ax.set_zlabel('Spending Score (1-100)')\n",
    "plt.legend()\n",
    "plt.show()"
   ]
  },
  {
   "cell_type": "markdown",
   "metadata": {
    "id": "ZZXRC5nsiWn1"
   },
   "source": [
    "**Đặc trưng của khách hàng Nhóm 0 là gì?**\n",
    "\n",
    "\n",
    "\n"
   ]
  },
  {
   "cell_type": "code",
   "execution_count": null,
   "metadata": {},
   "outputs": [],
   "source": []
  },
  {
   "cell_type": "code",
   "execution_count": null,
   "metadata": {},
   "outputs": [],
   "source": []
  },
  {
   "cell_type": "markdown",
   "metadata": {},
   "source": [
    "## Nhóm 1\n",
    "---"
   ]
  },
  {
   "cell_type": "code",
   "execution_count": null,
   "metadata": {
    "colab": {
     "base_uri": "https://localhost:8080/",
     "height": 408
    },
    "id": "NC5gBEl7mFX8",
    "outputId": "56e00d05-32a6-4487-eee5-d35289efd1ae"
   },
   "outputs": [],
   "source": [
    "#Danh sách khách hàng nhóm 1\n",
    "cluster_1=df[df.Cluster== 1]\n",
    "cluster_1.reset_index(inplace=True)\n",
    "cluster_1[['CustomerID','Gender','Age','Annual Income (k$)','Spending Score (1-100)','Cluster']]"
   ]
  },
  {
   "cell_type": "code",
   "execution_count": null,
   "metadata": {},
   "outputs": [],
   "source": [
    "#Đặc trưng thống kê của thuộc tính phân cụm khách hàng nhóm 1\n",
    "cluster_1[['Age','Annual Income (k$)','Spending Score (1-100)']].describe()"
   ]
  },
  {
   "cell_type": "code",
   "execution_count": null,
   "metadata": {},
   "outputs": [],
   "source": [
    "#Trực quan hóa\n",
    "fig = plt.figure(figsize=(15,7))\n",
    "ax = fig.add_subplot(111, projection='3d')\n",
    "ax.scatter(cluster_1[\"Age\"], cluster_1[\"Annual Income (k$)\"], cluster_1[\"Spending Score (1-100)\"], c='red', s=100,label='Cluster1')\n",
    "ax.scatter(model_km.cluster_centers_[1, 0], \n",
    "           model_km.cluster_centers_[1, 1],\n",
    "           model_km.cluster_centers_[1, 2], color = 'black', label = 'Centroids',s=100,marker=',')\n",
    "#ax.view_init(30, 185)\n",
    "plt.xlabel(\"Age\")\n",
    "plt.ylabel(\"Annual Income (k$)\")\n",
    "ax.set_zlabel('Spending Score (1-100)')\n",
    "plt.legend()\n",
    "plt.show()"
   ]
  },
  {
   "cell_type": "markdown",
   "metadata": {
    "id": "FuXL55NImHRC"
   },
   "source": [
    "**Đặc trưng của khách hàng Nhóm 1 là gì?**\n",
    "\n",
    "\n"
   ]
  },
  {
   "cell_type": "code",
   "execution_count": null,
   "metadata": {},
   "outputs": [],
   "source": []
  },
  {
   "cell_type": "code",
   "execution_count": null,
   "metadata": {},
   "outputs": [],
   "source": []
  },
  {
   "cell_type": "markdown",
   "metadata": {},
   "source": [
    "## Nhóm 2:\n",
    "---"
   ]
  },
  {
   "cell_type": "code",
   "execution_count": null,
   "metadata": {
    "colab": {
     "base_uri": "https://localhost:8080/",
     "height": 799
    },
    "id": "SotBgo97mjDS",
    "outputId": "3d93fd66-e961-42eb-c605-74bff8a5be11"
   },
   "outputs": [],
   "source": [
    "#Danh sách khách hàng nhóm 2\n",
    "cluster_2 = df[df.Cluster== 2]\n",
    "cluster_2.reset_index(inplace=True)\n",
    "cluster_2[['CustomerID','Gender','Age','Annual Income (k$)','Spending Score (1-100)','Cluster']]"
   ]
  },
  {
   "cell_type": "code",
   "execution_count": null,
   "metadata": {},
   "outputs": [],
   "source": [
    "#Đặc trưng thống kê của thuộc tính phân cụm khách hàng nhóm 2\n",
    "cluster_2[['Age','Annual Income (k$)','Spending Score (1-100)']].describe()"
   ]
  },
  {
   "cell_type": "code",
   "execution_count": null,
   "metadata": {},
   "outputs": [],
   "source": [
    "#Trực quan hóa nhóm 2\n",
    "fig = plt.figure(figsize=(15,7))\n",
    "ax = fig.add_subplot(111, projection='3d')\n",
    "ax.scatter(cluster_2[\"Age\"], cluster_2[\"Annual Income (k$)\"], cluster_2[\"Spending Score (1-100)\"], c='green', s=100,label='Cluster2')\n",
    "ax.scatter(model_km.cluster_centers_[2, 0], \n",
    "           model_km.cluster_centers_[2, 1],\n",
    "           model_km.cluster_centers_[2, 2], color = 'black', label = 'Centroids',s=100,marker=',')\n",
    "#ax.view_init(30, 185)\n",
    "plt.xlabel(\"Age\")\n",
    "plt.ylabel(\"Annual Income (k$)\")\n",
    "ax.set_zlabel('Spending Score (1-100)')\n",
    "plt.legend()\n",
    "plt.show()"
   ]
  },
  {
   "cell_type": "markdown",
   "metadata": {
    "id": "xV_lnAvZmioc"
   },
   "source": [
    "**Đặc trưng của khách hàng Nhóm 2 là gì?**"
   ]
  },
  {
   "cell_type": "code",
   "execution_count": null,
   "metadata": {},
   "outputs": [],
   "source": []
  },
  {
   "cell_type": "code",
   "execution_count": null,
   "metadata": {},
   "outputs": [],
   "source": []
  },
  {
   "cell_type": "markdown",
   "metadata": {},
   "source": [
    "## Nhóm 3:\n",
    "---"
   ]
  },
  {
   "cell_type": "code",
   "execution_count": null,
   "metadata": {
    "colab": {
     "base_uri": "https://localhost:8080/",
     "height": 850
    },
    "id": "K8AZcBBamk3p",
    "outputId": "7f72277b-5973-4699-cc13-cc420e6bdbb4"
   },
   "outputs": [],
   "source": [
    "#Danh sách khách hàng nhóm 2\n",
    "cluster_3 = df[df.Cluster== 3]\n",
    "cluster_3.reset_index(inplace=True)\n",
    "cluster_3[['CustomerID','Gender','Age','Annual Income (k$)','Spending Score (1-100)','Cluster']]"
   ]
  },
  {
   "cell_type": "code",
   "execution_count": null,
   "metadata": {},
   "outputs": [],
   "source": [
    "#Đặc trưng thống kê của thuộc tính phân cụm khách hàng nhóm 3\n",
    "print(cluster_3[['Age','Annual Income (k$)','Spending Score (1-100)']].describe())"
   ]
  },
  {
   "cell_type": "code",
   "execution_count": null,
   "metadata": {},
   "outputs": [],
   "source": [
    "#Trực quan hóa nhóm 3\n",
    "fig = plt.figure(figsize=(15,7))\n",
    "ax = fig.add_subplot(111, projection='3d')\n",
    "ax.scatter(cluster_3['Age'], cluster_3[\"Annual Income (k$)\"], cluster_3[\"Spending Score (1-100)\"], c='orange', s=100,label='Cluster3')\n",
    "ax.scatter(km.cluster_centers_[3, 0], km.cluster_centers_[3, 1],km.cluster_centers_[3, 2], color = 'black', label = 'Centroids',s=100,marker=',')\n",
    "#ax.view_init(30, 185)\n",
    "plt.xlabel(\"Age\")\n",
    "plt.ylabel(\"Annual Income (k$)\")\n",
    "ax.set_zlabel('Spending Score (1-100)')\n",
    "plt.legend()\n",
    "plt.show()"
   ]
  },
  {
   "cell_type": "markdown",
   "metadata": {
    "id": "k4vrMG1YmoCK"
   },
   "source": [
    "**Đặc trưng của khách hàng Nhóm 3 là gì?**\n",
    "\n",
    "\n"
   ]
  },
  {
   "cell_type": "code",
   "execution_count": null,
   "metadata": {},
   "outputs": [],
   "source": []
  },
  {
   "cell_type": "code",
   "execution_count": null,
   "metadata": {},
   "outputs": [],
   "source": []
  },
  {
   "cell_type": "code",
   "execution_count": null,
   "metadata": {},
   "outputs": [],
   "source": []
  },
  {
   "cell_type": "markdown",
   "metadata": {},
   "source": [
    "## Nhóm 4:\n",
    "---"
   ]
  },
  {
   "cell_type": "code",
   "execution_count": null,
   "metadata": {
    "colab": {
     "base_uri": "https://localhost:8080/",
     "height": 578
    },
    "id": "78aEtTZympgd",
    "outputId": "474571cf-a26f-48dc-d004-8d4cab7780e9"
   },
   "outputs": [],
   "source": [
    "#Danh sách khách hàng nhóm 4\n",
    "cluster_4 = df[df.Cluster== 4]\n",
    "cluster_4.reset_index(inplace=True)\n",
    "cluster_4[['CustomerID','Gender','Age','Annual Income (k$)','Spending Score (1-100)','Cluster']]"
   ]
  },
  {
   "cell_type": "code",
   "execution_count": null,
   "metadata": {},
   "outputs": [],
   "source": [
    "#Đặc trưng thống kê của thuộc tính phân cụm khách hàng nhóm 4\n",
    "print(cluster_4[['Age','Annual Income (k$)','Spending Score (1-100)']].describe())"
   ]
  },
  {
   "cell_type": "code",
   "execution_count": null,
   "metadata": {},
   "outputs": [],
   "source": [
    "# Trực quan hóa nhóm 4\n",
    "fig = plt.figure(figsize=(15,7))\n",
    "ax = fig.add_subplot(111, projection='3d')\n",
    "ax.scatter(cluster_4['Age'], cluster_4[\"Annual Income (k$)\"], cluster_4[\"Spending Score (1-100)\"], c='purple', s=100,label='Cluster4')\n",
    "ax.scatter(km.cluster_centers_[4, 0], km.cluster_centers_[4, 1],km.cluster_centers_[4, 2], color = 'black', label = 'Centroids',s=100,marker=',')\n",
    "#ax.view_init(30, 185)\n",
    "plt.xlabel(\"Age\")\n",
    "plt.ylabel(\"Annual Income (k$)\")\n",
    "ax.set_zlabel('Spending Score (1-100)')\n",
    "plt.legend()\n",
    "plt.show()"
   ]
  },
  {
   "cell_type": "markdown",
   "metadata": {
    "id": "il1GOS7DmrmK"
   },
   "source": [
    "**Đặc trưng của khách hàng Nhóm 4 là gì?**\n"
   ]
  },
  {
   "cell_type": "code",
   "execution_count": null,
   "metadata": {},
   "outputs": [],
   "source": []
  },
  {
   "cell_type": "code",
   "execution_count": null,
   "metadata": {},
   "outputs": [],
   "source": []
  },
  {
   "cell_type": "markdown",
   "metadata": {
    "id": "bJdxau22o7sr"
   },
   "source": [
    "**==>>>> Như vậy từ kết quả phân nhóm trên, trung tâm thương mại hoàn toàn đưa ra những chiến lược khuyến mại hoặc thu hút khách hàng riêng biệt phù hợp cho từng nhóm**\n"
   ]
  },
  {
   "cell_type": "code",
   "execution_count": null,
   "metadata": {},
   "outputs": [],
   "source": []
  },
  {
   "cell_type": "code",
   "execution_count": null,
   "metadata": {},
   "outputs": [],
   "source": []
  },
  {
   "cell_type": "markdown",
   "metadata": {},
   "source": [
    "## THỰC HÀNH 10\n",
    "---\n",
    "Mô tả tập dữ liệu: Data_seles_Excercise.csv. Dữ liệu mua hàng của 200 MiniMart với một nhà phân phối hàng hóa trong năm 2019. Trong đó:\n",
    "* Cột No: Mã của MiniMart\n",
    "* Cột City: Ký hiệu khu vực đặt MiniMart\n",
    "* Cột Distance: Khoảng cách từ MiniMart tới nhà phân phối.\n",
    "* Cột Grocery: Số tiền MiniMart đã dùng để mua hàng tạp hóa trong năm 2019.\n",
    "* Cột Milk: Số tiền mà MiniMart đã dùng để mua sữa từ nhà phân phối trong năm 2019\n",
    "\n",
    "**YÊU CẦU:**\n",
    "Sử dụng thuật toán phân cụm Kmeans cho tập dữ liệu với 2 thuộc tính phân cụm: Grocery, Milk:\n",
    "1. Xác định số cụm tối ưu.\n",
    "2. Thực hiện phân cụm dữ liệu với số cụm tối ưu đã chỉ ra ở yêu cầu 1. Trực quan hóa, Liệt kê danh sách MiniMart theo từng cụm và cho nhận xét.\n"
   ]
  },
  {
   "cell_type": "code",
   "execution_count": null,
   "metadata": {},
   "outputs": [],
   "source": [
    "#{SINH VIÊN THỰC HIỆN TẠI ĐÂY}\n",
    "\n",
    "\n",
    "\n",
    "\n",
    "\n",
    "\n",
    "\n",
    "\n"
   ]
  },
  {
   "cell_type": "code",
   "execution_count": null,
   "metadata": {},
   "outputs": [],
   "source": []
  },
  {
   "cell_type": "code",
   "execution_count": null,
   "metadata": {},
   "outputs": [],
   "source": []
  },
  {
   "cell_type": "code",
   "execution_count": null,
   "metadata": {},
   "outputs": [],
   "source": []
  },
  {
   "cell_type": "code",
   "execution_count": null,
   "metadata": {},
   "outputs": [],
   "source": []
  },
  {
   "cell_type": "code",
   "execution_count": null,
   "metadata": {},
   "outputs": [],
   "source": []
  }
 ],
 "metadata": {
  "colab": {
   "collapsed_sections": [],
   "name": "Code_customer_segmentation.ipynb",
   "provenance": [],
   "toc_visible": true
  },
  "kernelspec": {
   "display_name": "Python 3",
   "language": "python",
   "name": "python3"
  },
  "language_info": {
   "codemirror_mode": {
    "name": "ipython",
    "version": 3
   },
   "file_extension": ".py",
   "mimetype": "text/x-python",
   "name": "python",
   "nbconvert_exporter": "python",
   "pygments_lexer": "ipython3",
   "version": "3.8.8"
  }
 },
 "nbformat": 4,
 "nbformat_minor": 1
}
