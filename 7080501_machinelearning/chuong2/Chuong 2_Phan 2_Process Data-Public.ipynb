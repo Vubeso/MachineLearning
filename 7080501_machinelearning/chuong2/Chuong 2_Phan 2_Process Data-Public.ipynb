{
 "cells": [
  {
   "cell_type": "markdown",
   "metadata": {
    "id": "Q6xdtJl6Fv9f"
   },
   "source": [
    "# CHƯƠNG 2: QUY TRÌNH XÂY DỰNG MỘT HỆ THỐNG HỌC MÁY - PHẦN 2\n",
    "----\n",
    "\n",
    "* Mã sinh viên:\n",
    "* Họ và tên:\n",
    "* Lớp:\n",
    "* Email:\n",
    "---\n",
    "\n",
    "### 3.3 MỘT SỐ KỸ THUẬT TIỀN XỬ LÝ DỮ LIỆU\n",
    "---\n",
    "\n",
    "\n",
    "**XỬ LÝ TẬP DỮ LIỆU TITANIC:**\n",
    "\n",
    "Tập dữ liệu Data_Titanic.csv bao gồm: 1309 bản ghi tương ứng với 1309 hành khách (với đầy đủ các thông tin liên quan)\n",
    "\n",
    "Mỗi hành khách (mẫu) bao gồm các thuộc tính:\n",
    "1.  PassengerId: ID của hành khách\n",
    "2.  Survival: Thuộc tính cho biết hành khách được cứu hay không (ground truth) 0 = No (Không được cứu); 1 = Yes (Được cứu)\n",
    "3.   Pclass: Loại vé tàu (Cho biết Địa vị xã hội): 1 - Hạng nhất; 2 - Hạng hai; 3 - Hạng 3\n",
    "4.   Name: Tên của hành khách\n",
    "5.  Sex: Giới tính (Male/Female)\n",
    "6. Age: Tuổi (Tính theo năm)\n",
    "7. SibSp: Số lượng anh chị em/bạn đời trên khoang tàu \n",
    "8. Parch: Số lượng cha mẹ/con cái trên khoang tàu\n",
    "9. Ticket: Số hiệu vé\n",
    "10. Fare: Phí hành khách\n",
    "11. Cabin: Số hiệu cabin\n",
    "12. Embarked: Cổng lên tàu (C = Cherourg; Q = Queenstown, S=Southampton)"
   ]
  },
  {
   "cell_type": "code",
   "execution_count": 2,
   "metadata": {
    "colab": {
     "base_uri": "https://localhost:8080/",
     "height": 71
    },
    "id": "zE1IfL2iFmT4",
    "outputId": "94b95132-c7cf-41c5-d0e1-84c93606263b"
   },
   "outputs": [],
   "source": [
    "#Gọi các thư viện sử dụng cho Project:\n",
    "\n",
    "# data analysis and wrangling\n",
    "import pandas as pd\n",
    "import numpy as np\n",
    "import random as rnd\n",
    "\n",
    "# visualization\n",
    "import seaborn as sns\n",
    "import matplotlib.pyplot as plt\n",
    "%matplotlib inline"
   ]
  },
  {
   "cell_type": "markdown",
   "metadata": {
    "id": "tv__XfRLHtBf"
   },
   "source": [
    "### 1) Tải tập dữ liệu:\n",
    "---"
   ]
  },
  {
   "cell_type": "code",
   "execution_count": 3,
   "metadata": {
    "colab": {
     "base_uri": "https://localhost:8080/",
     "height": 121
    },
    "id": "3-OPO01Vp1L2",
    "outputId": "6efd436c-7874-4142-af2f-739deba61576"
   },
   "outputs": [
    {
     "name": "stdout",
     "output_type": "stream",
     "text": [
      "<class 'pandas.core.frame.DataFrame'>\n",
      "RangeIndex: 1309 entries, 0 to 1308\n",
      "Data columns (total 12 columns):\n",
      " #   Column       Non-Null Count  Dtype  \n",
      "---  ------       --------------  -----  \n",
      " 0   PassengerId  1309 non-null   int64  \n",
      " 1   Survived     1309 non-null   int64  \n",
      " 2   Pclass       1309 non-null   int64  \n",
      " 3   Name         1309 non-null   object \n",
      " 4   Sex          1309 non-null   object \n",
      " 5   Age          1046 non-null   float64\n",
      " 6   SibSp        1309 non-null   int64  \n",
      " 7   Parch        1309 non-null   int64  \n",
      " 8   Ticket       1309 non-null   object \n",
      " 9   Fare         1308 non-null   float64\n",
      " 10  Cabin        295 non-null    object \n",
      " 11  Embarked     1307 non-null   object \n",
      "dtypes: float64(2), int64(5), object(5)\n",
      "memory usage: 122.8+ KB\n"
     ]
    }
   ],
   "source": [
    "path_titanic =\"Data/Data_Titanic.csv\"\n",
    "df_titanic = pd.read_csv(path_titanic)\n",
    "df_titanic.info()"
   ]
  },
  {
   "cell_type": "code",
   "execution_count": null,
   "metadata": {
    "id": "bXEDkhGjsTAE"
   },
   "outputs": [],
   "source": [
    "#Hiển thị danh sách thông tin 10 hành khách đầu tiên\n",
    "df_titanic.head(10)"
   ]
  },
  {
   "cell_type": "code",
   "execution_count": null,
   "metadata": {
    "id": "qiGDtg4w7Gf5"
   },
   "outputs": [],
   "source": [
    "#Hiển thị dữ liệu 10 hành khách cuối cùng\n",
    "df_titanic.tail(10)"
   ]
  },
  {
   "cell_type": "markdown",
   "metadata": {
    "id": "Wx9ciaKgyTW5"
   },
   "source": [
    "### 2) Phân tích - Thống kê số liệu \n",
    "---"
   ]
  },
  {
   "cell_type": "code",
   "execution_count": null,
   "metadata": {},
   "outputs": [],
   "source": [
    "#Xây dựng hàm thống kê dữ liệu missing trong dataframe:\n",
    "#-----------------------------------------------------\n",
    "#Đầu vào của hàm là 1 biến Dataframe\n",
    "#Đầu ra bao gồm các thông số:\n",
    "#Tổng số cột của file dữ liệu\n",
    "#Tổng số cột có chứa dữ liệu missing\n",
    "#Danh sách các cột chứa dữ liệu missing với 2 thống số:\n",
    "#Tổng số giá trị missing tương ứng với cột đó\n",
    "#Tỷ lệ % dữ liệu missing trên tổng số dữ liệu của cột\n",
    "def missing_values(df):\n",
    "        mis_val = df.isnull().sum()\n",
    "        mis_val_percent = 100 * df.isnull().sum() / len(df)\n",
    "        mis_val_table = pd.concat([mis_val, mis_val_percent], axis=1)\n",
    "        mis_val_table_ren_columns = mis_val_table.rename(\n",
    "        columns = {0 : 'Số giá trị Missing', 1 : 'Tỷ lệ % missing'})\n",
    "        mis_val_table_ren_columns = mis_val_table_ren_columns[\n",
    "            mis_val_table_ren_columns.iloc[:,1] != 0].sort_values(\n",
    "        'Tỷ lệ % missing', ascending=False).round(2)\n",
    "        print (\"File dữ liệu bao gồm có: \" + str(df.shape[1]) + \" cột.\\n\"      \n",
    "            \"Có \" + str(mis_val_table_ren_columns.shape[0]) +\n",
    "              \" cột chứa missing values.\")\n",
    "        return mis_val_table_ren_columns"
   ]
  },
  {
   "cell_type": "code",
   "execution_count": null,
   "metadata": {
    "colab": {
     "base_uri": "https://localhost:8080/",
     "height": 521
    },
    "id": "-Cu3ejE6A_5V",
    "outputId": "535ff17b-f6f0-4e2f-bd0e-1d03a24d28b3"
   },
   "outputs": [],
   "source": [
    "print('Số lượng missing data trong tập Train: \\n')\n",
    "missing_values(df_titanic)"
   ]
  },
  {
   "cell_type": "code",
   "execution_count": null,
   "metadata": {
    "colab": {
     "base_uri": "https://localhost:8080/",
     "height": 284
    },
    "id": "EUMXaDDpvrzo",
    "outputId": "96233241-19c7-457c-af7a-217158d293fa"
   },
   "outputs": [],
   "source": [
    "#Phân tích số liệu tập Train\n",
    "df_titanic.describe()"
   ]
  },
  {
   "cell_type": "code",
   "execution_count": null,
   "metadata": {
    "colab": {
     "base_uri": "https://localhost:8080/",
     "height": 166
    },
    "id": "YdtgDmQSwri7",
    "outputId": "da693597-974f-4a76-dd54-097f76f2ba3d"
   },
   "outputs": [],
   "source": [
    "#Thông kê tập dữ liệu Train các thuộc tính có dtype: Object\n",
    "df_titanic.describe(include=['O'])"
   ]
  },
  {
   "cell_type": "markdown",
   "metadata": {
    "id": "cCtMTSmLL7MN"
   },
   "source": [
    "## Phân tích các thuộc tính quan trọng ảnh hưởng đến khả năng sống/chết (survived) của hành khách:\n",
    "---\n",
    "Mỗi một hành khách bao gồm 12 thuộc tính (tương ứng với 12 cột dữ liệu)\n",
    "\n"
   ]
  },
  {
   "cell_type": "markdown",
   "metadata": {},
   "source": [
    "**a) Thuộc tính Hạng vé tàu - Pclass:**\n",
    "---\n",
    "Pclass: Loại vé tàu của hành (cho biết địa vị xã hội) 1 – Hạng nhất | 2 – Hạng 2 | 3 – Hạng ba"
   ]
  },
  {
   "cell_type": "code",
   "execution_count": null,
   "metadata": {
    "id": "rVbvOPcZymCK"
   },
   "outputs": [],
   "source": [
    "#Đặc tính Hạng vé tàu - Pclass:\n",
    "df_titanic[['Pclass', 'Survived']].groupby(['Pclass'], as_index=False).mean().sort_values(by='Survived', ascending=False)"
   ]
  },
  {
   "cell_type": "markdown",
   "metadata": {},
   "source": [
    "**Pclass: ảnh hưởng tới khả năng được cứu của hành khách. Hành khách có vé hạng nhất khả năng được cứu cao hơn hạng 2,3**"
   ]
  },
  {
   "cell_type": "markdown",
   "metadata": {},
   "source": [
    "**b) Thuộc tính Giới tính - Sex:**\n",
    "---"
   ]
  },
  {
   "cell_type": "code",
   "execution_count": null,
   "metadata": {
    "id": "csYjExDqy6KA"
   },
   "outputs": [],
   "source": [
    "#Đặc tính Giới tính - Sex:\n",
    "df_titanic[[\"Sex\", \"Survived\"]].groupby(['Sex'], as_index=False).mean().sort_values(by='Survived', ascending=False)"
   ]
  },
  {
   "cell_type": "markdown",
   "metadata": {},
   "source": [
    "**Sex: Ảnh hưởng cao tới khả năng được cứu của hành khách. Hành khách là Nữ (female) có tỷ lệ được cứu sống là ~74% trong khi hành khách Nam chỉ có tỷ lệ cứu sống là ~19%**"
   ]
  },
  {
   "cell_type": "markdown",
   "metadata": {},
   "source": [
    "**c) Thuộc tính tuổi - Age:**\n",
    "---"
   ]
  },
  {
   "cell_type": "code",
   "execution_count": null,
   "metadata": {},
   "outputs": [],
   "source": [
    "plt.hist(df_titanic.Age,bins=20)\n",
    "plt.grid(True)\n",
    "plt.show()"
   ]
  },
  {
   "cell_type": "code",
   "execution_count": null,
   "metadata": {},
   "outputs": [],
   "source": [
    "#Thống kê liệu tuổi hành khách còn sống|chết theo tuổi\n",
    "g = sns.FacetGrid(df_titanic, col='Survived')\n",
    "g.map(plt.hist, 'Age', bins=40)"
   ]
  },
  {
   "cell_type": "markdown",
   "metadata": {},
   "source": [
    "Quan sát dữ liệu Tuổi:\n",
    "*  Hầu hết hành khách đi tàu nằm trong độ tuổi từ 15 - 35\n",
    "*  Trẻ em (Tuổi <=4) có tỷ lệ được cứu cao\n",
    "*  Các hành khách già nhất (Tuổi = 80) đều được cứu\n",
    "*  Một lượng lớn hành khách trong độ tuổi từ 15 - 25 không được cứu\n",
    "\n",
    "Xem xét:\n",
    "\n",
    "*  Thuộc tính Age ảnh hưởng tới khả năng được cứu của hành khách --> đưa vào mô hình huấn luyện\n",
    "*  Xử lý một số dữ liệu missing của thuộc tính age\n",
    "*  Nhóm các độ tuôi theo từng group"
   ]
  },
  {
   "cell_type": "markdown",
   "metadata": {},
   "source": [
    "**d) Thuộc tính SibSp:**\n",
    "---\n",
    "SibSp (Siblings/Spouses): Số lượng anh chị em| vợ chồng của hành khách cùng trên tàu(Kiểu dữ liệu: số)"
   ]
  },
  {
   "cell_type": "code",
   "execution_count": null,
   "metadata": {
    "id": "QQICSTXOy-Zi"
   },
   "outputs": [],
   "source": [
    "df_titanic[[\"SibSp\", \"Survived\"]].groupby(['SibSp'], as_index=False).mean().sort_values(by='Survived', ascending=False)"
   ]
  },
  {
   "cell_type": "markdown",
   "metadata": {},
   "source": [
    "**SibSp: Có ảnh hưởng tới khả năng được cứu của hành khách. Những người có 1,2 người thân đi cùng hoặc đi một mình có tỷ lệ được cứu cao hơn những người khác**"
   ]
  },
  {
   "cell_type": "markdown",
   "metadata": {},
   "source": [
    "**e) Thuộc tính Parch:**\n",
    "---\n",
    "Parch(Parents/Children): Số lượng bố mẹ| con cái của hành khách cùng trên tàu(Kiểu dữ liệu: số)\n"
   ]
  },
  {
   "cell_type": "code",
   "execution_count": null,
   "metadata": {
    "id": "cVCijTIxzDUW"
   },
   "outputs": [],
   "source": [
    "df_titanic[[\"Parch\", \"Survived\"]].groupby(['Parch'], as_index=False).mean().sort_values(by='Survived', ascending=False)"
   ]
  },
  {
   "cell_type": "code",
   "execution_count": null,
   "metadata": {},
   "outputs": [],
   "source": []
  },
  {
   "cell_type": "markdown",
   "metadata": {},
   "source": [
    "**f) Thuộc tính Fare:**\n",
    "---\n",
    "Fare: Giá vé đi tàu của hành khách (Kiểu dữ liệu: Số)"
   ]
  },
  {
   "cell_type": "code",
   "execution_count": null,
   "metadata": {},
   "outputs": [],
   "source": [
    "plt.hist(df_titanic.Fare,bins=40)\n",
    "plt.grid(True)\n",
    "plt.show()"
   ]
  },
  {
   "cell_type": "code",
   "execution_count": null,
   "metadata": {},
   "outputs": [],
   "source": [
    "#Thống kê liệu tuổi hành khách còn sống|chết theo tuổi\n",
    "g = sns.FacetGrid(df_titanic, col='Survived')\n",
    "g.map(plt.hist, 'Fare', bins=40)"
   ]
  },
  {
   "cell_type": "code",
   "execution_count": null,
   "metadata": {},
   "outputs": [],
   "source": []
  },
  {
   "cell_type": "markdown",
   "metadata": {},
   "source": [
    "**g) Thuộc tính Embarked:**\n",
    "---\n",
    "Ký hiệu cho biết cảng mà hành khách lên tàu, Tàu Titanic đón khách ở 3 cảng: C = Cherbourg | Q = Queenstown | S =Southampton (Kiểu dữ liệu: ký tự)\n"
   ]
  },
  {
   "cell_type": "code",
   "execution_count": null,
   "metadata": {},
   "outputs": [],
   "source": [
    "#Đặc tính Giới tính - Sex:\n",
    "df_titanic[[\"Embarked\", \"Survived\"]].groupby(['Embarked'], as_index=False).mean().sort_values(by='Survived', ascending=False)"
   ]
  },
  {
   "cell_type": "markdown",
   "metadata": {},
   "source": [
    "**Thuộc tính Embarked có ảnh hưởng tới khả năng được cứu, những hành khách lên tàu ở cảng S, Q tỷ lệ được cứu cao hơn là lên tàu ở cảng S**"
   ]
  },
  {
   "cell_type": "code",
   "execution_count": null,
   "metadata": {},
   "outputs": [],
   "source": []
  },
  {
   "cell_type": "markdown",
   "metadata": {
    "id": "ydl01Pg-WWPR"
   },
   "source": [
    "## 3) Tiền xử lý dữ liệu\n",
    "---"
   ]
  },
  {
   "cell_type": "markdown",
   "metadata": {
    "id": "Mw03rdzH9GnV"
   },
   "source": [
    "#### 3.1) Loại bỏ các thuộc tính không quan trọng\n",
    "---\n",
    "* Một số thuộc tính không|ít ảnh hưởng tới việc hành khách được cứu hay không, cần loại bỏ những thuộc tính này khỏi dữ liệu. Để giảm chiều dữ liệu và nâng cao chất lượng của dữ liệu huấn luyện.\n",
    "\n",
    "* Có 4 thuộc tính không ảnh hưởng|ít ảnh hưởng bao gồm:\n",
    "\n",
    "    1. **PassengerId:** Thuộc tính này chỉ mà id, đánh số thứ tự của hành khách (Bỏ)\n",
    "    2. **Name:** Tên của hành khách --> (Bỏ)\n",
    "    3. **Ticket:** Số vé của hành khách (Bỏ)\n",
    "    4. **Fare:** Giá vé - Giá vé đã được phản ánh thông qua thuộc tính Pclass (hạng vé: 1, 2, 3) (Bỏ)\n",
    "    5. **Cabin:** Số hiệu Cabin trên tàu của hành khách - Thuộc tính này có tỷ lệ dữ liệu thiếu rất lớn, chiếm ~77,5% dữ liệu --> Bỏ"
   ]
  },
  {
   "cell_type": "code",
   "execution_count": null,
   "metadata": {},
   "outputs": [],
   "source": [
    "df_titanic.describe(include='O')"
   ]
  },
  {
   "cell_type": "code",
   "execution_count": null,
   "metadata": {},
   "outputs": [],
   "source": [
    "#Tạo một DataFrame mới df_data loại bỏ đi 5 thuộc tính ko quan trọng\n",
    "df_data = df_titanic.drop(['PassengerId','Name','Ticket','Fare', 'Cabin'], axis=1)\n",
    "df_data.info()"
   ]
  },
  {
   "cell_type": "markdown",
   "metadata": {},
   "source": [
    "#### 3.2) Xử lý các thuộc tính missing value:\n",
    "---\n",
    "* Các mô hình học máy không làm việc được với các bản ghi chứa thuộc tính missing do đó cần phải được xử lý.\n",
    "\n",
    "* Trong tập dữ liệu hiện tại có thuộc tính chứa giá trị missing, bao gồm:\n",
    "\n",
    "    1. **Age:** Missing 263 bản ghi (chiếm 20.09%)\n",
    "    2. **Embarked:** Missing 2 bản ghi (chiếm 0.15%)\n"
   ]
  },
  {
   "cell_type": "code",
   "execution_count": null,
   "metadata": {},
   "outputs": [],
   "source": [
    "missing_values(df_data)"
   ]
  },
  {
   "cell_type": "markdown",
   "metadata": {},
   "source": [
    "##### 3.2.1) Xử lý giá trị mất mát của thuộc tính Embarked\n",
    "---\n",
    "Thuộc tính Embarked cho biết hành khách lên tàu ở Port nào? Embarked nhận 1 trong  3 giá trị S, Q, C.\n",
    "\n",
    "Trong thuộc tính Embarked có 2 giá trị missing, để xử lý các giá trị missing này ta thực hiện bằng cách, lấy giá trị xuất hiện nhiều nhất của thuộc tính Embarked để thay thế cho giá trị missing.\n",
    "\n",
    "Tổng 1309 hành khách, có 1307 hành khách có giá trị thuộc tính Embarked, 2 hành khách missing."
   ]
  },
  {
   "cell_type": "code",
   "execution_count": null,
   "metadata": {},
   "outputs": [],
   "source": [
    "#Dánh sách hành khách missing thộc tính Embarked trong tập dữ liệu\n",
    "df_data[df_data['Embarked'].isnull()]"
   ]
  },
  {
   "cell_type": "code",
   "execution_count": null,
   "metadata": {},
   "outputs": [],
   "source": [
    "#Thống kê số lượng hành khách theo cảng lên tàu:\n",
    "df_data['Embarked'].value_counts()"
   ]
  },
  {
   "cell_type": "code",
   "execution_count": null,
   "metadata": {},
   "outputs": [],
   "source": [
    "123/1307"
   ]
  },
  {
   "cell_type": "markdown",
   "metadata": {},
   "source": [
    "Trong ba giá trị S, Q, C có số lần xuất hiện như sau:\n",
    "* 0 (S): 914 lần (Xuất hiện nhiều nhất) chiếm ~70%  \n",
    "* 1 (C) : 270 lần - chiếm 20.6%\n",
    "* 2 (Q): 123 lần - chiếm 9.4%\n",
    "\n",
    "==> Xử lý thuộc tính Embarked bằng giá trị xuất hiện nhiều nhất trong dữ liệu đó là cảng S"
   ]
  },
  {
   "cell_type": "code",
   "execution_count": null,
   "metadata": {},
   "outputs": [],
   "source": [
    "df_data['Embarked'] = df_data['Embarked'].fillna('S')"
   ]
  },
  {
   "cell_type": "code",
   "execution_count": null,
   "metadata": {},
   "outputs": [],
   "source": [
    "#Thống kê dữ liệu sau khi xử lý missing thuộc tính Embarked\n",
    "df_data.isnull().sum()"
   ]
  },
  {
   "cell_type": "markdown",
   "metadata": {},
   "source": [
    "#####  3.2.2) Xử lý dữ liệu mất mát của thuộc tính Age\n",
    "---\n",
    "Tập dữ liệu có 263 hành khách bị missing thông tin về tuổi chiếm tỷ lệ (20.09%)\n"
   ]
  },
  {
   "cell_type": "code",
   "execution_count": null,
   "metadata": {},
   "outputs": [],
   "source": [
    "#Dánh sách hành khách missing thộc tính Embarked trong tập dữ liệu\n",
    "df_data[df_data['Age'].isnull()]"
   ]
  },
  {
   "cell_type": "markdown",
   "metadata": {},
   "source": [
    "**Có một sự tương quan giữa thuộc tính Age, Sex và Pclass.**"
   ]
  },
  {
   "cell_type": "code",
   "execution_count": null,
   "metadata": {},
   "outputs": [],
   "source": [
    "grid = sns.FacetGrid(df_data, row='Pclass', col='Sex', size=2.2, aspect=1.6)\n",
    "grid.map(plt.hist, 'Age', alpha=.5, bins=20)\n",
    "grid.add_legend()"
   ]
  },
  {
   "cell_type": "markdown",
   "metadata": {},
   "source": [
    "**Bởi vậy chúng ta sẽ ước chừng giá trị Age tại các vị trí thiếu sử dụng các giá trị trung bình của thuộc tính Age theo các tập của sự kết hợp giữa thuộc tính Pclass và Sex. như, trung bình Age của Pclass = 1 và Sex = 0, Pclass = 1 và Sex = 1...vv.**"
   ]
  },
  {
   "cell_type": "markdown",
   "metadata": {},
   "source": [
    "##### Thay thế các giá trị null bằng giá trị trung bình của độ tuổi theo Sex, Pclass\n",
    "---\n",
    "\n",
    " Thay thế các giá trị null trong thuộc tính Age của các hành khách này dựa vào tuổi trung bình tương ứng với các hành khách có cùng chung thuộc tính Sex và Pclass với hành khách có tuổi bị missing đó. Bao gồm 6 nhóm\n",
    " \n",
    "* Nhóm 1:  sex = Male, pclass = 1, (có độ tuổi trung bình 41)\n",
    " \n",
    "* Nhóm 2: sex = Male, pclass = 2, (có độ tuổi trung bình 31)\n",
    " \n",
    "* Nhóm 3: sex = Male, pclass = 3, (có độ tuổi trung bình 26)\n",
    " \n",
    "* Nhóm 4: sex = Female, pclass = 1, (có độ tuổi trung bình 37)\n",
    " \n",
    "* Nhóm 5: sex = Female, pclass = 2, (có độ tuổi trung bình 27)\n",
    " \n",
    "* Nhóm 6: sex = Female, pclass = 3, (có độ tuổi trung bình 22)"
   ]
  },
  {
   "cell_type": "code",
   "execution_count": null,
   "metadata": {},
   "outputs": [],
   "source": [
    "df_data.info()"
   ]
  },
  {
   "cell_type": "code",
   "execution_count": null,
   "metadata": {},
   "outputs": [],
   "source": [
    "df_data.head()"
   ]
  },
  {
   "cell_type": "code",
   "execution_count": null,
   "metadata": {},
   "outputs": [],
   "source": [
    "#Xử lý missing nhóm 1:\n",
    "# Xác định tuổi trung bình của hành khách có thuộc tính sex = male, pclass = 1\n",
    "#Danh sách các hành khách thỏa mãn:\n",
    "df_male_1 =  df_data[(df_data['Sex']=='male') & (df_data['Pclass']==1)]\n"
   ]
  },
  {
   "cell_type": "code",
   "execution_count": null,
   "metadata": {},
   "outputs": [],
   "source": [
    "Age_mean_male_1 = round(df_male_1['Age'].mean(),0)\n",
    "print('Tuổi trung bình của nhóm hành khách có giới tính male và Pclass = 1:', Age_mean_male_1)"
   ]
  },
  {
   "cell_type": "code",
   "execution_count": null,
   "metadata": {},
   "outputs": [],
   "source": [
    "#Thay thế tuổi của các hành khách có giới tính Sex=male và Pclass = 1 bị missing bằng tuổi trung bình của nhóm này\n",
    "df_data[(df_data['Sex']=='male') & (df_data['Pclass']==1) & (df_data['Age'].isnull())]\n"
   ]
  },
  {
   "cell_type": "code",
   "execution_count": null,
   "metadata": {},
   "outputs": [],
   "source": [
    "#Thực hiện điền tuổi trung bình vào các bảng ghi missing:\n",
    "df_data.loc[(df_data['Sex']=='male') & (df_data['Pclass']==1) & (df_data['Age'].isnull()),\\\n",
    "            'Age'] = Age_mean_male_1"
   ]
  },
  {
   "cell_type": "code",
   "execution_count": null,
   "metadata": {},
   "outputs": [],
   "source": [
    "#Xem lại dữ liệu sau xử lý:\n",
    "df_data.iloc[[55,64,168,185,270],:]"
   ]
  },
  {
   "cell_type": "markdown",
   "metadata": {},
   "source": [
    "**THỰC HIỆN TƯƠNG TỰ CHO CÁC NHÓM CÒN LẠI 2, 3, 4, 5, 6**"
   ]
  },
  {
   "cell_type": "code",
   "execution_count": null,
   "metadata": {},
   "outputs": [],
   "source": [
    "#Nhóm 2:\n",
    "df_male_2 =  df_data[(df_data['Sex']=='male') & (df_data['Pclass']==2)]\n",
    "Age_mean_male_2 = round(df_male_2['Age'].mean(),0)\n",
    "df_data.loc[(df_data['Sex']=='male') & (df_data['Pclass']==2) & (df_data['Age'].isnull()),\\\n",
    "            'Age'] = Age_mean_male_2"
   ]
  },
  {
   "cell_type": "code",
   "execution_count": null,
   "metadata": {},
   "outputs": [],
   "source": [
    "print('Nhóm 2: Tuổi trung bình của nhóm hành khách có giới tính male và Pclass = 2:', Age_mean_male_2)"
   ]
  },
  {
   "cell_type": "code",
   "execution_count": null,
   "metadata": {},
   "outputs": [],
   "source": [
    "#Nhóm 3:\n",
    "df_male_3 =  df_data[(df_data['Sex']=='male') & (df_data['Pclass']==3)]\n",
    "Age_mean_male_3 = round(df_male_3['Age'].mean(),0)\n",
    "df_data.loc[(df_data['Sex']=='male') & (df_data['Pclass']==3) & (df_data['Age'].isnull()),\\\n",
    "            'Age'] = Age_mean_male_3"
   ]
  },
  {
   "cell_type": "code",
   "execution_count": null,
   "metadata": {},
   "outputs": [],
   "source": [
    "print('Nhóm 3: Tuổi trung bình của nhóm hành khách có giới tính sex = male và Pclass = 3:', Age_mean_male_3)"
   ]
  },
  {
   "cell_type": "code",
   "execution_count": null,
   "metadata": {},
   "outputs": [],
   "source": [
    "#Nhóm 4:\n",
    "df_female_1 =  df_data[(df_data['Sex']=='female') & (df_data['Pclass']==1)]\n",
    "Age_mean_female_1 = round(df_female_1['Age'].mean(),0)\n",
    "df_data.loc[(df_data['Sex']=='female') & (df_data['Pclass']==1) & (df_data['Age'].isnull()),\\\n",
    "            'Age'] = Age_mean_female_1"
   ]
  },
  {
   "cell_type": "code",
   "execution_count": null,
   "metadata": {},
   "outputs": [],
   "source": [
    "print('Nhóm 4: Tuổi trung bình của nhóm hành khách có giới tính sex = female và Pclass = 1:', Age_mean_female_1)"
   ]
  },
  {
   "cell_type": "code",
   "execution_count": null,
   "metadata": {},
   "outputs": [],
   "source": [
    "#Nhóm 5:\n",
    "df_female_2 =  df_data[(df_data['Sex']=='female') & (df_data['Pclass']==2)]\n",
    "Age_mean_female_2 = round(df_female_2['Age'].mean(),0)\n",
    "df_data.loc[(df_data['Sex']=='female') & (df_data['Pclass']==2) & (df_data['Age'].isnull()),\\\n",
    "            'Age'] = Age_mean_female_2"
   ]
  },
  {
   "cell_type": "code",
   "execution_count": null,
   "metadata": {},
   "outputs": [],
   "source": [
    "print('Nhóm 5: Tuổi trung bình của nhóm hành khách có giới tính sex = female và Pclass = 2:', Age_mean_female_2)"
   ]
  },
  {
   "cell_type": "code",
   "execution_count": null,
   "metadata": {},
   "outputs": [],
   "source": [
    "#Nhóm 6:\n",
    "df_female_3 =  df_data[(df_data['Sex']=='female') & (df_data['Pclass']==3)]\n",
    "Age_mean_female_3 = round(df_female_3['Age'].mean(),0)\n",
    "df_data.loc[(df_data['Sex']=='female') & (df_data['Pclass']==3) & (df_data['Age'].isnull()),\\\n",
    "            'Age'] = Age_mean_female_3"
   ]
  },
  {
   "cell_type": "code",
   "execution_count": null,
   "metadata": {},
   "outputs": [],
   "source": [
    "print('Nhóm 6: Tuổi trung bình của nhóm hành khách có giới tính sex = female và Pclass = 3:', Age_mean_female_3)"
   ]
  },
  {
   "cell_type": "markdown",
   "metadata": {},
   "source": [
    "**DỮ LIỆU SAU KHI XỬ LÝ MISSING:**"
   ]
  },
  {
   "cell_type": "code",
   "execution_count": null,
   "metadata": {},
   "outputs": [],
   "source": [
    "missing_values(df_data)"
   ]
  },
  {
   "cell_type": "markdown",
   "metadata": {},
   "source": [
    "### 3.3) Rời rạc hóa dữ liệu\n",
    "---"
   ]
  },
  {
   "cell_type": "code",
   "execution_count": null,
   "metadata": {},
   "outputs": [],
   "source": [
    "#Tính tỷ lệ được cứu của hành khách theo từng khoảng tuổi:\n",
    "n=5\n",
    "df_temp = df_data.copy()\n",
    "df_temp['AgeBand'] = pd.cut(df_temp['Age'], n)\n",
    "\n",
    "df_temp[['AgeBand', 'Survived']].groupby(['AgeBand'], as_index=False).mean().sort_values(by='AgeBand', ascending=True)"
   ]
  },
  {
   "cell_type": "markdown",
   "metadata": {},
   "source": [
    "**Ta thấy rằng, tỷ lệ được cứu của hành khách có quan hệ theo độ tuổi, người già và trẻ em có tỷ lệ được cứu cao. Thực hiện chia dữ liệu độ tuổi theo từng đoạn**\n",
    "\n",
    "* Dưới 16 tuổi     :   có tỷ lệ cứu sống cao nhất (52.2%)\n",
    "* Từ 48 --> 64 tuổi:   có tỷ lệ cứu sống cao thứ nhì (42.5%)\n",
    "* Từ 32 --> 48 tuổi:   có tỷ lệ cứu sống cao thứ ba (39.9%)\n",
    "* Từ 16 --> 32 tuổi:   có tỷ lệ cứu sống cao thứ tư (34%)\n",
    "* Trên 64 tuổi     :   có tỷ lệ cứu sống thấp nhất (15.4%)"
   ]
  },
  {
   "cell_type": "code",
   "execution_count": null,
   "metadata": {},
   "outputs": [],
   "source": [
    "df_temp"
   ]
  },
  {
   "cell_type": "markdown",
   "metadata": {},
   "source": [
    "**Thay thế tuổi tuyệt đối của hành khách bằng khoảng mà tuổi thuộc vào:**\n",
    "* Dưới 16 tuổi        :   --> Age = 0\n",
    "* Từ 16 --> 32 tuổi:   --> Age = 1\n",
    "* Từ 32 --> 48 tuổi:   --> Age = 2\n",
    "* Từ 48 --> 64 tuổi:   --> Age = 3\n",
    "* Trên 64 tuổi        :   --> Age = 4"
   ]
  },
  {
   "cell_type": "code",
   "execution_count": null,
   "metadata": {},
   "outputs": [],
   "source": [
    "df_data.loc[ df_data['Age'] <= 16, 'Age'] = 0\n",
    "df_data.loc[(df_data['Age'] > 16) & (df_data['Age'] <= 32), 'Age'] = 1\n",
    "df_data.loc[(df_data['Age'] > 32) & (df_data['Age'] <= 48), 'Age'] = 2\n",
    "df_data.loc[(df_data['Age'] > 48) & (df_data['Age'] <= 64), 'Age'] = 3\n",
    "df_data.loc[ df_data['Age'] > 64, 'Age'] = 4"
   ]
  },
  {
   "cell_type": "code",
   "execution_count": null,
   "metadata": {},
   "outputs": [],
   "source": [
    "df_data"
   ]
  },
  {
   "cell_type": "code",
   "execution_count": null,
   "metadata": {},
   "outputs": [],
   "source": [
    "#Ép Age sang kiểu dữ liệu số nguyên\n",
    "df_data['Age'] = df_data['Age'].astype(int)\n",
    "df_data.head()"
   ]
  },
  {
   "cell_type": "markdown",
   "metadata": {
    "id": "xuLa3WmifOb0"
   },
   "source": [
    "### 3.4) Chuyển đổi dữ liệu thuộc tính sang dạng số\n",
    "----\n",
    "Một số thuộc tính của tập dữ liệu không phải dữ liệu số, trong bước này sẽ thực hiện chuyển đổi các dữ liệu Catagorical về dạng số để cho vào mô hình học máy.\n",
    "\n",
    "Các thuộc tính cần chuyển đổi bao gồm:\n",
    "* Sex \n",
    "* Embarked"
   ]
  },
  {
   "cell_type": "code",
   "execution_count": null,
   "metadata": {
    "colab": {
     "base_uri": "https://localhost:8080/",
     "height": 195
    },
    "id": "6ONeQLVye6o2",
    "outputId": "315ec0de-dedf-4c44-ac4e-d3234ba47244"
   },
   "outputs": [],
   "source": [
    "#Chuyển đổi thuộc tính Sex về dạng số nguyên (int)\n",
    "# trong đó: Female = 1; Male = 0\n",
    "\n",
    "df_data['Sex'] = df_data['Sex'].map( {'male': 0, 'female': 1} ).astype(int)\n",
    "\n",
    "#Hiển thị dữ liệu 5 mẫu đầu tiên trong tập dữ liệu Train sau khi đã chuyển đổi.\n",
    "df_data.head()"
   ]
  },
  {
   "cell_type": "code",
   "execution_count": null,
   "metadata": {
    "colab": {
     "base_uri": "https://localhost:8080/",
     "height": 195
    },
    "id": "spU1oIEYgtPw",
    "outputId": "ec0630ca-431f-4559-c1f9-202b3e8dcddf"
   },
   "outputs": [],
   "source": [
    "#Chuyển đổi thuộc tính Embarked về dạng số nguyên (int)\n",
    "# Trong đó: S = 0, C = 1, Q = 2\n",
    "df_data['Embarked'] = df_data['Embarked'].map( {'S': 0, 'C': 1, 'Q': 2} ).astype(int)\n",
    "df_data.head()"
   ]
  },
  {
   "cell_type": "markdown",
   "metadata": {
    "id": "5dVTHDxJv5JW"
   },
   "source": [
    "### 3.5) Lưu dữ liệu sau khi đã xử lý ra file .csv\n",
    "---\n",
    "Lưu dữ liệu sau khi đã chuẩn hóa ra file: Data_Titanic_ok.csv"
   ]
  },
  {
   "cell_type": "code",
   "execution_count": null,
   "metadata": {},
   "outputs": [],
   "source": [
    "df_data.to_csv('Data_Titanic_ok.csv',index=None)"
   ]
  },
  {
   "cell_type": "code",
   "execution_count": null,
   "metadata": {},
   "outputs": [],
   "source": []
  },
  {
   "cell_type": "markdown",
   "metadata": {},
   "source": [
    "# THỰC HÀNH 4\n",
    "---\n",
    "**Mô tả tập dữ liệu:**\n",
    "\n",
    "Tập dữ liệu Data_practice4 chứa dữ liệu của 961 bệnh nhân bị u vú.\n",
    "\n",
    "Mỗi bản ghi tương ứng với một bệnh nhân, Bao gồm 6 thuộc tính:\n",
    "1. PatienID: Thuộc tính cho biết mã số của bệnh nhân\n",
    "2. Age: Thuộc tính cho biết tuổi của bệnh nhân, dữ liệu số [18-96 tuổi]\n",
    "3. Shape: Thuộc tính cho biết hình dạng của khối u, bao gồm 4 giá trị: Round, Oval, Lobular, Irregular\n",
    "4. Margin: Thuộc tính cho biết dạng đường biên của khối u, bao gồm 5 giá trị: Circumscribed, Microlobulated, Obscured, ill-defined, Spiculated\n",
    "5. Density: Thuộc tính cho biết mật độ của khối u, bao gồm 4 giá trị: High, Iso, Low, Fat-containing\n",
    "6. Target: Thuộc tính cho biết khối u là lành tính (0) - hay ác tính (1)"
   ]
  },
  {
   "cell_type": "markdown",
   "metadata": {},
   "source": [
    "**Yêu cầu 4.1:**\n",
    "Đọc tập dữ liệu Data_Practice4.csv vào biến DataFrame, hiển thị thông tin của biến, 5 bản ghi đầu tiên và thống kê dữ liệu.\n"
   ]
  },
  {
   "cell_type": "code",
   "execution_count": null,
   "metadata": {},
   "outputs": [],
   "source": [
    "#{HỌC VIÊN VIẾT CODE VÀO ĐÂY!}\n",
    "\n",
    "\n",
    "\n",
    "\n",
    "\n",
    "\n"
   ]
  },
  {
   "cell_type": "code",
   "execution_count": null,
   "metadata": {},
   "outputs": [],
   "source": []
  },
  {
   "cell_type": "markdown",
   "metadata": {},
   "source": [
    "**Yêu cầu 4.2:**\n",
    "Thông kê dữ liệu missing cho từng thuộc tính, và liệt kê ra các bản ghi bị missing tương ứng với thuộc tính đó."
   ]
  },
  {
   "cell_type": "code",
   "execution_count": null,
   "metadata": {},
   "outputs": [],
   "source": [
    "#{HỌC VIÊN VIẾT CODE VÀO ĐÂY!}\n",
    "\n",
    "\n",
    "\n",
    "\n",
    "\n",
    "\n"
   ]
  },
  {
   "cell_type": "code",
   "execution_count": null,
   "metadata": {},
   "outputs": [],
   "source": []
  },
  {
   "cell_type": "markdown",
   "metadata": {},
   "source": [
    "**Yêu cầu 4.3:** Phân tích, thống kê - xác định mức độ ảnh hưởng của các thuộc tính độc lập [Age, Shape, Margin, Density] tới thuộc tính phụ thuộc [Target] "
   ]
  },
  {
   "cell_type": "code",
   "execution_count": null,
   "metadata": {},
   "outputs": [],
   "source": [
    "#{HỌC VIÊN VIẾT CODE VÀO ĐÂY!}\n",
    "\n",
    "\n",
    "\n",
    "\n",
    "\n",
    "\n"
   ]
  },
  {
   "cell_type": "code",
   "execution_count": null,
   "metadata": {},
   "outputs": [],
   "source": []
  },
  {
   "cell_type": "markdown",
   "metadata": {},
   "source": [
    "**Yêu cầu 4.4:** Đề xuất và Áp dụng các kỹ chuẩn hóa, tiền xử lý dữ liệu phù hợp cho tập dữ liệu này để có thể đưa vào các mô hình học máy và lưu kết quả dữ liệu sau xử lý ra file Data_Practice4_ok.csv \n"
   ]
  },
  {
   "cell_type": "code",
   "execution_count": null,
   "metadata": {},
   "outputs": [],
   "source": [
    "#{HỌC VIÊN VIẾT CODE VÀO ĐÂY!}\n",
    "\n",
    "\n",
    "\n",
    "\n",
    "\n",
    "\n"
   ]
  },
  {
   "cell_type": "code",
   "execution_count": null,
   "metadata": {},
   "outputs": [],
   "source": []
  },
  {
   "cell_type": "code",
   "execution_count": null,
   "metadata": {},
   "outputs": [],
   "source": []
  }
 ],
 "metadata": {
  "colab": {
   "collapsed_sections": [
    "tv__XfRLHtBf",
    "Wx9ciaKgyTW5",
    "M7iLGnc4WMs3",
    "Mw03rdzH9GnV",
    "Q3teCO6P_PFX",
    "xuLa3WmifOb0",
    "5dVTHDxJv5JW"
   ],
   "name": "Project2_TitanicDisaster",
   "provenance": [],
   "toc_visible": true
  },
  "kernelspec": {
   "display_name": "Python 3",
   "language": "python",
   "name": "python3"
  },
  "language_info": {
   "codemirror_mode": {
    "name": "ipython",
    "version": 3
   },
   "file_extension": ".py",
   "mimetype": "text/x-python",
   "name": "python",
   "nbconvert_exporter": "python",
   "pygments_lexer": "ipython3",
   "version": "3.8.8"
  }
 },
 "nbformat": 4,
 "nbformat_minor": 1
}
