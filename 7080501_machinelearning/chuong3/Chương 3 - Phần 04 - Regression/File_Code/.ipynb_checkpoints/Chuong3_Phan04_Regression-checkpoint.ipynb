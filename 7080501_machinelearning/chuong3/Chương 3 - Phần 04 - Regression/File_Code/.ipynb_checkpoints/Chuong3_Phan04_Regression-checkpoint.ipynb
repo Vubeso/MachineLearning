{
 "cells": [
  {
   "cell_type": "markdown",
   "metadata": {},
   "source": [
    "<h2 align='center'> MÔN HỌC: KỸ NGHỆ TRI THỨC VÀ HỌC MÁY (7080510) </h2>\n",
    "\n",
    "---\n",
    "* Giảng viên: Đặng Văn Nam\n",
    "* Email: dangvannam@humg.edu.n\n",
    "\n",
    "---\n",
    "* Họ tên sinh viên:\n",
    "* Mã sinh viên:\n",
    "* Lớp/Nhóm môn học:\n",
    "* Email:\n",
    "\n",
    "---\n",
    "\n",
    "### CHƯƠNG 3: HỌC CÓ GIÁM SÁT (SUPERVISED LEARNING) - PHẦN 04\n",
    "---\n",
    "Một thuật toán học máy được gọi là học có giám sát (supervised learning) nếu việc xây dựng mô hình dự đoán mối quan hệ giữa đầu vào và đầu ra được thực hiện dựa trên các cặp (đầu vào - input, đầu ra - label) đã biết trong tập huấn luyện. Đây là nhóm thuật toán phổ biến nhất trong các thuật toán machine learning.\n",
    "\n",
    "Tập dữ liệu học (Training data) bao gồm các quan sát (Examples, Observations), mà mỗi quan sát được gắn kèm với một giá trị đầu ra mong muốn (Label)\n",
    "<img src='pic/label.png' width='600px'>\n",
    "\n",
    "Học có giám sát bao gồm 2 loại:\n",
    "* Phân loại (Classification): Nếu nhãn (y – Target) thuộc tập rời rạc và hữu hạn\n",
    "* Hồi quy (Regression): Nếu nhãn (y – Target) là biến liên tục (các số thực) ví dụ như dự báo nhiệt độ, giá nhà, mức tiêu thụ điện năng…\n",
    "\n",
    "<img src='pic/type.png' width='400px' heith='300px'>"
   ]
  },
  {
   "cell_type": "markdown",
   "metadata": {},
   "source": [
    "# B| Hồi quy (Regression)"
   ]
  },
  {
   "cell_type": "markdown",
   "metadata": {},
   "source": [
    "## I) THUẬT TOÁN HỒI QUY TUYẾN TÍNH (Linear Regression)\n",
    "---\n",
    "<img src='pic/linear.png' width='400px'>\n",
    "\n",
    "\n"
   ]
  },
  {
   "cell_type": "markdown",
   "metadata": {},
   "source": [
    "## VÍ DỤ :\n",
    "## DỰ ĐOÁN GIÁ NHÀ\n",
    "---\n",
    "Tập dữ liệu bao gồm 506 mẫu về các thông số của một căn hộ và giá bán căn hộ đó. Các thông số bao gồm:\n",
    "\n",
    "1. CRIM: Tỷ lệ tội phạm bình quân đầu người trong thị trấn.\n",
    "2. ZN: Tỷ lệ đất quy hoạch cho các khu vực trện 20.000 feet vuông.\n",
    "3. INDUS: Tỷ lệ diện tích kinh doanh phi bán lẻ trên mỗi thị trấn\n",
    "4. CHAS: Căn hộ có gần sông không (1-Gần sông | 0 - Không gần sông)\n",
    "5. NOX: Nồng độ Oxit Nitric trong khu vực \n",
    "6. RM: Số phòng trung bình của mỗi ngôi nhà.\n",
    "7. AGE: Tỷ lệ các căn hộ có chủ sở hữu được xây dựng trước năm 1940\n",
    "8. DIS: Khoảng cách có trọng số tới 5 trung tâm việc làm Boston\n",
    "9. RAD: Chỉ số khả năng tiếp cận các đường cao tốc hướng tâm.\n",
    "10. TAX: Thuế xuất bất động sản (/$10.000)\n",
    "11. PTRATIO: Tỷ lệ học sinh - Giáo viên của thị trấn\n",
    "12. B: Tỷ lệ người da màu trong thị trấn.\n",
    "13. LSTAT: Phần trăm dân số có mức thấp hơn mức trung bình\n",
    "\n",
    "--------------------------------------\n",
    "Target: MEDV - Giá trị trung bình của ngồi nhà (x$1000)\n",
    "\n",
    "<img src='pic/pricehouse.png' width='400px'>"
   ]
  },
  {
   "cell_type": "markdown",
   "metadata": {},
   "source": [
    "### A. Chuẩn bị dữ liệu\n",
    "---\n",
    "Đọc dữ liệu mẫu từ Dataset của Sklearn vào Dataframe:"
   ]
  },
  {
   "cell_type": "code",
   "execution_count": 1,
   "metadata": {},
   "outputs": [
    {
     "name": "stdout",
     "output_type": "stream",
     "text": [
      "<class 'pandas.core.frame.DataFrame'>\n",
      "RangeIndex: 506 entries, 0 to 505\n",
      "Data columns (total 14 columns):\n",
      " #   Column   Non-Null Count  Dtype  \n",
      "---  ------   --------------  -----  \n",
      " 0   CRIM     506 non-null    float64\n",
      " 1   ZN       506 non-null    float64\n",
      " 2   INDUS    506 non-null    float64\n",
      " 3   CHAS     506 non-null    float64\n",
      " 4   NOX      506 non-null    float64\n",
      " 5   RM       506 non-null    float64\n",
      " 6   AGE      506 non-null    float64\n",
      " 7   DIS      506 non-null    float64\n",
      " 8   RAD      506 non-null    float64\n",
      " 9   TAX      506 non-null    float64\n",
      " 10  PTRATIO  506 non-null    float64\n",
      " 11  B        506 non-null    float64\n",
      " 12  LSTAT    506 non-null    float64\n",
      " 13  MEDV     506 non-null    float64\n",
      "dtypes: float64(14)\n",
      "memory usage: 55.5 KB\n"
     ]
    }
   ],
   "source": [
    "#Load dữ liệu từ datasets:\n",
    "import pandas as pd\n",
    "from sklearn.datasets import load_boston\n",
    "boston = load_boston()\n",
    "df_boston = pd.DataFrame(boston.data, columns=boston.feature_names)\n",
    "df_boston[\"MEDV\"] = boston.target\n",
    "df_boston.info()"
   ]
  },
  {
   "cell_type": "code",
   "execution_count": 2,
   "metadata": {},
   "outputs": [
    {
     "data": {
      "text/html": [
       "<div>\n",
       "<style scoped>\n",
       "    .dataframe tbody tr th:only-of-type {\n",
       "        vertical-align: middle;\n",
       "    }\n",
       "\n",
       "    .dataframe tbody tr th {\n",
       "        vertical-align: top;\n",
       "    }\n",
       "\n",
       "    .dataframe thead th {\n",
       "        text-align: right;\n",
       "    }\n",
       "</style>\n",
       "<table border=\"1\" class=\"dataframe\">\n",
       "  <thead>\n",
       "    <tr style=\"text-align: right;\">\n",
       "      <th></th>\n",
       "      <th>CRIM</th>\n",
       "      <th>ZN</th>\n",
       "      <th>INDUS</th>\n",
       "      <th>CHAS</th>\n",
       "      <th>NOX</th>\n",
       "      <th>RM</th>\n",
       "      <th>AGE</th>\n",
       "      <th>DIS</th>\n",
       "      <th>RAD</th>\n",
       "      <th>TAX</th>\n",
       "      <th>PTRATIO</th>\n",
       "      <th>B</th>\n",
       "      <th>LSTAT</th>\n",
       "      <th>MEDV</th>\n",
       "    </tr>\n",
       "  </thead>\n",
       "  <tbody>\n",
       "    <tr>\n",
       "      <th>0</th>\n",
       "      <td>0.00632</td>\n",
       "      <td>18.0</td>\n",
       "      <td>2.31</td>\n",
       "      <td>0.0</td>\n",
       "      <td>0.538</td>\n",
       "      <td>6.575</td>\n",
       "      <td>65.2</td>\n",
       "      <td>4.0900</td>\n",
       "      <td>1.0</td>\n",
       "      <td>296.0</td>\n",
       "      <td>15.3</td>\n",
       "      <td>396.90</td>\n",
       "      <td>4.98</td>\n",
       "      <td>24.0</td>\n",
       "    </tr>\n",
       "    <tr>\n",
       "      <th>1</th>\n",
       "      <td>0.02731</td>\n",
       "      <td>0.0</td>\n",
       "      <td>7.07</td>\n",
       "      <td>0.0</td>\n",
       "      <td>0.469</td>\n",
       "      <td>6.421</td>\n",
       "      <td>78.9</td>\n",
       "      <td>4.9671</td>\n",
       "      <td>2.0</td>\n",
       "      <td>242.0</td>\n",
       "      <td>17.8</td>\n",
       "      <td>396.90</td>\n",
       "      <td>9.14</td>\n",
       "      <td>21.6</td>\n",
       "    </tr>\n",
       "    <tr>\n",
       "      <th>2</th>\n",
       "      <td>0.02729</td>\n",
       "      <td>0.0</td>\n",
       "      <td>7.07</td>\n",
       "      <td>0.0</td>\n",
       "      <td>0.469</td>\n",
       "      <td>7.185</td>\n",
       "      <td>61.1</td>\n",
       "      <td>4.9671</td>\n",
       "      <td>2.0</td>\n",
       "      <td>242.0</td>\n",
       "      <td>17.8</td>\n",
       "      <td>392.83</td>\n",
       "      <td>4.03</td>\n",
       "      <td>34.7</td>\n",
       "    </tr>\n",
       "    <tr>\n",
       "      <th>3</th>\n",
       "      <td>0.03237</td>\n",
       "      <td>0.0</td>\n",
       "      <td>2.18</td>\n",
       "      <td>0.0</td>\n",
       "      <td>0.458</td>\n",
       "      <td>6.998</td>\n",
       "      <td>45.8</td>\n",
       "      <td>6.0622</td>\n",
       "      <td>3.0</td>\n",
       "      <td>222.0</td>\n",
       "      <td>18.7</td>\n",
       "      <td>394.63</td>\n",
       "      <td>2.94</td>\n",
       "      <td>33.4</td>\n",
       "    </tr>\n",
       "    <tr>\n",
       "      <th>4</th>\n",
       "      <td>0.06905</td>\n",
       "      <td>0.0</td>\n",
       "      <td>2.18</td>\n",
       "      <td>0.0</td>\n",
       "      <td>0.458</td>\n",
       "      <td>7.147</td>\n",
       "      <td>54.2</td>\n",
       "      <td>6.0622</td>\n",
       "      <td>3.0</td>\n",
       "      <td>222.0</td>\n",
       "      <td>18.7</td>\n",
       "      <td>396.90</td>\n",
       "      <td>5.33</td>\n",
       "      <td>36.2</td>\n",
       "    </tr>\n",
       "  </tbody>\n",
       "</table>\n",
       "</div>"
      ],
      "text/plain": [
       "      CRIM    ZN  INDUS  CHAS    NOX     RM   AGE     DIS  RAD    TAX  \\\n",
       "0  0.00632  18.0   2.31   0.0  0.538  6.575  65.2  4.0900  1.0  296.0   \n",
       "1  0.02731   0.0   7.07   0.0  0.469  6.421  78.9  4.9671  2.0  242.0   \n",
       "2  0.02729   0.0   7.07   0.0  0.469  7.185  61.1  4.9671  2.0  242.0   \n",
       "3  0.03237   0.0   2.18   0.0  0.458  6.998  45.8  6.0622  3.0  222.0   \n",
       "4  0.06905   0.0   2.18   0.0  0.458  7.147  54.2  6.0622  3.0  222.0   \n",
       "\n",
       "   PTRATIO       B  LSTAT  MEDV  \n",
       "0     15.3  396.90   4.98  24.0  \n",
       "1     17.8  396.90   9.14  21.6  \n",
       "2     17.8  392.83   4.03  34.7  \n",
       "3     18.7  394.63   2.94  33.4  \n",
       "4     18.7  396.90   5.33  36.2  "
      ]
     },
     "execution_count": 2,
     "metadata": {},
     "output_type": "execute_result"
    }
   ],
   "source": [
    "#Hiển thị 5 dòng dữ liệu đầu tiên:\n",
    "df_boston.head()"
   ]
  },
  {
   "cell_type": "code",
   "execution_count": 3,
   "metadata": {},
   "outputs": [
    {
     "data": {
      "text/html": [
       "<div>\n",
       "<style scoped>\n",
       "    .dataframe tbody tr th:only-of-type {\n",
       "        vertical-align: middle;\n",
       "    }\n",
       "\n",
       "    .dataframe tbody tr th {\n",
       "        vertical-align: top;\n",
       "    }\n",
       "\n",
       "    .dataframe thead th {\n",
       "        text-align: right;\n",
       "    }\n",
       "</style>\n",
       "<table border=\"1\" class=\"dataframe\">\n",
       "  <thead>\n",
       "    <tr style=\"text-align: right;\">\n",
       "      <th></th>\n",
       "      <th>CRIM</th>\n",
       "      <th>ZN</th>\n",
       "      <th>INDUS</th>\n",
       "      <th>CHAS</th>\n",
       "      <th>NOX</th>\n",
       "      <th>RM</th>\n",
       "      <th>AGE</th>\n",
       "      <th>DIS</th>\n",
       "      <th>RAD</th>\n",
       "      <th>TAX</th>\n",
       "      <th>PTRATIO</th>\n",
       "      <th>B</th>\n",
       "      <th>LSTAT</th>\n",
       "      <th>MEDV</th>\n",
       "    </tr>\n",
       "  </thead>\n",
       "  <tbody>\n",
       "    <tr>\n",
       "      <th>501</th>\n",
       "      <td>0.06263</td>\n",
       "      <td>0.0</td>\n",
       "      <td>11.93</td>\n",
       "      <td>0.0</td>\n",
       "      <td>0.573</td>\n",
       "      <td>6.593</td>\n",
       "      <td>69.1</td>\n",
       "      <td>2.4786</td>\n",
       "      <td>1.0</td>\n",
       "      <td>273.0</td>\n",
       "      <td>21.0</td>\n",
       "      <td>391.99</td>\n",
       "      <td>9.67</td>\n",
       "      <td>22.4</td>\n",
       "    </tr>\n",
       "    <tr>\n",
       "      <th>502</th>\n",
       "      <td>0.04527</td>\n",
       "      <td>0.0</td>\n",
       "      <td>11.93</td>\n",
       "      <td>0.0</td>\n",
       "      <td>0.573</td>\n",
       "      <td>6.120</td>\n",
       "      <td>76.7</td>\n",
       "      <td>2.2875</td>\n",
       "      <td>1.0</td>\n",
       "      <td>273.0</td>\n",
       "      <td>21.0</td>\n",
       "      <td>396.90</td>\n",
       "      <td>9.08</td>\n",
       "      <td>20.6</td>\n",
       "    </tr>\n",
       "    <tr>\n",
       "      <th>503</th>\n",
       "      <td>0.06076</td>\n",
       "      <td>0.0</td>\n",
       "      <td>11.93</td>\n",
       "      <td>0.0</td>\n",
       "      <td>0.573</td>\n",
       "      <td>6.976</td>\n",
       "      <td>91.0</td>\n",
       "      <td>2.1675</td>\n",
       "      <td>1.0</td>\n",
       "      <td>273.0</td>\n",
       "      <td>21.0</td>\n",
       "      <td>396.90</td>\n",
       "      <td>5.64</td>\n",
       "      <td>23.9</td>\n",
       "    </tr>\n",
       "    <tr>\n",
       "      <th>504</th>\n",
       "      <td>0.10959</td>\n",
       "      <td>0.0</td>\n",
       "      <td>11.93</td>\n",
       "      <td>0.0</td>\n",
       "      <td>0.573</td>\n",
       "      <td>6.794</td>\n",
       "      <td>89.3</td>\n",
       "      <td>2.3889</td>\n",
       "      <td>1.0</td>\n",
       "      <td>273.0</td>\n",
       "      <td>21.0</td>\n",
       "      <td>393.45</td>\n",
       "      <td>6.48</td>\n",
       "      <td>22.0</td>\n",
       "    </tr>\n",
       "    <tr>\n",
       "      <th>505</th>\n",
       "      <td>0.04741</td>\n",
       "      <td>0.0</td>\n",
       "      <td>11.93</td>\n",
       "      <td>0.0</td>\n",
       "      <td>0.573</td>\n",
       "      <td>6.030</td>\n",
       "      <td>80.8</td>\n",
       "      <td>2.5050</td>\n",
       "      <td>1.0</td>\n",
       "      <td>273.0</td>\n",
       "      <td>21.0</td>\n",
       "      <td>396.90</td>\n",
       "      <td>7.88</td>\n",
       "      <td>11.9</td>\n",
       "    </tr>\n",
       "  </tbody>\n",
       "</table>\n",
       "</div>"
      ],
      "text/plain": [
       "        CRIM   ZN  INDUS  CHAS    NOX     RM   AGE     DIS  RAD    TAX  \\\n",
       "501  0.06263  0.0  11.93   0.0  0.573  6.593  69.1  2.4786  1.0  273.0   \n",
       "502  0.04527  0.0  11.93   0.0  0.573  6.120  76.7  2.2875  1.0  273.0   \n",
       "503  0.06076  0.0  11.93   0.0  0.573  6.976  91.0  2.1675  1.0  273.0   \n",
       "504  0.10959  0.0  11.93   0.0  0.573  6.794  89.3  2.3889  1.0  273.0   \n",
       "505  0.04741  0.0  11.93   0.0  0.573  6.030  80.8  2.5050  1.0  273.0   \n",
       "\n",
       "     PTRATIO       B  LSTAT  MEDV  \n",
       "501     21.0  391.99   9.67  22.4  \n",
       "502     21.0  396.90   9.08  20.6  \n",
       "503     21.0  396.90   5.64  23.9  \n",
       "504     21.0  393.45   6.48  22.0  \n",
       "505     21.0  396.90   7.88  11.9  "
      ]
     },
     "execution_count": 3,
     "metadata": {},
     "output_type": "execute_result"
    }
   ],
   "source": [
    "#Hiển thị 5 dòng dữ liệu cuối cùng:\n",
    "df_boston.tail()"
   ]
  },
  {
   "cell_type": "code",
   "execution_count": 4,
   "metadata": {},
   "outputs": [
    {
     "data": {
      "text/html": [
       "<div>\n",
       "<style scoped>\n",
       "    .dataframe tbody tr th:only-of-type {\n",
       "        vertical-align: middle;\n",
       "    }\n",
       "\n",
       "    .dataframe tbody tr th {\n",
       "        vertical-align: top;\n",
       "    }\n",
       "\n",
       "    .dataframe thead th {\n",
       "        text-align: right;\n",
       "    }\n",
       "</style>\n",
       "<table border=\"1\" class=\"dataframe\">\n",
       "  <thead>\n",
       "    <tr style=\"text-align: right;\">\n",
       "      <th></th>\n",
       "      <th>CRIM</th>\n",
       "      <th>ZN</th>\n",
       "      <th>INDUS</th>\n",
       "      <th>CHAS</th>\n",
       "      <th>NOX</th>\n",
       "      <th>RM</th>\n",
       "      <th>AGE</th>\n",
       "      <th>DIS</th>\n",
       "      <th>RAD</th>\n",
       "      <th>TAX</th>\n",
       "      <th>PTRATIO</th>\n",
       "      <th>B</th>\n",
       "      <th>LSTAT</th>\n",
       "    </tr>\n",
       "  </thead>\n",
       "  <tbody>\n",
       "    <tr>\n",
       "      <th>count</th>\n",
       "      <td>506.000000</td>\n",
       "      <td>506.000000</td>\n",
       "      <td>506.000000</td>\n",
       "      <td>506.000000</td>\n",
       "      <td>506.000000</td>\n",
       "      <td>506.000000</td>\n",
       "      <td>506.000000</td>\n",
       "      <td>506.000000</td>\n",
       "      <td>506.000000</td>\n",
       "      <td>506.000000</td>\n",
       "      <td>506.000000</td>\n",
       "      <td>506.000000</td>\n",
       "      <td>506.000000</td>\n",
       "    </tr>\n",
       "    <tr>\n",
       "      <th>mean</th>\n",
       "      <td>3.613524</td>\n",
       "      <td>11.363636</td>\n",
       "      <td>11.136779</td>\n",
       "      <td>0.069170</td>\n",
       "      <td>0.554695</td>\n",
       "      <td>6.284634</td>\n",
       "      <td>68.574901</td>\n",
       "      <td>3.795043</td>\n",
       "      <td>9.549407</td>\n",
       "      <td>408.237154</td>\n",
       "      <td>18.455534</td>\n",
       "      <td>356.674032</td>\n",
       "      <td>12.653063</td>\n",
       "    </tr>\n",
       "    <tr>\n",
       "      <th>std</th>\n",
       "      <td>8.601545</td>\n",
       "      <td>23.322453</td>\n",
       "      <td>6.860353</td>\n",
       "      <td>0.253994</td>\n",
       "      <td>0.115878</td>\n",
       "      <td>0.702617</td>\n",
       "      <td>28.148861</td>\n",
       "      <td>2.105710</td>\n",
       "      <td>8.707259</td>\n",
       "      <td>168.537116</td>\n",
       "      <td>2.164946</td>\n",
       "      <td>91.294864</td>\n",
       "      <td>7.141062</td>\n",
       "    </tr>\n",
       "    <tr>\n",
       "      <th>min</th>\n",
       "      <td>0.006320</td>\n",
       "      <td>0.000000</td>\n",
       "      <td>0.460000</td>\n",
       "      <td>0.000000</td>\n",
       "      <td>0.385000</td>\n",
       "      <td>3.561000</td>\n",
       "      <td>2.900000</td>\n",
       "      <td>1.129600</td>\n",
       "      <td>1.000000</td>\n",
       "      <td>187.000000</td>\n",
       "      <td>12.600000</td>\n",
       "      <td>0.320000</td>\n",
       "      <td>1.730000</td>\n",
       "    </tr>\n",
       "    <tr>\n",
       "      <th>25%</th>\n",
       "      <td>0.082045</td>\n",
       "      <td>0.000000</td>\n",
       "      <td>5.190000</td>\n",
       "      <td>0.000000</td>\n",
       "      <td>0.449000</td>\n",
       "      <td>5.885500</td>\n",
       "      <td>45.025000</td>\n",
       "      <td>2.100175</td>\n",
       "      <td>4.000000</td>\n",
       "      <td>279.000000</td>\n",
       "      <td>17.400000</td>\n",
       "      <td>375.377500</td>\n",
       "      <td>6.950000</td>\n",
       "    </tr>\n",
       "    <tr>\n",
       "      <th>50%</th>\n",
       "      <td>0.256510</td>\n",
       "      <td>0.000000</td>\n",
       "      <td>9.690000</td>\n",
       "      <td>0.000000</td>\n",
       "      <td>0.538000</td>\n",
       "      <td>6.208500</td>\n",
       "      <td>77.500000</td>\n",
       "      <td>3.207450</td>\n",
       "      <td>5.000000</td>\n",
       "      <td>330.000000</td>\n",
       "      <td>19.050000</td>\n",
       "      <td>391.440000</td>\n",
       "      <td>11.360000</td>\n",
       "    </tr>\n",
       "    <tr>\n",
       "      <th>75%</th>\n",
       "      <td>3.677083</td>\n",
       "      <td>12.500000</td>\n",
       "      <td>18.100000</td>\n",
       "      <td>0.000000</td>\n",
       "      <td>0.624000</td>\n",
       "      <td>6.623500</td>\n",
       "      <td>94.075000</td>\n",
       "      <td>5.188425</td>\n",
       "      <td>24.000000</td>\n",
       "      <td>666.000000</td>\n",
       "      <td>20.200000</td>\n",
       "      <td>396.225000</td>\n",
       "      <td>16.955000</td>\n",
       "    </tr>\n",
       "    <tr>\n",
       "      <th>max</th>\n",
       "      <td>88.976200</td>\n",
       "      <td>100.000000</td>\n",
       "      <td>27.740000</td>\n",
       "      <td>1.000000</td>\n",
       "      <td>0.871000</td>\n",
       "      <td>8.780000</td>\n",
       "      <td>100.000000</td>\n",
       "      <td>12.126500</td>\n",
       "      <td>24.000000</td>\n",
       "      <td>711.000000</td>\n",
       "      <td>22.000000</td>\n",
       "      <td>396.900000</td>\n",
       "      <td>37.970000</td>\n",
       "    </tr>\n",
       "  </tbody>\n",
       "</table>\n",
       "</div>"
      ],
      "text/plain": [
       "             CRIM          ZN       INDUS        CHAS         NOX          RM  \\\n",
       "count  506.000000  506.000000  506.000000  506.000000  506.000000  506.000000   \n",
       "mean     3.613524   11.363636   11.136779    0.069170    0.554695    6.284634   \n",
       "std      8.601545   23.322453    6.860353    0.253994    0.115878    0.702617   \n",
       "min      0.006320    0.000000    0.460000    0.000000    0.385000    3.561000   \n",
       "25%      0.082045    0.000000    5.190000    0.000000    0.449000    5.885500   \n",
       "50%      0.256510    0.000000    9.690000    0.000000    0.538000    6.208500   \n",
       "75%      3.677083   12.500000   18.100000    0.000000    0.624000    6.623500   \n",
       "max     88.976200  100.000000   27.740000    1.000000    0.871000    8.780000   \n",
       "\n",
       "              AGE         DIS         RAD         TAX     PTRATIO           B  \\\n",
       "count  506.000000  506.000000  506.000000  506.000000  506.000000  506.000000   \n",
       "mean    68.574901    3.795043    9.549407  408.237154   18.455534  356.674032   \n",
       "std     28.148861    2.105710    8.707259  168.537116    2.164946   91.294864   \n",
       "min      2.900000    1.129600    1.000000  187.000000   12.600000    0.320000   \n",
       "25%     45.025000    2.100175    4.000000  279.000000   17.400000  375.377500   \n",
       "50%     77.500000    3.207450    5.000000  330.000000   19.050000  391.440000   \n",
       "75%     94.075000    5.188425   24.000000  666.000000   20.200000  396.225000   \n",
       "max    100.000000   12.126500   24.000000  711.000000   22.000000  396.900000   \n",
       "\n",
       "            LSTAT  \n",
       "count  506.000000  \n",
       "mean    12.653063  \n",
       "std      7.141062  \n",
       "min      1.730000  \n",
       "25%      6.950000  \n",
       "50%     11.360000  \n",
       "75%     16.955000  \n",
       "max     37.970000  "
      ]
     },
     "execution_count": 4,
     "metadata": {},
     "output_type": "execute_result"
    }
   ],
   "source": [
    "#Các đặc trưng thống kê của các thuộc tính độc lập (input):\n",
    "df_boston[['CRIM', 'ZN', 'INDUS', 'CHAS', 'NOX', 'RM', 'AGE', 'DIS', 'RAD', 'TAX',\n",
    "       'PTRATIO', 'B', 'LSTAT']].describe()"
   ]
  },
  {
   "cell_type": "code",
   "execution_count": 5,
   "metadata": {},
   "outputs": [
    {
     "data": {
      "text/html": [
       "<div>\n",
       "<style scoped>\n",
       "    .dataframe tbody tr th:only-of-type {\n",
       "        vertical-align: middle;\n",
       "    }\n",
       "\n",
       "    .dataframe tbody tr th {\n",
       "        vertical-align: top;\n",
       "    }\n",
       "\n",
       "    .dataframe thead th {\n",
       "        text-align: right;\n",
       "    }\n",
       "</style>\n",
       "<table border=\"1\" class=\"dataframe\">\n",
       "  <thead>\n",
       "    <tr style=\"text-align: right;\">\n",
       "      <th></th>\n",
       "      <th>MEDV</th>\n",
       "    </tr>\n",
       "  </thead>\n",
       "  <tbody>\n",
       "    <tr>\n",
       "      <th>count</th>\n",
       "      <td>506.000000</td>\n",
       "    </tr>\n",
       "    <tr>\n",
       "      <th>mean</th>\n",
       "      <td>22.532806</td>\n",
       "    </tr>\n",
       "    <tr>\n",
       "      <th>std</th>\n",
       "      <td>9.197104</td>\n",
       "    </tr>\n",
       "    <tr>\n",
       "      <th>min</th>\n",
       "      <td>5.000000</td>\n",
       "    </tr>\n",
       "    <tr>\n",
       "      <th>25%</th>\n",
       "      <td>17.025000</td>\n",
       "    </tr>\n",
       "    <tr>\n",
       "      <th>50%</th>\n",
       "      <td>21.200000</td>\n",
       "    </tr>\n",
       "    <tr>\n",
       "      <th>75%</th>\n",
       "      <td>25.000000</td>\n",
       "    </tr>\n",
       "    <tr>\n",
       "      <th>max</th>\n",
       "      <td>50.000000</td>\n",
       "    </tr>\n",
       "  </tbody>\n",
       "</table>\n",
       "</div>"
      ],
      "text/plain": [
       "             MEDV\n",
       "count  506.000000\n",
       "mean    22.532806\n",
       "std      9.197104\n",
       "min      5.000000\n",
       "25%     17.025000\n",
       "50%     21.200000\n",
       "75%     25.000000\n",
       "max     50.000000"
      ]
     },
     "execution_count": 5,
     "metadata": {},
     "output_type": "execute_result"
    }
   ],
   "source": [
    "#Quan sát các đặc trưng thống kê của Giá nhà tại Boston: Target (thuộc tính phụ thuộc)\n",
    "df_boston[['MEDV']].describe()"
   ]
  },
  {
   "cell_type": "code",
   "execution_count": 6,
   "metadata": {},
   "outputs": [
    {
     "data": {
      "image/png": "[encoded data removed]",
      "text/plain": [
       "<Figure size 720x360 with 1 Axes>"
      ]
     },
     "metadata": {
      "needs_background": "light"
     },
     "output_type": "display_data"
    }
   ],
   "source": [
    "import matplotlib.pyplot as plt\n",
    "price = df_boston[['MEDV']] #Lọc lấy dữ liệu thuộc tính giá nhà\n",
    "\n",
    "#Vẽ biểu đồ tần suất (histogram):\n",
    "plt.figure(figsize=(10,5))\n",
    "plt.hist(price, bins = 20, color='brown')\n",
    "plt.title('BIỂU ĐỒ TẦN SUẤT GIÁ BÁN CÁC CẮN NHÀ TRONG TẬP DỮ LIỆU')\n",
    "plt.xlabel('Giá nhà (1000 $)')\n",
    "plt.grid(True)\n",
    "plt.show()"
   ]
  },
  {
   "cell_type": "code",
   "execution_count": 7,
   "metadata": {
    "scrolled": true
   },
   "outputs": [
    {
     "data": {
      "image/png": "[encoded data removed]",
      "text/plain": [
       "<Figure size 720x360 with 1 Axes>"
      ]
     },
     "metadata": {},
     "output_type": "display_data"
    }
   ],
   "source": [
    "%matplotlib inline\n",
    "import warnings\n",
    "warnings.filterwarnings('ignore')\n",
    "\n",
    "#Sử dụng thư viện seaborn:\n",
    "import seaborn as sns\n",
    "sns.set(rc={'figure.figsize':(10,5)})\n",
    "sns.distplot(price, bins=30)\n",
    "plt.show()"
   ]
  },
  {
   "cell_type": "code",
   "execution_count": 8,
   "metadata": {},
   "outputs": [
    {
     "data": {
      "text/plain": [
       "<AxesSubplot:>"
      ]
     },
     "execution_count": 8,
     "metadata": {},
     "output_type": "execute_result"
    },
    {
     "data": {
      "image/png": "[encoded data removed]",
      "text/plain": [
       "<Figure size 1080x720 with 2 Axes>"
      ]
     },
     "metadata": {},
     "output_type": "display_data"
    }
   ],
   "source": [
    "#Xác định mức độ ảnh hưởng của các thuộc tính tới giá bán một căn nhà:\n",
    "#Xác định hệ số tương quan trong tập dữ liệu\n",
    "\n",
    "correlation_matrix = df_boston.corr().round(2)\n",
    "# annot = True to print the values inside the square\n",
    "sns.set(rc={'figure.figsize':(15,10)})\n",
    "sns.heatmap(data=correlation_matrix, annot=True)"
   ]
  },
  {
   "cell_type": "markdown",
   "metadata": {},
   "source": [
    "**Mức độ ảnh hưởng của 13 thuộc tính tới giá của một căn nhà 2 là khác nhau:**\n",
    "1. CRIM: Tỷ lệ tội phạm bình quân đầu người trong thị trấn (-0.39)\n",
    "2. ZN: Tỷ lệ đất quy hoạch cho các khu vực trện 20.000 feet vuông (0.36)\n",
    "3. INDUS: Tỷ lệ diện tích kinh doanh phi bán lẻ trên mỗi thị trấn (-0.48)\n",
    "4. CHAS: Căn hộ có gần sông không (1-Gần sông | 0 - Không gần sông) (0.18)\n",
    "5. NOX: Nồng độ Oxit Nitric trong khu vực (-0.43)\n",
    "6. RM: Số phòng trung bình của mỗi ngôi nhà (0.7)\n",
    "7. AGE: Tỷ lệ các căn hộ có chủ sở hữu được xây dựng trước năm 1940 (-0.38)\n",
    "8. DIS: Khoảng cách có trọng số tới 5 trung tâm việc làm Boston (0.25)\n",
    "9. RAD: Chỉ số khả năng tiếp cận các đường cao tốc hướng tâm (-0.38)\n",
    "10. TAX: Thuế xuất bất động sản (/$10.000) (-0.47)\n",
    "11. PTRATIO: Tỷ lệ học sinh - Giáo viên của thị trấn (-0.51)\n",
    "12. B: Tỷ lệ người da màu trong thị trấn (0.33)\n",
    "13. LSTAT: Phần trăm dân số có mức thấp hơn mức trung bình (-0.74)\n",
    "\n",
    "Có 2 thuộc tính ảnh hưởng mạnh nhất tới giá bán của một căn nhà:\n",
    "\n",
    "    * RM (0.7): Số phòng trung bình của một căn nhà - Tương quan thuận\n",
    "    * LSTAT (-0.74): Phần trăm dân số có mức thấp hơn mức trung bình - Tương quan nghịch"
   ]
  },
  {
   "cell_type": "code",
   "execution_count": 9,
   "metadata": {},
   "outputs": [
    {
     "data": {
      "image/png": "[encoded data removed]",
      "text/plain": [
       "<Figure size 720x360 with 1 Axes>"
      ]
     },
     "metadata": {},
     "output_type": "display_data"
    }
   ],
   "source": [
    "#Trực quan hóa dữ liệu số phòng (RM) với giá bán nhà (MEDV):\n",
    "plt.figure(figsize=(10,5))\n",
    "plt.scatter(df_boston['RM'],\n",
    "            df_boston['MEDV'],\n",
    "            marker='o', \n",
    "            color='green')\n",
    "plt.title('ĐỒ THỊ THỂ HIỆN SỐ PHÒNG (RM) VỚI GIÁ BÁN CĂN NHÀ (MEDV)')\n",
    "plt.xlabel('Số phòng trung bình (RM)')\n",
    "plt.ylabel('Giá bán căn nhà (MEDV) - 1000 $')\n",
    "plt.grid(True)\n",
    "plt.show()"
   ]
  },
  {
   "cell_type": "code",
   "execution_count": 10,
   "metadata": {},
   "outputs": [
    {
     "data": {
      "image/png": "[encoded data removed]",
      "text/plain": [
       "<Figure size 720x360 with 1 Axes>"
      ]
     },
     "metadata": {},
     "output_type": "display_data"
    }
   ],
   "source": [
    "#Trực quan hóa dữ liệu phần trăm dân số thu nhập dưới mức trung bình (LSTAT) \n",
    "#với giá bán nhà (MEDV):\n",
    "plt.figure(figsize=(10,5))\n",
    "plt.scatter(df_boston['LSTAT'],\n",
    "            df_boston['MEDV'],\n",
    "            marker='o', \n",
    "            color='Blue')\n",
    "plt.title('ĐỒ THỊ THỂ HIỆN DỮ LIỆU GIỮA LASAT VỚI MEDV')\n",
    "plt.xlabel('Phần trăm dân số có mức thu nhập dưới trung bình (LSTAT)')\n",
    "plt.ylabel('Giá bán căn nhà (MEDV) - 1000 $')\n",
    "plt.show()"
   ]
  },
  {
   "cell_type": "markdown",
   "metadata": {},
   "source": [
    "## B. Dự đoán giá nhà với mô hình hồi quy tuyến tính\n",
    "---\n",
    "1. Simple Linear Regression\n",
    "2. Multiple Linear Regression"
   ]
  },
  {
   "cell_type": "markdown",
   "metadata": {},
   "source": [
    "## 1. Hồi quy tuyến tính đơn giản ( 1 biến độc lập)\n",
    "\n",
    "<img src='pic/linear.png' width='400px'>\n",
    "\n",
    "**Hàm số:**\n",
    "$$y=w_0+w_1 x$$\n",
    "\n",
    "\n",
    "- $y$: biến phụ thuộc\n",
    "\n",
    "- $x$: biến độc lập\n",
    "\n",
    "- $w_0,w_1$: tham số của mô hình\n",
    "\n",
    "\n",
    "### Xác định giá trị của tham số mô hình\n",
    "\n",
    "- Xác định sai số ( hàm tổn thất) của mô hình.\n",
    "\n",
    "- Chọn tham số để sai số nhỏ nhất."
   ]
  },
  {
   "cell_type": "markdown",
   "metadata": {},
   "source": [
    "**Sử dụng 1 tham số số phòng để dự đoán giá nhà:**\n",
    "\n",
    "xây dựng phương trình: $$y_{MEDV} = w_0 + w_1 * x_{RM}$$"
   ]
  },
  {
   "cell_type": "code",
   "execution_count": 11,
   "metadata": {},
   "outputs": [
    {
     "data": {
      "text/html": [
       "<div>\n",
       "<style scoped>\n",
       "    .dataframe tbody tr th:only-of-type {\n",
       "        vertical-align: middle;\n",
       "    }\n",
       "\n",
       "    .dataframe tbody tr th {\n",
       "        vertical-align: top;\n",
       "    }\n",
       "\n",
       "    .dataframe thead th {\n",
       "        text-align: right;\n",
       "    }\n",
       "</style>\n",
       "<table border=\"1\" class=\"dataframe\">\n",
       "  <thead>\n",
       "    <tr style=\"text-align: right;\">\n",
       "      <th></th>\n",
       "      <th>RM</th>\n",
       "      <th>MEDV</th>\n",
       "    </tr>\n",
       "  </thead>\n",
       "  <tbody>\n",
       "    <tr>\n",
       "      <th>0</th>\n",
       "      <td>6.575</td>\n",
       "      <td>24.0</td>\n",
       "    </tr>\n",
       "    <tr>\n",
       "      <th>1</th>\n",
       "      <td>6.421</td>\n",
       "      <td>21.6</td>\n",
       "    </tr>\n",
       "    <tr>\n",
       "      <th>2</th>\n",
       "      <td>7.185</td>\n",
       "      <td>34.7</td>\n",
       "    </tr>\n",
       "    <tr>\n",
       "      <th>3</th>\n",
       "      <td>6.998</td>\n",
       "      <td>33.4</td>\n",
       "    </tr>\n",
       "    <tr>\n",
       "      <th>4</th>\n",
       "      <td>7.147</td>\n",
       "      <td>36.2</td>\n",
       "    </tr>\n",
       "  </tbody>\n",
       "</table>\n",
       "</div>"
      ],
      "text/plain": [
       "      RM  MEDV\n",
       "0  6.575  24.0\n",
       "1  6.421  21.6\n",
       "2  7.185  34.7\n",
       "3  6.998  33.4\n",
       "4  7.147  36.2"
      ]
     },
     "execution_count": 11,
     "metadata": {},
     "output_type": "execute_result"
    }
   ],
   "source": [
    "#Dữ liệu số phòng trung bình và giá nhà\n",
    "df_boston[['RM','MEDV']].head()"
   ]
  },
  {
   "cell_type": "code",
   "execution_count": 12,
   "metadata": {},
   "outputs": [
    {
     "name": "stdout",
     "output_type": "stream",
     "text": [
      "Tỷ lệ số phòng: [6.575 6.421 7.185 6.998 7.147 6.43  6.012 6.172 5.631 6.004]\n",
      "Giá phòng     : [24.  21.6 34.7 33.4 36.2 28.7 22.9 27.1 16.5 18.9]\n"
     ]
    }
   ],
   "source": [
    "#Tách các biến độc lập để xây dựng mô hình hồi quy\n",
    "X_rm = df_boston['RM'].values\n",
    "\n",
    "#Tách biến phụ thuộc:\n",
    "y_prices = df_boston['MEDV'].values\n",
    "\n",
    "#Hiển thị 10 bộ tham số đầu tiên:\n",
    "print('Tỷ lệ số phòng:', X_rm[:10])\n",
    "print('Giá phòng     :', y_prices[:10])"
   ]
  },
  {
   "cell_type": "markdown",
   "metadata": {},
   "source": [
    "#### Tách tập dữ liệu ra làm 2 phần dùng để huấn luyện và kiểm thử mô hình theo tỷ lệ (80% - 20%)\n",
    "---"
   ]
  },
  {
   "cell_type": "code",
   "execution_count": 13,
   "metadata": {},
   "outputs": [
    {
     "name": "stdout",
     "output_type": "stream",
     "text": [
      "1. Kích thước tập Training: 404\n",
      "2. Kích thước tập Test    : 102\n"
     ]
    }
   ],
   "source": [
    "from sklearn.model_selection import train_test_split\n",
    "X_train, X_test, y_train, y_test = train_test_split(X_rm, \n",
    "                                                    y_prices, \n",
    "                                                    test_size=0.2, \n",
    "                                                    random_state=50)\n",
    "X_train = X_train.reshape(-1, 1)\n",
    "y_train = y_train.reshape(-1, 1)\n",
    "print(\"1. Kích thước tập Training: %d\" %len(y_train))\n",
    "print(\"2. Kích thước tập Test    : %d\" %len(y_test))"
   ]
  },
  {
   "cell_type": "code",
   "execution_count": 14,
   "metadata": {},
   "outputs": [
    {
     "data": {
      "text/plain": [
       "array([[6.417],\n",
       "       [4.138],\n",
       "       [8.259],\n",
       "       [6.404],\n",
       "       [5.304],\n",
       "       [6.081],\n",
       "       [7.923],\n",
       "       [5.   ],\n",
       "       [5.683],\n",
       "       [5.803]])"
      ]
     },
     "execution_count": 14,
     "metadata": {},
     "output_type": "execute_result"
    }
   ],
   "source": [
    "X_train[:10]"
   ]
  },
  {
   "cell_type": "code",
   "execution_count": 15,
   "metadata": {},
   "outputs": [
    {
     "data": {
      "text/plain": [
       "array([[13. ],\n",
       "       [13.8],\n",
       "       [42.8],\n",
       "       [12.1],\n",
       "       [10.4],\n",
       "       [20. ],\n",
       "       [50. ],\n",
       "       [ 7.4],\n",
       "       [ 5. ],\n",
       "       [16.8]])"
      ]
     },
     "execution_count": 15,
     "metadata": {},
     "output_type": "execute_result"
    }
   ],
   "source": [
    "y_train[:10]"
   ]
  },
  {
   "cell_type": "markdown",
   "metadata": {},
   "source": [
    "#### Khai báo sử dụng mô hình hồi quy tuyến tính và huấn luyện model với dữ liệu Huấn luyện\n",
    "---"
   ]
  },
  {
   "cell_type": "code",
   "execution_count": 16,
   "metadata": {},
   "outputs": [
    {
     "data": {
      "text/plain": [
       "{'copy_X': True,\n",
       " 'fit_intercept': True,\n",
       " 'n_jobs': None,\n",
       " 'normalize': False,\n",
       " 'positive': False}"
      ]
     },
     "execution_count": 16,
     "metadata": {},
     "output_type": "execute_result"
    }
   ],
   "source": [
    "#Sử dụng model hồi quy tuyến tính cho bài toán \n",
    "from sklearn.linear_model import LinearRegression\n",
    "\n",
    "#khai báo sử dụng model với các tham số mặc định\n",
    "model_linear = LinearRegression()\n",
    "\n",
    "#Các tham số của mô hình:\n",
    "model_linear.get_params()"
   ]
  },
  {
   "cell_type": "markdown",
   "metadata": {},
   "source": [
    "**Các tham số của mô hình hồi quy tuyến tính xem chi tiết tại:**\n",
    "\n",
    "https://scikit-learn.org/stable/modules/generated/sklearn.linear_model.LinearRegression.html\n",
    "\n",
    "Tham số quan trọng:\n",
    "1. fit_intercept ( kiểu dữ liệu bool, default=True): Có tính toán trọng số w0 (bias) trong phương trình hay không?\n"
   ]
  },
  {
   "cell_type": "code",
   "execution_count": 17,
   "metadata": {},
   "outputs": [
    {
     "data": {
      "text/plain": [
       "LinearRegression()"
      ]
     },
     "execution_count": 17,
     "metadata": {},
     "output_type": "execute_result"
    }
   ],
   "source": [
    "#Huấn luyện model:\n",
    "model_linear.fit(X_train, y_train)"
   ]
  },
  {
   "cell_type": "code",
   "execution_count": 18,
   "metadata": {},
   "outputs": [
    {
     "data": {
      "text/plain": [
       "array([[9.39289524]])"
      ]
     },
     "execution_count": 18,
     "metadata": {},
     "output_type": "execute_result"
    }
   ],
   "source": [
    "#Lấy các hệ số của phương trình:\n",
    "#hệ số w1:\n",
    "w1 = model_linear.coef_\n",
    "w1"
   ]
  },
  {
   "cell_type": "code",
   "execution_count": 19,
   "metadata": {},
   "outputs": [
    {
     "data": {
      "text/plain": [
       "array([-36.66357315])"
      ]
     },
     "execution_count": 19,
     "metadata": {},
     "output_type": "execute_result"
    }
   ],
   "source": [
    "#Hệ số w0 (bias):\n",
    "w0 = model_linear.intercept_\n",
    "w0"
   ]
  },
  {
   "cell_type": "markdown",
   "metadata": {},
   "source": [
    "### Phương trình đường thẳng xác định được:\n",
    "$$\\overline{y} = f(x) = w0 + w1*x_{RM} = -36.66357315 + 9.39289524*x_{RM}$$"
   ]
  },
  {
   "cell_type": "code",
   "execution_count": 20,
   "metadata": {},
   "outputs": [
    {
     "data": {
      "image/png": "[encoded data removed]",
      "text/plain": [
       "<Figure size 1080x720 with 1 Axes>"
      ]
     },
     "metadata": {},
     "output_type": "display_data"
    }
   ],
   "source": [
    "#Trực quan hóa đường hồi quy tuyến tính\n",
    "import numpy as np\n",
    "xx=np.linspace(min(X_train),max(X_train)).reshape(-1,1)\n",
    "\n",
    "plt.scatter(X_train,y_train,color=\"blue\")\n",
    "plt.plot(xx,model_linear.predict(xx),color=\"red\",linewidth=3)\n",
    "plt.ylabel(\"y: Value of house / 1000 USD\")\n",
    "plt.xlabel(\"x: Number of rooms\")\n",
    "plt.show()"
   ]
  },
  {
   "cell_type": "code",
   "execution_count": 21,
   "metadata": {},
   "outputs": [
    {
     "name": "stdout",
     "output_type": "stream",
     "text": [
      "Số phòng TB:  6\n",
      "--> Giá bán căn nhà tương ứng:  [[19.69379829]]\n"
     ]
    }
   ],
   "source": [
    "#Giả sử có một căn nhà mới với số phòng trung bình: 6\n",
    "x_rm = 6\n",
    "print('Số phòng TB: ', x_rm)\n",
    "y_price = w0 +w1*x_rm\n",
    "print('--> Giá bán căn nhà tương ứng: ', y_price)"
   ]
  },
  {
   "cell_type": "code",
   "execution_count": null,
   "metadata": {},
   "outputs": [],
   "source": [
    "#Kiểm tra trên tập Test:\n",
    "X_test = X_test.reshape(-1, 1)\n",
    "\n",
    "y_pred =model_linear.predict(X_test)\n",
    "y_pred.reshape(1,-1)"
   ]
  },
  {
   "cell_type": "code",
   "execution_count": null,
   "metadata": {
    "scrolled": true
   },
   "outputs": [],
   "source": [
    "#Trực quan hóa kết quả\n",
    "plt.figure(figsize=(15,5))\n",
    "plt.plot(y_pred[:50], marker='*',color ='black', linestyle=':', label='Giá dự đoán - Prediction')\n",
    "plt.plot(y_test[:50], marker='d', color='red', linestyle='--', label='Giá thật - Groundtruth')\n",
    "plt.title('BIỂU ĐỒ THỂ HIỆN GIÁ DỰ ĐOÁN VÀ GIÁ THẬT CỦA CÁC CĂN NHÀ TRÊN TẬP TEST')\n",
    "plt.ylabel(\"y: Value of house / 1000 USD\")\n",
    "plt.legend()\n",
    "plt.show()"
   ]
  },
  {
   "cell_type": "code",
   "execution_count": null,
   "metadata": {},
   "outputs": [],
   "source": []
  },
  {
   "cell_type": "markdown",
   "metadata": {},
   "source": [
    "### Thay đổi tham số của mô hình hồi quy:\n",
    "---\n",
    "Tham số mặc định:\n",
    "* 'copy_X': True,\n",
    "* 'fit_intercept': True,\n",
    "* 'n_jobs': None,\n",
    "* 'normalize': False,\n",
    "* 'positive': False\n"
   ]
  },
  {
   "cell_type": "code",
   "execution_count": null,
   "metadata": {},
   "outputs": [],
   "source": [
    "#khai báo sử dụng model với các tham số mặc định\n",
    "model_linear1 = LinearRegression(fit_intercept=False,normalize=True,copy_X=False)\n",
    "\n",
    "#Các tham số của mô hình:\n",
    "model_linear1.get_params()"
   ]
  },
  {
   "cell_type": "code",
   "execution_count": null,
   "metadata": {},
   "outputs": [],
   "source": [
    "#Huấn luyện model:\n",
    "model_linear1.fit(X_train,y_train)"
   ]
  },
  {
   "cell_type": "code",
   "execution_count": null,
   "metadata": {},
   "outputs": [],
   "source": [
    "#Lấy các hệ số của phương trình:\n",
    "#hệ số w1:\n",
    "w11 = model_linear1.coef_\n",
    "w11"
   ]
  },
  {
   "cell_type": "code",
   "execution_count": null,
   "metadata": {},
   "outputs": [],
   "source": [
    "#Hệ số w0 (bias):\n",
    "w01 = model_linear1.intercept_\n",
    "w01"
   ]
  },
  {
   "cell_type": "markdown",
   "metadata": {},
   "source": [
    "### Phương trình đường thẳng xác định được:\n",
    "$$\\overline{y} = f(x) = w0 + w1*x_{RM} = 0 + 3.65279843*x_{RM}$$"
   ]
  },
  {
   "cell_type": "code",
   "execution_count": null,
   "metadata": {},
   "outputs": [],
   "source": [
    "#Trực quan hóa đường hồi quy tuyến tính\n",
    "import numpy as np\n",
    "xx=np.linspace(min(X_train),max(X_train)).reshape(-1,1)\n",
    "\n",
    "plt.scatter(X_train,y_train,color=\"blue\")\n",
    "plt.plot(xx,model_linear1.predict(xx),color=\"red\",linewidth=3)\n",
    "plt.ylabel(\"y: Value of house / 1000 USD\")\n",
    "plt.xlabel(\"x: Number of rooms\")\n",
    "plt.show()"
   ]
  },
  {
   "cell_type": "code",
   "execution_count": null,
   "metadata": {},
   "outputs": [],
   "source": [
    "#Giả sử có một căn nhà mới với số phòng trung bình: 6\n",
    "x_rm1 = 6\n",
    "print('Số phòng TB: ', x_rm1)\n",
    "y_price1 = w01 +w11*x_rm1\n",
    "print('--> Giá bán căn nhà tương ứng: ', y_price1)"
   ]
  },
  {
   "cell_type": "code",
   "execution_count": null,
   "metadata": {},
   "outputs": [],
   "source": [
    "#Kiểm tra trên tập Test:\n",
    "y_pred1 =model_linear1.predict(X_test)\n",
    "y_pred1.reshape(1,-1)"
   ]
  },
  {
   "cell_type": "code",
   "execution_count": null,
   "metadata": {},
   "outputs": [],
   "source": [
    "#Trực quan hóa kết quả\n",
    "plt.figure(figsize=(15,5))\n",
    "plt.plot(y_pred1[:50], marker='*',color ='black', linestyle=':', label='Giá dự đoán - Prediction')\n",
    "plt.plot(y_test[:50], marker='d', color='red', linestyle='--', label='Giá thật - Groundtruth')\n",
    "plt.title('BIỂU ĐỒ THỂ HIỆN GIÁ DỰ ĐOÁN VÀ GIÁ THẬT CỦA CÁC CĂN NHÀ TRÊN TẬP TEST')\n",
    "plt.ylabel(\"y: Value of house / 1000 USD\")\n",
    "plt.legend()\n",
    "plt.show()"
   ]
  },
  {
   "cell_type": "code",
   "execution_count": null,
   "metadata": {},
   "outputs": [],
   "source": []
  },
  {
   "cell_type": "markdown",
   "metadata": {},
   "source": [
    "### Đánh giá độ chính xác của mô hình hồi quy\n",
    "---\n",
    "Các chỉ số cơ bản để đánh giá độ chính xác của mô hình hồi quy:\n",
    "\n",
    "<img src='pic/Evaluation.jpg' width='500px'>\n",
    "\n",
    "\n",
    "**1. MAE - Sai số tuyệt đối trung bình:** (MAE – Mean Absolute Error) nằm trong khoảng (0, +∞). MAE biểu thị biên độ trung bình của sai số mô hình nhưng không nói lên xu hướng lệch của giá trị dự đoán (predicted) và giá trị thực (Actual). Khi MAE = 0, các giá trị dự đoán hoàn toàn trùng khớp với các giá trị thực, khi đó mô hình được xem là “lý tưởng”!\n",
    "<img src='pic/mae.jpg' width='300px'>\n",
    "\n",
    "**2.MSE - Sai số bình phương trung bình:** nằm trong khoảng (0, +∞), MSE phản ánh mức độ dao động giữa giá trị dự đoán với giá trị thực.\n",
    "<img src='pic/mse.jpg' width='300px'>\n",
    "\n",
    "**RMSE - Sai số bình phương trung bình quân phương:** là một trong những đại lượng cơ bản và thường được sử dụng phổ biến trong đánh giá độ tin cậy của mô hình hồi quy. Người ta thường hay sử dụng RMSE biểu thị độ lớn trung bình của sai số. Đặc biệt RMSE rất nhạy với những giá trị sai số lớn. Giống như MAE, RMSE không chỉ ra độ lệch giữa giá trị dự báo và giá trị thực. Giá trị của RMSE nằm trong khoảng (0,+ ∞)\n",
    "\n",
    "<img src = 'pic/RMSE.png' width='300px'>\n",
    "\n",
    "**R2:** Đánh giá tỷ lệ giải thích của mô hình ước lượng, hệ số này nằm giữa 0 và 1, càng gần 1 tỷ lệ giải thích được của mô hình càng tốt.\n",
    "\n",
    "<img src='pic/MLR_r2.png' width='400px'>\n",
    "<img src='pic/R2.jpg'>\n",
    "\n"
   ]
  },
  {
   "cell_type": "markdown",
   "metadata": {},
   "source": [
    "**A.Model sử dụng các tham số mặc định:**"
   ]
  },
  {
   "cell_type": "code",
   "execution_count": null,
   "metadata": {},
   "outputs": [],
   "source": [
    "from sklearn.metrics import mean_absolute_error, mean_squared_error, r2_score, max_error\n",
    "\n",
    "#Đánh giá độ chính xác trên tập Train:\n",
    "y_train_predict = model_linear.predict(X_train)\n",
    "y_train_predict = y_train_predict.reshape(-1,1)\n",
    "\n",
    "#Tính các sai số:\n",
    "mae_train = mean_absolute_error(y_train, y_train_predict)\n",
    "mse_train = mean_squared_error(y_train, y_train_predict)\n",
    "rmse_train = (np.sqrt(mean_squared_error(y_train, y_train_predict)))\n",
    "r2_train = r2_score(y_train, y_train_predict)\n",
    "\n",
    "print('1.A) MÔ HÌNH HỒI QUY TUYẾN TÍNH SỬ DỤNG THAM SỐ MẶC ĐỊNH:')\n",
    "print(\"Độ chính xác của mô hình trên tập huấn luyện:\")\n",
    "print(\"--------------------------------------------\")\n",
    "print('1.Sai số MAE  = ',mae_train)\n",
    "print('2.Sai số MSE  = ',mse_train)\n",
    "print('3.Sai số RMSE = ',rmse_train)\n",
    "print('4.Sai số R2   = ',r2_train)"
   ]
  },
  {
   "cell_type": "code",
   "execution_count": null,
   "metadata": {},
   "outputs": [],
   "source": [
    "# Đánh giá độ chính xác trên tập TEST:\n",
    "y_test = y_test.reshape(-1,1)\n",
    "\n",
    "#Tính các sai số:\n",
    "mae_test = mean_absolute_error(y_test, y_pred)\n",
    "mse_test = mean_squared_error(y_test, y_pred)\n",
    "rmse_test = (np.sqrt(mean_squared_error(y_test, y_pred)))\n",
    "r2_test = r2_score(y_test, y_pred)\n",
    "\n",
    "print(\"Độ chính xác của mô hình trên Kiểm thử:\")\n",
    "print(\"--------------------------------------------\")\n",
    "print('1.Sai số MAE  = ',mae_test)\n",
    "print('2.Sai số MSE  = ',mse_test)\n",
    "print('3.Sai số RMSE = ',rmse_test)\n",
    "print('4.Sai số R2   = ',r2_test)"
   ]
  },
  {
   "cell_type": "code",
   "execution_count": null,
   "metadata": {},
   "outputs": [],
   "source": [
    "#Xác định mẫu dự đoán chênh lệch giữa giá thực và giá predict lớn nhất:\n",
    "from sklearn.metrics import max_error\n",
    "max_error(y_test, y_pred)"
   ]
  },
  {
   "cell_type": "markdown",
   "metadata": {},
   "source": [
    "**B. Model thay đổi tham số:**"
   ]
  },
  {
   "cell_type": "code",
   "execution_count": null,
   "metadata": {},
   "outputs": [],
   "source": [
    "#Đánh giá độ chính xác trên tập Train:\n",
    "y_train_predict1 = model_linear1.predict(X_train)\n",
    "y_train_predict1 = y_train_predict1.reshape(-1,1)\n",
    "\n",
    "#Tính các sai số:\n",
    "mae_train1 = mean_absolute_error(y_train, y_train_predict1)\n",
    "mse_train1 = mean_squared_error(y_train, y_train_predict1)\n",
    "rmse_train1 = (np.sqrt(mean_squared_error(y_train, y_train_predict1)))\n",
    "r2_train1 = r2_score(y_train, y_train_predict1)\n",
    "\n",
    "print('2.A) MÔ HÌNH HỒI QUY TUYẾN TÍNH THAY ĐỔI THAM SỐ')\n",
    "print(\"Độ chính xác của mô hình trên tập huấn luyện:\")\n",
    "print(\"--------------------------------------------\")\n",
    "print('1.Sai số MAE  = ',mae_train1)\n",
    "print('2.Sai số MSE  = ',mse_train1)\n",
    "print('3.Sai số RMSE = ',rmse_train1)\n",
    "print('4.Sai số R2   = ',r2_train1)"
   ]
  },
  {
   "cell_type": "code",
   "execution_count": null,
   "metadata": {},
   "outputs": [],
   "source": [
    "# Đánh giá độ chính xác trên tập TEST:\n",
    "#Tính các sai số:\n",
    "mae_test1 = mean_absolute_error(y_test, y_pred1)\n",
    "mse_test1 = mean_squared_error(y_test, y_pred1)\n",
    "rmse_test1 = (np.sqrt(mean_squared_error(y_test, y_pred1)))\n",
    "r2_test1 = r2_score(y_test, y_pred1)\n",
    "\n",
    "print(\"Độ chính xác của mô hình trên Kiểm thử:\")\n",
    "print(\"--------------------------------------------\")\n",
    "print('1.Sai số MAE  = ',mae_test1)\n",
    "print('2.Sai số MSE  = ',mse_test1)\n",
    "print('3.Sai số RMSE = ',rmse_test1)\n",
    "print('4.Sai số R2   = ',r2_test1)"
   ]
  },
  {
   "cell_type": "code",
   "execution_count": null,
   "metadata": {},
   "outputs": [],
   "source": [
    "#Xác định mẫu dự đoán chênh lệch giữa giá thực và giá predict lớn nhất:\n",
    "max_error(y_test, y_pred1)"
   ]
  },
  {
   "cell_type": "code",
   "execution_count": null,
   "metadata": {},
   "outputs": [],
   "source": []
  },
  {
   "cell_type": "markdown",
   "metadata": {},
   "source": [
    "<img src='pic/practice.jpg' width='200'>\n",
    "\n",
    "## THỰC HÀNH TRÊN LỚP:\n",
    "---\n",
    "Sinh viên xây dựng mô hình hồi quy tuyến tính đơn giản với với một tham số: LSTAT\n",
    "\n"
   ]
  },
  {
   "cell_type": "code",
   "execution_count": null,
   "metadata": {},
   "outputs": [],
   "source": [
    "#Dữ liệu tỷ lệ phần trăm dân cư thu nhập dưới trung bình với giá nhà:\n",
    "df_boston[['LSTAT','MEDV']].head(10)"
   ]
  },
  {
   "cell_type": "code",
   "execution_count": null,
   "metadata": {
    "scrolled": true
   },
   "outputs": [],
   "source": [
    "#Trực quan hóa dữ liệu phần trăm dân số thu nhập dưới mức trung bình (LSTAT) \n",
    "#với giá bán nhà (MEDV):\n",
    "plt.figure(figsize=(10,5))\n",
    "plt.scatter(df_boston['LSTAT'],\n",
    "            df_boston['MEDV'],\n",
    "            marker='o', \n",
    "            color='Blue')\n",
    "plt.title('ĐỒ THỊ THỂ HIỆN DỮ LIỆU GIỮA LASAT VỚI MEDV')\n",
    "plt.xlabel('Phần trăm dân số có mức thu nhập dưới trung bình (LSTAT)')\n",
    "plt.ylabel('Giá bán căn nhà (MEDV) - 1000 $')\n",
    "plt.show()"
   ]
  },
  {
   "cell_type": "code",
   "execution_count": null,
   "metadata": {},
   "outputs": [],
   "source": [
    "#Tách dữ liệu biến độc X(LSTAT) - Biến phụ thuộc Y(MEDV) để xây dựng mô hình hồi quy\n",
    "X_lstat = df_boston['LSTAT'].values\n",
    "\n",
    "#Tách biến phụ thuộc:\n",
    "y_prices = df_boston['MEDV'].values\n",
    "\n",
    "#Hiển thị 8 bộ tham số đầu tiên:\n",
    "print('Tỷ lệ phần trăm thu nhập dưới trung bình:', X_lstat[:8])\n",
    "print('Giá nhà                                 :', y_prices[:8])"
   ]
  },
  {
   "cell_type": "code",
   "execution_count": null,
   "metadata": {},
   "outputs": [],
   "source": []
  },
  {
   "cell_type": "code",
   "execution_count": null,
   "metadata": {},
   "outputs": [],
   "source": [
    "#Chia tập dữ liệu Train - Test:\n",
    "from sklearn.model_selection import train_test_split\n",
    "X_lstat_train, X_lstat_test, y_train, y_test = train_test_split(X_lstat, \n",
    "                                                    y_prices, \n",
    "                                                    test_size=0.2, \n",
    "                                                    random_state=50)\n",
    "X_lstat_train = X_lstat_train.reshape(-1, 1)\n",
    "y_train = y_train.reshape(-1, 1)\n",
    "print(\"1. Kích thước tập Training: %d\" %len(y_train))\n",
    "print(\"2. Kích thước tập Test    : %d\" %len(y_test))"
   ]
  },
  {
   "cell_type": "code",
   "execution_count": null,
   "metadata": {},
   "outputs": [],
   "source": [
    "#Khởi tạo mô hình hồi quy tuyến tính với các tham số mặc định:\n",
    "model_lstat = LinearRegression()\n",
    "#Danh sách các tham số:\n",
    "model_lstat.get_params()"
   ]
  },
  {
   "cell_type": "code",
   "execution_count": null,
   "metadata": {},
   "outputs": [],
   "source": [
    "#Huấn luyện model:\n",
    "model_lstat.fit(X_lstat_train,y_train)"
   ]
  },
  {
   "cell_type": "code",
   "execution_count": null,
   "metadata": {},
   "outputs": [],
   "source": [
    "#Xác định các hệ số và phương trình đường thẳng:\n",
    "w1_lstat = model_lstat.coef_\n",
    "print('w1 = ', w1_lstat)\n",
    "\n",
    "w0_lstat = model_lstat.intercept_\n",
    "print('w0 = ', w0_lstat)\n",
    "\n",
    "print('Phương trình đường thẳng: Y^ = ', w0_lstat , ' + ' , w1_lstat , ' * x_lstat' )"
   ]
  },
  {
   "cell_type": "code",
   "execution_count": null,
   "metadata": {},
   "outputs": [],
   "source": [
    "#Trực quan hóa các điểm dữ liệu và phương trình đường thẳng:\n",
    "import numpy as np\n",
    "xx=np.linspace(min(X_lstat_train),max(X_lstat_train)).reshape(-1,1)\n",
    "\n",
    "plt.scatter(X_lstat_train,y_train,color=\"blue\")\n",
    "plt.plot(xx,model_lstat.predict(xx),color=\"red\",linewidth=3)\n",
    "plt.ylabel(\"y: Giá nhà (1000 USD)\")\n",
    "plt.xlabel(\"x: Tỷ lệ thu nhập dưới trung bình\")\n",
    "plt.show()"
   ]
  },
  {
   "cell_type": "code",
   "execution_count": null,
   "metadata": {},
   "outputs": [],
   "source": [
    "#Giả sử có một căn nhà mới ở tại khu vực có tỷ lệ phần trăm dân cư thu nhập dưới tb: 15\n",
    "#---> Giá bán căn nhà là bao nhiêu?\n",
    "x_lstat = 15\n",
    "print('Tỷ lệ phần trăm dân cư thu nhập dưới TB: ', x_lstat)\n",
    "y_price = w0_lstat +w1_lstat*x_lstat\n",
    "print('--> Giá bán căn nhà tương ứng: ', y_price)"
   ]
  },
  {
   "cell_type": "code",
   "execution_count": null,
   "metadata": {},
   "outputs": [],
   "source": [
    "#Dự đoán giá nhà trên tập Test:\n",
    "X_lstat_test = X_lstat_test.reshape(-1,1)\n",
    "y_lstat_pred = model_lstat.predict(X_lstat_test)\n",
    "\n",
    "y_lstat_pred = np.round(y_lstat_pred.reshape(1,-1),1).ravel()\n",
    "\n",
    "print('Giá nhà dự đoán: y^ = ', y_lstat_pred[:10])\n",
    "print('Giá nhà dự đoán: y  = ', y_test[:10])\n"
   ]
  },
  {
   "cell_type": "code",
   "execution_count": null,
   "metadata": {},
   "outputs": [],
   "source": [
    "#Trực quan hóa kết quả 50 căn nhà đầu tiên:\n",
    "plt.figure(figsize=(15,5))\n",
    "plt.plot(y_lstat_pred[:50], marker='*',color ='black', linestyle=':', label='Giá dự đoán - Prediction')\n",
    "plt.plot(y_test[:50], marker='d', color='red', linestyle='--', label='Giá thật - Groundtruth')\n",
    "plt.title('BIỂU ĐỒ THỂ HIỆN GIÁ DỰ ĐOÁN VÀ GIÁ THẬT CỦA CÁC CĂN NHÀ TRÊN TẬP TEST')\n",
    "plt.ylabel(\"y: Value of house / 1000 USD\")\n",
    "plt.legend()\n",
    "plt.show()\n"
   ]
  },
  {
   "cell_type": "code",
   "execution_count": null,
   "metadata": {},
   "outputs": [],
   "source": [
    "#Đánh giá sai số MAE, MSE, RMSE, R2 trên tập test:\n",
    "from sklearn.metrics import mean_absolute_error, mean_squared_error, r2_score, max_error\n",
    "\n",
    "#Đánh giá độ chính xác trên tập Test:\n",
    "y_test_pred = model_lstat.predict(X_lstat_test)\n",
    "y_test_pred = np.round(y_test_pred.reshape(-1,1),1)\n",
    "\n",
    "#Tính các sai số:\n",
    "mae_lstat = mean_absolute_error(y_test, y_test_pred)\n",
    "mse_lstat = mean_squared_error(y_test, y_test_pred)\n",
    "rmse_lstat = (np.sqrt(mean_squared_error(y_test, y_test_pred)))\n",
    "r2_lstat = r2_score(y_test, y_test_pred)\n",
    "\n",
    "print('MÔ HÌNH HỒI QUY TUYẾN TÍNH SỬ DỤNG THAM SỐ MẶC ĐỊNH VỚI THUỘC TÍNH LSTAT:')\n",
    "print(\"Độ chính xác của mô hình trên tập TEST:\")\n",
    "print(\"--------------------------------------------\")\n",
    "print('1.Sai số MAE  = ',mae_lstat)\n",
    "print('2.Sai số MSE  = ',mse_lstat)\n",
    "print('3.Sai số RMSE = ',rmse_lstat)\n",
    "print('4.Sai số R2   = ',r2_lstat)"
   ]
  },
  {
   "cell_type": "code",
   "execution_count": null,
   "metadata": {},
   "outputs": [],
   "source": []
  },
  {
   "cell_type": "markdown",
   "metadata": {},
   "source": [
    "### 2) Hồi quy tuyến tính nhiều chiều (nhiều biến độc lập)\n",
    "---\n",
    "Hồi quy 2 biến: $y=\\beta_0+\\beta_1 x_2+\\beta_2 x_2$\n",
    "\n",
    "Hồi quy $m$ biến: $y=\\beta_0+\\beta_1x_1+\\beta_2x_2+\\dots+\\beta_mx_m$\n",
    "\n",
    "- $y$: biến phụ thuộc\n",
    "\n",
    "- $x$: biến độc lập\n",
    "\n",
    "- $\\beta_0,\\beta_1,\\beta_2,\\dots,\\beta_m$: tham số của mô hình\n",
    "\n",
    "\n",
    "<img src='pic/multi.png' width ='400px'>\n",
    "\n",
    "\n",
    "### Xác định giá trị của tham số mô hình\n",
    "\n",
    "- Xác định sai số ( hàm tổn thất) của mô hình.\n",
    "\n",
    "- Chọn tham số để sai số nhỏ nhất.\n",
    "\n",
    "## Mô hình lý thuyết\n",
    "\n",
    "Giả sử rằng biến phụ thuộc $Y$ (output, dependent, response) có **quan hệ tuyến tính** \n",
    "với các biến đầu vào (independent, predictor) $X_1,X_2,\\dots,X_m$ bởi công thức\n",
    "\n",
    "$$ Y=\\beta_0+\\sum\\limits_{j=1}^m \\beta_j X_j+\\varepsilon $$\n",
    "\n",
    "trong đó $\\varepsilon\\sim N(0,\\sigma^2)$ biến sai số không quan sát được (**error component**)\n"
   ]
  },
  {
   "cell_type": "markdown",
   "metadata": {},
   "source": [
    "## Mục tiêu\n",
    "Ước lượng các tham số $\\beta_j$, phương sai $\\sigma^2$, và sự ảnh hưởng các biến đầu vào đối với $Y$.\n",
    "\n",
    "Giả sử ta có các $n$ quan sát $$(x_{i1},\\dots,x_{im},y_i), i=1,2,\\dots,n $$\n",
    "\n",
    "$$y_i=\\beta_0+\\sum\\limits_{j=1}^m \\beta_j x_{ij}+e_i, i=1,2,\\dots,n $$\n",
    "\n",
    "\n",
    "với các $e_i$ là các sai số và cùng phân phối với $\\varepsilon$\n",
    "\n",
    "Ta sử dụng phương pháp **bình phương tối thiểu** ước lượng các $\\beta_j$ sao cho sai số nhỏ nhất\n",
    "$$SSE=\\sum\\limits_{i=1}^ne_i^2=\\sum\\limits_{i=1}^n (y_i-\\beta_0-\\sum\\limits_{j=1}^m \\beta_j x_{ij})^2 $$\n",
    "$$\\hat{\\beta} =\\arg\\min SSE(\\beta)$$\n",
    "\n",
    "Tổng bình phương các sai số (SSE): $$SSE=\\sum\\limits_{i=1}^n \\hat{e}_i^2=ESS(\\hat{\\beta}) $$\n",
    "Hệ số $R^2$, $$ R^2=1-\\dfrac{SSE}{SST}=1-\\dfrac{\\sum\\limits_{i=1}^n (y_i-\\hat{y}_i)^2}{\\sum\\limits_{i=1}^n (y_i-\\bar{y})^2}$$"
   ]
  },
  {
   "cell_type": "markdown",
   "metadata": {},
   "source": [
    "###  a. Sử dụng 2 thuộc tính RM, LSTAT để dự đoán giá nhà:\n",
    "---"
   ]
  },
  {
   "cell_type": "code",
   "execution_count": null,
   "metadata": {},
   "outputs": [],
   "source": [
    "#Sử dụng 2 thuộc tính RM, LSTAT để dự đoán giá nhà:\n",
    "df_boston[['RM','LSTAT','MEDV']].head(10)"
   ]
  },
  {
   "cell_type": "code",
   "execution_count": null,
   "metadata": {},
   "outputs": [],
   "source": [
    "#Tách Biến độc lập X(RM, LSTAT) - Biến phụ thuộc Y (MEDV):\n",
    "X_2 = df_boston[['RM','LSTAT']].values\n",
    "y_prices = df_boston[['MEDV']].values\n",
    "\n",
    "X_2[:10,:]"
   ]
  },
  {
   "cell_type": "code",
   "execution_count": null,
   "metadata": {},
   "outputs": [],
   "source": [
    "#Tách dữ liệu Train - Test:\n",
    "# Biến X_2: Lưu trữ 2 biến độc lập (RM, LSTAT)\n",
    "# Biến y_prices: Lưu trữ biến phụ thuộc (MEDV)\n",
    "\n",
    "from sklearn.model_selection import train_test_split\n",
    "X_train_2, X_test_2, y_train_2, y_test_2 = train_test_split(X_2, \n",
    "                                                    y_prices, \n",
    "                                                    test_size=0.2, \n",
    "                                                    random_state=50)\n",
    "print(\"1. Kích thước tập Training: %d\" %len(y_train_all))\n",
    "print(\"2. Kích thước tập Test    : %d\" %len(y_test_all))"
   ]
  },
  {
   "cell_type": "code",
   "execution_count": null,
   "metadata": {},
   "outputs": [],
   "source": [
    "#Sử dụng model hồi quy tuyến tính cho bài toán \n",
    "from sklearn.linear_model import LinearRegression\n",
    "#Khai báo model với các tham số mặc định:\n",
    "model_2 = LinearRegression()\n",
    "\n",
    "#Huấn luyện model:\n",
    "model_2.fit(X_train_2, y_train_2)"
   ]
  },
  {
   "cell_type": "code",
   "execution_count": null,
   "metadata": {},
   "outputs": [],
   "source": [
    "#Xác định các hệ số và phương trình MẶT PHẲNG:\n",
    "w = np.round(model_2.coef_,3)\n",
    "print('w = ', w)\n",
    "\n",
    "w0 = np.round(model_2.intercept_,3)\n",
    "print('w0 = ', w0)\n",
    "\n",
    "print('Phương trình mặt phẳng: Y^ = ', w0 , ' + ' , w[0,0] , ' * x_rm + ',w[0,1], '* x_lstat' )"
   ]
  },
  {
   "cell_type": "code",
   "execution_count": null,
   "metadata": {},
   "outputs": [],
   "source": [
    "#Giả sử căn nhà mới có:\n",
    "# Số phòng: x_rm = 6\n",
    "# căn nhà ở khu vực có Tỷ lệ phần trăm dân số dưới mức trung bình là: 18.5\n",
    "#--> Giá căn nhà là bao nhiêu?\n",
    "\n",
    "x_rm = 6\n",
    "x_lstat = 18.5\n",
    "\n",
    "print('Thông số căn nhà: x_rm = ', x_rm, ', x_lstat = ', x_lstat)\n",
    "\n",
    "y_price = w0 + w[0,0]*x_rm + w[0,1]*x_lstat\n",
    "print('--> Giá của căn nhà: ', y_price)\n"
   ]
  },
  {
   "cell_type": "code",
   "execution_count": null,
   "metadata": {},
   "outputs": [],
   "source": [
    "#Dự đoán trên tập TEST\n",
    "\n",
    "y_pred_2 = model_2.predict(X_test_2)\n",
    "y_pred_2 = np.round(y_pred_2,1).ravel()\n",
    "\n",
    "print('Giá nhà dự đoán: y^ = ', y_pred_2[:10])\n",
    "print('Giá nhà dự đoán: y  = ', y_test_2[:10].ravel())\n"
   ]
  },
  {
   "cell_type": "code",
   "execution_count": null,
   "metadata": {},
   "outputs": [],
   "source": [
    "#Trực quan hóa kết quả 50 căn nhà đầu tiên:\n",
    "plt.figure(figsize=(15,5))\n",
    "plt.plot(y_pred_2[:50], marker='*',color ='black', linestyle=':', label='Giá dự đoán - Prediction')\n",
    "plt.plot(y_test_2[:50], marker='d', color='red', linestyle='--', label='Giá thật - Groundtruth')\n",
    "plt.title('BIỂU ĐỒ THỂ HIỆN GIÁ DỰ ĐOÁN VÀ GIÁ THẬT CỦA CÁC CĂN NHÀ TRÊN TẬP TEST')\n",
    "plt.ylabel(\"y: Value of house / 1000 USD\")\n",
    "plt.legend()\n",
    "plt.show()\n"
   ]
  },
  {
   "cell_type": "code",
   "execution_count": null,
   "metadata": {},
   "outputs": [],
   "source": [
    "#Đánh giá sai số MAE, MSE, RMSE, R2 trên tập test:\n",
    "from sklearn.metrics import mean_absolute_error, mean_squared_error, r2_score, max_error\n",
    "\n",
    "#Đánh giá độ chính xác trên tập Test:\n",
    "y_test_pred_2 = model_2.predict(X_test_2)\n",
    "y_test_pred_2 = np.round(y_test_pred_2.reshape(-1,1),1)\n",
    "\n",
    "#Tính các sai số:\n",
    "mae_2 = mean_absolute_error(y_test_2, y_test_pred_2)\n",
    "mse_2 = mean_squared_error(y_test_2, y_test_pred_2)\n",
    "rmse_2 = (np.sqrt(mean_squared_error(y_test_2, y_test_pred_2)))\n",
    "r2_2 = r2_score(y_test_2, y_test_pred)\n",
    "\n",
    "print('MÔ HÌNH HỒI QUY TUYẾN TÍNH SỬ DỤNG THAM SỐ MẶC ĐỊNH VỚI 2 THUỘC TÍNH RM và LSTAT:')\n",
    "print(\"Độ chính xác của mô hình trên tập TEST:\")\n",
    "print(\"--------------------------------------------\")\n",
    "print('1.Sai số MAE  = ',mae_2)\n",
    "print('2.Sai số MSE  = ',mse_2)\n",
    "print('3.Sai số RMSE = ',rmse_2)\n",
    "print('4.Sai số R2   = ',r2_2)"
   ]
  },
  {
   "cell_type": "code",
   "execution_count": null,
   "metadata": {},
   "outputs": [],
   "source": []
  },
  {
   "cell_type": "markdown",
   "metadata": {},
   "source": [
    "### b. Sử dụng tất cả các thuộc tính để dự đoán giá nhà:\n",
    "---"
   ]
  },
  {
   "cell_type": "code",
   "execution_count": null,
   "metadata": {},
   "outputs": [],
   "source": [
    "df_boston.info()"
   ]
  },
  {
   "cell_type": "code",
   "execution_count": null,
   "metadata": {},
   "outputs": [],
   "source": [
    "df_boston.head()"
   ]
  },
  {
   "cell_type": "code",
   "execution_count": null,
   "metadata": {},
   "outputs": [],
   "source": [
    "df_boston.describe()"
   ]
  },
  {
   "cell_type": "code",
   "execution_count": null,
   "metadata": {},
   "outputs": [],
   "source": [
    "#Đọc dữ liệu vào các độc lập và phụ thuộc\n",
    "X_boston = df_boston.iloc[:,:13].values\n",
    "y_boston = df_boston.iloc[:, -1].values"
   ]
  },
  {
   "cell_type": "code",
   "execution_count": null,
   "metadata": {},
   "outputs": [],
   "source": [
    "X_boston[:2,:]"
   ]
  },
  {
   "cell_type": "markdown",
   "metadata": {},
   "source": [
    "### Tách tập dữ liệu theo tỷ lệ 80%:20% cho việc train và test\n",
    "---"
   ]
  },
  {
   "cell_type": "code",
   "execution_count": null,
   "metadata": {},
   "outputs": [],
   "source": [
    "# Biến X_boston: Lưu trữ 13 biến độc lập (input)\n",
    "# Biến y_boston: Lưu trữ biến phụ thuộc (target)\n",
    "\n",
    "from sklearn.model_selection import train_test_split\n",
    "X_train_all, X_test_all, y_train_all, y_test_all = train_test_split(X_boston, \n",
    "                                                    y_boston, \n",
    "                                                    test_size=0.2, \n",
    "                                                    random_state=50)\n",
    "print(\"1. Kích thước tập Training: %d\" %len(y_train_all))\n",
    "print(\"2. Kích thước tập Test    : %d\" %len(y_test_all))"
   ]
  },
  {
   "cell_type": "code",
   "execution_count": null,
   "metadata": {},
   "outputs": [],
   "source": [
    "X_train_all[:2,:]"
   ]
  },
  {
   "cell_type": "code",
   "execution_count": null,
   "metadata": {},
   "outputs": [],
   "source": [
    "y_train_all[:2]"
   ]
  },
  {
   "cell_type": "code",
   "execution_count": null,
   "metadata": {},
   "outputs": [],
   "source": [
    "#Sử dụng model hồi quy tuyến tính cho bài toán \n",
    "from sklearn.linear_model import LinearRegression\n",
    "#Khai báo model với các tham số mặc định:\n",
    "model_all = LinearRegression()\n",
    "\n",
    "#Huấn luyện model:\n",
    "model_all.fit(X_train_all, y_train_all)"
   ]
  },
  {
   "cell_type": "markdown",
   "metadata": {},
   "source": [
    "### Xác định các hệ số của phương trình:\n",
    "---\n",
    "\n",
    "$$ ŷ_{MEDV} = f(x) = w_0 + w_1.X_{CRIM} + w_2.X_{ZN} + w_3.X_{INDUS} + w_4.X_{CHAS}+ w_5.X_{NOX} + w_6.X_{RM} + w_7.X_{AGE} + w_8.X_{DIS} + w_9.X_{RAD} + w_{10}.X_{TAX} + w_{11}.X_{PTRATIO} + w_{12}.X_B + w_{13}.X_{LSTAT} $$   "
   ]
  },
  {
   "cell_type": "code",
   "execution_count": null,
   "metadata": {},
   "outputs": [],
   "source": [
    "w0 = np.round(model_all.intercept_,3)\n",
    "print('w0 =',w0)\n",
    "dem=1\n",
    "for i in model_all.coef_:\n",
    "    x = 'w'+str(dem)\n",
    "    print(x,'=',np.round(i,3))\n",
    "    dem=dem+1"
   ]
  },
  {
   "cell_type": "code",
   "execution_count": null,
   "metadata": {},
   "outputs": [],
   "source": [
    "#Các hệ số ứng với từng biến độc lập:\n",
    "coeff_df = pd.DataFrame(np.round(model_all.coef_,3), \n",
    "                        list(df_boston.columns[:13]), \n",
    "                        columns =['Coefficient'])\n",
    "coeff_df"
   ]
  },
  {
   "cell_type": "code",
   "execution_count": null,
   "metadata": {},
   "outputs": [],
   "source": [
    "w0 = np.round(model_all.intercept_,3)\n",
    "print('w0 =',w0)"
   ]
  },
  {
   "cell_type": "markdown",
   "metadata": {},
   "source": [
    "**Phương trình siêu phẳng:**\n",
    "\n",
    "$$ ŷ_{MEDV} = f(x) = 38.316 + (-0.105).X_{CRIM} + 0.039.X_{ZN} + 0.060.X_{INDUS} + 0.849.X_{CHAS}+ (-21.142).X_{NOX} + (4.189).X_{RM} + 0.006.X_{AGE} + (-1.453).X_{DIS} + (0.298).X_{RAD} + (-0.014).X_{TAX} + (-1.091).X_{PTRATIO} + (0.008).X_B + (-0.477).X_{LSTAT} $$"
   ]
  },
  {
   "cell_type": "code",
   "execution_count": null,
   "metadata": {},
   "outputs": [],
   "source": [
    "#Sử dụng model huấn luyện được trên tập Train để dự đoán trên tập Test\n",
    "y_pred_all = model_all.predict(X_test_all)\n",
    "y_pred_all = np.round(y_pred_all,1)\n",
    "print(y_pred_all)"
   ]
  },
  {
   "cell_type": "code",
   "execution_count": null,
   "metadata": {},
   "outputs": [],
   "source": [
    "#Trực quan hóa kết quả dự đoán với kết quả groudtruth\n",
    "import matplotlib.pyplot as plt\n",
    "plt.figure(figsize=(13,5))\n",
    "plt.plot(y_pred_all[:50], marker='*',color ='black', linestyle=':', label='Giá dự đoán - Prediction')\n",
    "plt.plot(y_test_all[:50], marker='d', color='red', linestyle='--', label='Giá thật - Groundtruth')\n",
    "plt.legend()\n",
    "plt.grid(True)\n"
   ]
  },
  {
   "cell_type": "code",
   "execution_count": null,
   "metadata": {},
   "outputs": [],
   "source": [
    "#Đánh giá sai số MAE, MSE, RMSE, R2 trên tập test:\n",
    "from sklearn.metrics import mean_absolute_error, mean_squared_error, r2_score, max_error\n",
    "\n",
    "#Tính các sai số:\n",
    "mae_all = mean_absolute_error(y_test_all, y_pred_all)\n",
    "mse_all = mean_squared_error(y_test_all, y_pred_all)\n",
    "rmse_all = (np.sqrt(mean_squared_error(y_test_all, y_pred_all)))\n",
    "r2_all = r2_score(y_test_all, y_pred_all)\n",
    "\n",
    "print('MÔ HÌNH HỒI QUY TUYẾN TÍNH SỬ DỤNG THAM SỐ MẶC ĐỊNH VỚI TẤT CẢ CÁC THUỘC TÍNH:')\n",
    "print(\"Độ chính xác của mô hình trên tập TEST:\")\n",
    "print(\"--------------------------------------------\")\n",
    "print('1.Sai số MAE  = ',mae_all)\n",
    "print('2.Sai số MSE  = ',mse_all)\n",
    "print('3.Sai số RMSE = ',rmse_all)\n",
    "print('4.Sai số R2   = ',r2_all)"
   ]
  },
  {
   "cell_type": "code",
   "execution_count": null,
   "metadata": {},
   "outputs": [],
   "source": []
  },
  {
   "cell_type": "markdown",
   "metadata": {},
   "source": [
    "## THỰC HÀNH 8\n",
    "---\n",
    "### Yêu cầu 1: \n",
    "Sinh viên tìm hiểu về tập dữ liệu mẫu Diabetes Dataset của Sklearn (xác định các features đầu vào (input) và label đầu ra (target))\n"
   ]
  },
  {
   "cell_type": "code",
   "execution_count": null,
   "metadata": {},
   "outputs": [],
   "source": [
    "#{Sinh viên viết code ở đây!}\n",
    "\n",
    "\n",
    "\n"
   ]
  },
  {
   "cell_type": "code",
   "execution_count": null,
   "metadata": {},
   "outputs": [],
   "source": [
    "\n"
   ]
  },
  {
   "cell_type": "code",
   "execution_count": null,
   "metadata": {},
   "outputs": [],
   "source": []
  },
  {
   "cell_type": "markdown",
   "metadata": {},
   "source": [
    "**Yêu cầu 2:**\n",
    "---\n",
    "* Trong tập dữ liệu Diabetes xác định thuộc tính có ảnh hưởng lớn nhất (hệ số tương quan cao nhất) tới thuộc tính target.\n",
    "* Tách tập dữ liệu thành 2 phần Train – Test với tỷ lệ 75%-25%"
   ]
  },
  {
   "cell_type": "code",
   "execution_count": null,
   "metadata": {},
   "outputs": [],
   "source": [
    "#{Sinh viên viết code ở đây!}\n",
    "\n",
    "\n",
    "\n"
   ]
  },
  {
   "cell_type": "code",
   "execution_count": null,
   "metadata": {},
   "outputs": [],
   "source": []
  },
  {
   "cell_type": "code",
   "execution_count": null,
   "metadata": {},
   "outputs": [],
   "source": []
  },
  {
   "cell_type": "markdown",
   "metadata": {},
   "source": [
    "### Yêu cầu 3:\n",
    "---\n",
    "* 1) Xây dựng mô hình hồi quy tuyến tính đơn giản (Simple Linear Regression) với thuộc tính có ảnh hưởng cao nhất tới thuộc tính Target. Xác định sai số RMSE và R2 trên tập Train và Test.\n",
    "* 2) Xây dựng mô hình hồi quy tuyến tính với tất các thuộc tính đầu vào (input). Xác định sai số RMSE và R2  trên tập Train và Test.\n"
   ]
  },
  {
   "cell_type": "code",
   "execution_count": null,
   "metadata": {},
   "outputs": [],
   "source": [
    "#{Sinh viên viết code ở đây!}\n",
    "\n",
    "\n"
   ]
  },
  {
   "cell_type": "code",
   "execution_count": null,
   "metadata": {},
   "outputs": [],
   "source": []
  },
  {
   "cell_type": "code",
   "execution_count": null,
   "metadata": {},
   "outputs": [],
   "source": []
  },
  {
   "cell_type": "markdown",
   "metadata": {},
   "source": [
    "# SINH VIÊN THAM KHẢO THÊM"
   ]
  },
  {
   "cell_type": "markdown",
   "metadata": {},
   "source": [
    "## II) THUẬT TOÁN KNN CHO BÀI TOÁN HỒI QUY (KNN Regression)\n",
    "---\n",
    "* Tương tự như đối với bài toán phân lớp. Xác định những điểm dữ liệu gần nhất với điểm dữ liệu mới!\n",
    "* Nhãn của điểm dữ liệu mới được là nhãn của điểm dữ liệu đã biết gần nhất (K=1) hoặc trung bình có trọng số của những điểm gần nhất.\n",
    "<img src='pic/knn_regression.png' width='600px'>\n",
    "\n",
    "Cho tập huấn luyện $(x_i,y_i)$. Dự báo giá trị tại mẫu $x$.\n",
    "\n",
    "- Tìm $k$ lân cận gần nhất với $x$ từ mẫu $x_i$ của tập huấn luyện \n",
    "\n",
    "- Ký hiệu $N(x)=\\{x_{i_1},\\dots,x_{i_k}\\}$ là tập mẫu tìm được\n",
    "\n",
    "- Giá trị dự báo của $x$ là $y=f(x)=Average(y_i: x_i\\in N(x))$"
   ]
  },
  {
   "cell_type": "markdown",
   "metadata": {},
   "source": [
    "## Ví dụ: Dự đoán giá nhà với thuật toán KNN\n",
    "---\n",
    "### A) Sử dụng một biến độc lập RM để dự đoán giá nhà"
   ]
  },
  {
   "cell_type": "code",
   "execution_count": null,
   "metadata": {},
   "outputs": [],
   "source": [
    "#Load dữ liệu từ datasets:\n",
    "import pandas as pd\n",
    "from sklearn.datasets import load_boston\n",
    "boston = load_boston()\n",
    "df_boston = pd.DataFrame(boston.data, columns=boston.feature_names)\n",
    "df_boston[\"MEDV\"] = boston.target\n",
    "df_boston.info()"
   ]
  },
  {
   "cell_type": "code",
   "execution_count": null,
   "metadata": {},
   "outputs": [],
   "source": [
    "import matplotlib.pyplot as plt\n",
    "#Trực quan hóa mối quan hệ giữa giá nhà với số phòng trung bình\n",
    "plt.scatter(df_boston['RM'],df_boston['MEDV'],marker='*', color='Blue')\n",
    "plt.title('Biểu đồ quan hệ giữa thuộc tính RM với giá nhà MEDV')\n",
    "plt.xlabel('RM')\n",
    "plt.ylabel('MEDV')\n",
    "plt.show()"
   ]
  },
  {
   "cell_type": "code",
   "execution_count": null,
   "metadata": {},
   "outputs": [],
   "source": [
    "#Lấy dữ liệu input và target.\n",
    "X_rm = df_boston['RM'].values\n",
    "y_prices =  df_boston['MEDV'].values"
   ]
  },
  {
   "cell_type": "code",
   "execution_count": null,
   "metadata": {},
   "outputs": [],
   "source": [
    "#tách tỷ lệ Train - Test\n",
    "#Sử dụng thuộc tính RM để dự đoán\n",
    "from sklearn.model_selection import train_test_split\n",
    "X_train, X_test, y_train, y_test = train_test_split(X_rm, \n",
    "                                                    y_prices, \n",
    "                                                    test_size=0.2, \n",
    "                                                    random_state=50)\n",
    "X_train = X_train.reshape(-1, 1)\n",
    "y_train = y_train.reshape(-1, 1)\n",
    "X_test = X_test.reshape(-1, 1)\n",
    "y_test = y_test.reshape(-1, 1)\n",
    "print(\"1. Kích thước tập Training: %d\" %len(y_train))\n",
    "print(\"2. Kích thước tập Test    : %d\" %len(y_test))"
   ]
  },
  {
   "cell_type": "code",
   "execution_count": null,
   "metadata": {},
   "outputs": [],
   "source": [
    "#Khai báo sử dụng thuật toán hồi quy KNN\n",
    "from sklearn.neighbors import KNeighborsRegressor\n",
    "\n",
    "#Trường hợp với n = 8\n",
    "knn_reg = KNeighborsRegressor(n_neighbors=8)\n",
    "\n",
    "#Huấn luyện model\n",
    "knn_reg.fit(X_train,y_train)\n",
    "print(knn_reg)"
   ]
  },
  {
   "cell_type": "code",
   "execution_count": null,
   "metadata": {},
   "outputs": [],
   "source": [
    "import numpy as np\n",
    "xx=np.linspace(min(X_train),max(X_train)).reshape(-1,1)\n",
    "plt.scatter(X_train,y_train,color=\"blue\")\n",
    "plt.plot(xx,knn_reg.predict(xx),color=\"red\",linewidth=3)\n",
    "plt.title('Mô hình hồi quy KNN với k=8')\n",
    "plt.ylabel(\"y: Value of house / 1000 USD\")\n",
    "plt.xlabel(\"x: Number of rooms\")\n",
    "plt.show()"
   ]
  },
  {
   "cell_type": "code",
   "execution_count": null,
   "metadata": {},
   "outputs": [],
   "source": [
    "from sklearn.metrics import mean_squared_error, r2_score\n",
    "# model evaluation for training set\n",
    "y_train_predict = knn_reg.predict(X_train)\n",
    "y_train_predict = y_train_predict.reshape(-1,1)\n",
    "\n",
    "rmse = (np.sqrt(mean_squared_error(y_train, y_train_predict)))\n",
    "r2 = r2_score(y_train, y_train_predict)\n",
    "\n",
    "print('A) MÔ HÌNH HỒI QUY KNN SỬ DỤNG 1 BIẾN ĐỘC LẬP-RM')\n",
    "print(\"Độ chính xác của mô hình trên tập huấn luyện:\")\n",
    "print(\"--------------------------------------------\")\n",
    "print('Sai số RMSE {}'.format(rmse))\n",
    "print('Sai số R2   {}'.format(r2))\n",
    "print(\"\\n\")\n",
    "\n",
    "# model evaluation for testing set\n",
    "y_test_predict = knn_reg.predict(X_test)\n",
    "y_test_predict = y_test_predict.reshape(-1,1)\n",
    "\n",
    "y_test = y_test.reshape(-1,1)\n",
    "rmse = (np.sqrt(mean_squared_error(y_test, y_test_predict)))\n",
    "r2 = r2_score(y_test, y_test_predict)\n",
    "\n",
    "print(\"Độ chính xác của mô hình trên tập kiểm thử:\")\n",
    "print(\"-------------------------------------------\")\n",
    "print('Sai số RMSE {}'.format(rmse))\n",
    "print('Sai số R2   {}'.format(r2))"
   ]
  },
  {
   "cell_type": "code",
   "execution_count": null,
   "metadata": {},
   "outputs": [],
   "source": [
    "#Trực quan hóa kết quả dự đoán với kết quả groudtruth\n",
    "import matplotlib.pyplot as plt\n",
    "plt.figure(figsize=(13,5))\n",
    "plt.plot(y_test_predict[:40], marker='*',color ='black', linestyle=':', label='Giá dự đoán - Prediction')\n",
    "plt.plot(y_test[:40], marker='d', color='red', linestyle='--', label='Giá thật - Groundtruth')\n",
    "plt.legend()\n",
    "plt.grid(True)"
   ]
  },
  {
   "cell_type": "markdown",
   "metadata": {},
   "source": [
    "### B) Sử dụng tất cả các biến để dự đoán giá nhà\n",
    "---"
   ]
  },
  {
   "cell_type": "code",
   "execution_count": null,
   "metadata": {},
   "outputs": [],
   "source": [
    "# Biến X_boston: Lưu trữ 13 biến độc lập (input)\n",
    "# Biến y_boston: Lưu trữ biến phụ thuộc (target)\n",
    "# Tách tập dữ liệu theo tỷ lệ 80%- 20%\n",
    "\n",
    "from sklearn.model_selection import train_test_split\n",
    "X_train_all, X_test_all, y_train, y_test = train_test_split(X_boston, \n",
    "                                                    y_boston, \n",
    "                                                    test_size=0.2, \n",
    "                                                    random_state=50)\n",
    "print(\"1. Kích thước tập Training: %d\" %len(y_train))\n",
    "print(\"2. Kích thước tập Test    : %d\" %len(y_test))"
   ]
  },
  {
   "cell_type": "code",
   "execution_count": null,
   "metadata": {},
   "outputs": [],
   "source": [
    "#Sử dụng thuật toán hồi quy KNN với k=3\n",
    "knn_reg_all = KNeighborsRegressor(n_neighbors = 3)\n",
    "\n",
    "#Huấn luyện\n",
    "knn_reg_all.fit(X_train_all,y_train)"
   ]
  },
  {
   "cell_type": "code",
   "execution_count": null,
   "metadata": {},
   "outputs": [],
   "source": [
    "from sklearn.metrics import mean_squared_error, r2_score\n",
    "# model evaluation for training set\n",
    "y_train_predict = knn_reg_all.predict(X_train_all)\n",
    "y_train_predict = y_train_predict.reshape(-1,1)\n",
    "\n",
    "rmse = (np.sqrt(mean_squared_error(y_train, y_train_predict)))\n",
    "r2 = r2_score(y_train, y_train_predict)\n",
    "\n",
    "print('B) MÔ HÌNH HỒI QUY KNN SỬ DỤNG TẤT CẢ BIẾN ĐỘC LẬP:')\n",
    "print(\"Độ chính xác của mô hình trên tập huấn luyện:\")\n",
    "print(\"--------------------------------------------\")\n",
    "print('Sai số RMSE {}'.format(rmse))\n",
    "print('Sai số R2   {}'.format(r2))\n",
    "print(\"\\n\")\n",
    "\n",
    "# model evaluation for testing set\n",
    "y_test_predict = knn_reg_all.predict(X_test_all)\n",
    "y_test_predict = y_test_predict.reshape(-1,1)\n",
    "\n",
    "y_test = y_test.reshape(-1,1)\n",
    "rmse = (np.sqrt(mean_squared_error(y_test, y_test_predict)))\n",
    "r2 = r2_score(y_test, y_test_predict)\n",
    "\n",
    "print(\"Độ chính xác của mô hình trên tập kiểm thử:\")\n",
    "print(\"-------------------------------------------\")\n",
    "print('Sai số RMSE {}'.format(rmse))\n",
    "print('Sai số R2   {}'.format(r2))"
   ]
  },
  {
   "cell_type": "code",
   "execution_count": null,
   "metadata": {},
   "outputs": [],
   "source": [
    "#Trực quan hóa kết quả dự đoán với kết quả groudtruth\n",
    "import matplotlib.pyplot as plt\n",
    "plt.figure(figsize=(13,5))\n",
    "plt.plot(y_test_predict[:80], marker='*',color ='black', linestyle=':', label='Giá dự đoán - Prediction')\n",
    "plt.plot(y_test[:80], marker='d', color='red', linestyle='--', label='Giá thật - Groundtruth')\n",
    "plt.legend()\n",
    "plt.grid(True)"
   ]
  },
  {
   "cell_type": "markdown",
   "metadata": {},
   "source": [
    "## THỰC HÀNH 3.4\n",
    "---\n",
    "Yêu cầu 1, 2 giống với bài thực hành 3.3\n",
    "\n",
    "Yêu cầu 3:\n",
    "1. Xây dựng mô hình KNN cho bài toán hồi quy (Simple Linear Regression) với thuộc tính có ảnh hưởng cao nhất tới thuộc tính Target. Xác định sai số RMSE và R2 trên tập Train và Test.\n",
    "2. Xây dựng mô hình KNN cho bài toán hồi quy với tất các thuộc tính đầu vào (input). Xác định sai số RMSE và R2  trên tập Train và Test."
   ]
  },
  {
   "cell_type": "code",
   "execution_count": null,
   "metadata": {},
   "outputs": [],
   "source": [
    "#{Sinh viên viết code ở đây}\n",
    "\n",
    "\n"
   ]
  },
  {
   "cell_type": "code",
   "execution_count": null,
   "metadata": {},
   "outputs": [],
   "source": []
  },
  {
   "cell_type": "code",
   "execution_count": null,
   "metadata": {},
   "outputs": [],
   "source": []
  },
  {
   "cell_type": "code",
   "execution_count": null,
   "metadata": {},
   "outputs": [],
   "source": []
  },
  {
   "cell_type": "code",
   "execution_count": null,
   "metadata": {},
   "outputs": [],
   "source": []
  }
 ],
 "metadata": {
  "kernelspec": {
   "display_name": "Python 3",
   "language": "python",
   "name": "python3"
  },
  "language_info": {
   "codemirror_mode": {
    "name": "ipython",
    "version": 3
   },
   "file_extension": ".py",
   "mimetype": "text/x-python",
   "name": "python",
   "nbconvert_exporter": "python",
   "pygments_lexer": "ipython3",
   "version": "3.8.8"
  }
 },
 "nbformat": 4,
 "nbformat_minor": 2
}
