{
 "cells": [
  {
   "cell_type": "markdown",
   "id": "5f085614",
   "metadata": {},
   "source": [
    "**Bài Kiểm Tra Điểm B**\n",
    "* Họ tên sinh viên: Trịnh Thế Vũ\n",
    "* Mã sinh viên: 1821050886\n",
    "* Lớp/Nhóm môn học: 7080510/03\n",
    "* Email: trinhvuthe@gmail.com"
   ]
  },
  {
   "cell_type": "code",
   "execution_count": 74,
   "id": "58df2bb4",
   "metadata": {},
   "outputs": [
    {
     "name": "stdout",
     "output_type": "stream",
     "text": [
      "<class 'pandas.core.frame.DataFrame'>\n",
      "RangeIndex: 961 entries, 0 to 960\n",
      "Data columns (total 5 columns):\n",
      " #   Column   Non-Null Count  Dtype\n",
      "---  ------   --------------  -----\n",
      " 0   Age      961 non-null    int64\n",
      " 1   Shape    961 non-null    int64\n",
      " 2   Margin   961 non-null    int64\n",
      " 3   Density  961 non-null    int64\n",
      " 4   Target   961 non-null    int64\n",
      "dtypes: int64(5)\n",
      "memory usage: 37.7 KB\n"
     ]
    }
   ],
   "source": [
    "#đọc dữ liệu từ file csv\n",
    "import pandas as pd\n",
    "import numpy as np\n",
    "import matplotlib.pyplot as plt\n",
    "%matplotlib inline\n",
    "\n",
    "path_practice4 = \"Data/Data_Practice4_ok.csv\"\n",
    "df_practice4 = pd.read_csv(path_practice4)\n",
    "df_practice4.info()\n"
   ]
  },
  {
   "cell_type": "code",
   "execution_count": 56,
   "id": "8b4478c3",
   "metadata": {},
   "outputs": [
    {
     "data": {
      "text/html": [
       "<div>\n",
       "<style scoped>\n",
       "    .dataframe tbody tr th:only-of-type {\n",
       "        vertical-align: middle;\n",
       "    }\n",
       "\n",
       "    .dataframe tbody tr th {\n",
       "        vertical-align: top;\n",
       "    }\n",
       "\n",
       "    .dataframe thead th {\n",
       "        text-align: right;\n",
       "    }\n",
       "</style>\n",
       "<table border=\"1\" class=\"dataframe\">\n",
       "  <thead>\n",
       "    <tr style=\"text-align: right;\">\n",
       "      <th></th>\n",
       "      <th>Age</th>\n",
       "      <th>Shape</th>\n",
       "      <th>Margin</th>\n",
       "      <th>Density</th>\n",
       "      <th>Target</th>\n",
       "    </tr>\n",
       "  </thead>\n",
       "  <tbody>\n",
       "    <tr>\n",
       "      <th>0</th>\n",
       "      <td>3</td>\n",
       "      <td>3</td>\n",
       "      <td>2</td>\n",
       "      <td>0</td>\n",
       "      <td>1</td>\n",
       "    </tr>\n",
       "    <tr>\n",
       "      <th>1</th>\n",
       "      <td>1</td>\n",
       "      <td>1</td>\n",
       "      <td>0</td>\n",
       "      <td>0</td>\n",
       "      <td>1</td>\n",
       "    </tr>\n",
       "    <tr>\n",
       "      <th>2</th>\n",
       "      <td>2</td>\n",
       "      <td>0</td>\n",
       "      <td>2</td>\n",
       "      <td>0</td>\n",
       "      <td>1</td>\n",
       "    </tr>\n",
       "    <tr>\n",
       "      <th>3</th>\n",
       "      <td>0</td>\n",
       "      <td>1</td>\n",
       "      <td>0</td>\n",
       "      <td>0</td>\n",
       "      <td>0</td>\n",
       "    </tr>\n",
       "    <tr>\n",
       "      <th>4</th>\n",
       "      <td>3</td>\n",
       "      <td>1</td>\n",
       "      <td>2</td>\n",
       "      <td>0</td>\n",
       "      <td>1</td>\n",
       "    </tr>\n",
       "  </tbody>\n",
       "</table>\n",
       "</div>"
      ],
      "text/plain": [
       "   Age  Shape  Margin  Density  Target\n",
       "0    3      3       2        0       1\n",
       "1    1      1       0        0       1\n",
       "2    2      0       2        0       1\n",
       "3    0      1       0        0       0\n",
       "4    3      1       2        0       1"
      ]
     },
     "execution_count": 56,
     "metadata": {},
     "output_type": "execute_result"
    }
   ],
   "source": [
    "#Hiển thị 5 dòng dữ liệu của Dataset\n",
    "df_practice4.head()"
   ]
  },
  {
   "cell_type": "code",
   "execution_count": 57,
   "id": "ea4c5421",
   "metadata": {},
   "outputs": [
    {
     "data": {
      "text/plain": [
       "array([[3, 2, 0, 1],\n",
       "       [1, 0, 0, 1],\n",
       "       [0, 2, 0, 1],\n",
       "       ...,\n",
       "       [0, 2, 0, 0],\n",
       "       [0, 2, 0, 1],\n",
       "       [3, 3, 0, 0]], dtype=int64)"
      ]
     },
     "execution_count": 57,
     "metadata": {},
     "output_type": "execute_result"
    }
   ],
   "source": [
    "#Tách biến độc lập - biến phụ thuộc\n",
    "#1.Tách biến độc lập X_pratice4\n",
    "X_pratice4 = df_practice4.iloc[:,1:].values\n",
    "X_pratice4"
   ]
  },
  {
   "cell_type": "code",
   "execution_count": 58,
   "id": "b6a32aff",
   "metadata": {},
   "outputs": [
    {
     "data": {
      "text/plain": [
       "(961, 4)"
      ]
     },
     "execution_count": 58,
     "metadata": {},
     "output_type": "execute_result"
    }
   ],
   "source": [
    "X_pratice4.shape\n"
   ]
  },
  {
   "cell_type": "code",
   "execution_count": 59,
   "id": "3458440d",
   "metadata": {},
   "outputs": [
    {
     "data": {
      "text/plain": [
       "array([3, 1, 2, 0, 3, 2, 3, 1, 2, 2, 3, 1, 2, 1, 2, 2, 2, 2, 2, 1, 3, 2,\n",
       "       1, 1, 2, 3, 3, 2, 1, 2, 1, 2, 2, 1, 4, 3, 2, 3, 1, 2, 2, 3, 2, 2,\n",
       "       2, 1, 2, 0, 1, 3, 3, 3, 0, 2, 2, 1, 1, 2, 1, 2, 2, 2, 2, 2, 3, 0,\n",
       "       1, 3, 1, 2, 3, 3, 2, 3, 3, 0, 3, 2, 2, 3, 3, 1, 3, 2, 2, 0, 2, 1,\n",
       "       2, 2, 3, 3, 3, 2, 2, 2, 1, 1, 2, 0, 2, 2, 2, 0, 2, 2, 1, 0, 2, 0,\n",
       "       1, 3, 2, 2, 1, 2, 1, 2, 2, 4, 2, 1, 0, 3, 0, 2, 3, 1, 2, 1, 3, 3,\n",
       "       4, 2, 3, 1, 2, 2, 2, 3, 3, 2, 1, 1, 2, 2, 2, 2, 3, 1, 2, 3, 3, 1,\n",
       "       0, 2, 2, 2, 2, 2, 3, 1, 0, 2, 1, 4, 3, 2, 2, 4, 0, 1, 2, 1, 2, 2,\n",
       "       2, 1, 3, 1, 1, 3, 0, 1, 3, 3, 1, 3, 4, 2, 0, 3, 2, 1, 2, 4, 1, 3,\n",
       "       3, 2, 1, 1, 2, 1, 2, 3, 1, 1, 2, 3, 1, 3, 2, 1, 3, 1, 2, 2, 1, 1,\n",
       "       1, 1, 2, 3, 2, 1, 2, 2, 2, 1, 3, 3, 3, 2, 2, 1, 2, 2, 2, 0, 3, 2,\n",
       "       1, 0, 3, 1, 1, 2, 1, 1, 0, 2, 1, 3, 2, 3, 3, 3, 3, 3, 2, 1, 1, 1,\n",
       "       3, 2, 3, 2, 3, 2, 3, 2, 3, 3, 2, 3, 3, 1, 3, 2, 1, 1, 1, 3, 2, 2,\n",
       "       3, 1, 2, 2, 3, 1, 1, 3, 2, 3, 0, 2, 3, 1, 1, 2, 1, 2, 2, 2, 1, 1,\n",
       "       1, 1, 2, 2, 3, 3, 3, 3, 1, 3, 1, 2, 3, 2, 0, 0, 3, 1, 1, 1, 3, 2,\n",
       "       4, 2, 2, 2, 2, 3, 3, 4, 1, 2, 1, 2, 1, 0, 2, 2, 2, 3, 1, 1, 0, 1,\n",
       "       0, 1, 4, 1, 1, 2, 2, 1, 4, 3, 1, 1, 2, 1, 1, 2, 2, 3, 3, 1, 1, 1,\n",
       "       3, 2, 1, 3, 2, 1, 1, 2, 2, 1, 3, 3, 3, 2, 1, 1, 3, 2, 3, 1, 0, 2,\n",
       "       3, 2, 1, 3, 2, 3, 1, 2, 3, 1, 2, 3, 3, 3, 2, 3, 2, 1, 3, 1, 1, 2,\n",
       "       3, 3, 3, 0, 1, 0, 1, 3, 3, 2, 2, 0, 1, 1, 1, 1, 4, 3, 2, 3, 1, 1,\n",
       "       2, 2, 0, 2, 3, 3, 3, 0, 2, 3, 3, 1, 2, 2, 2, 0, 3, 3, 4, 1, 0, 2,\n",
       "       2, 0, 2, 2, 4, 3, 0, 3, 1, 2, 2, 2, 2, 1, 1, 2, 2, 1, 1, 1, 1, 1,\n",
       "       2, 0, 1, 1, 1, 1, 1, 2, 2, 4, 2, 2, 4, 2, 2, 3, 1, 2, 0, 0, 1, 0,\n",
       "       1, 1, 3, 3, 1, 2, 4, 3, 2, 0, 2, 3, 0, 3, 2, 2, 3, 1, 2, 2, 3, 2,\n",
       "       2, 3, 1, 2, 1, 2, 0, 3, 0, 2, 2, 2, 0, 1, 1, 1, 3, 0, 2, 3, 3, 3,\n",
       "       3, 0, 1, 0, 3, 1, 2, 2, 2, 4, 1, 2, 2, 3, 3, 1, 2, 2, 1, 2, 3, 2,\n",
       "       1, 1, 2, 2, 1, 0, 4, 1, 2, 2, 1, 2, 2, 2, 1, 1, 2, 3, 2, 2, 0, 2,\n",
       "       2, 3, 4, 2, 2, 2, 2, 1, 2, 2, 2, 3, 3, 2, 1, 4, 1, 2, 3, 2, 1, 3,\n",
       "       4, 1, 1, 1, 2, 2, 3, 2, 2, 2, 3, 2, 1, 0, 2, 2, 1, 3, 0, 1, 2, 1,\n",
       "       3, 2, 3, 1, 2, 0, 1, 2, 3, 2, 2, 2, 1, 3, 1, 1, 3, 2, 3, 2, 1, 3,\n",
       "       2, 2, 2, 2, 2, 0, 2, 2, 2, 2, 3, 3, 2, 3, 2, 2, 1, 2, 1, 0, 2, 2,\n",
       "       1, 2, 2, 1, 3, 2, 2, 1, 2, 3, 2, 3, 0, 3, 2, 2, 1, 3, 2, 2, 2, 2,\n",
       "       2, 2, 2, 1, 3, 0, 2, 0, 2, 3, 2, 2, 1, 3, 3, 3, 0, 2, 3, 2, 3, 2,\n",
       "       4, 3, 0, 2, 1, 2, 2, 0, 1, 2, 2, 2, 2, 2, 2, 2, 2, 0, 0, 3, 3, 2,\n",
       "       2, 2, 2, 0, 1, 2, 2, 2, 3, 2, 2, 2, 1, 3, 3, 2, 1, 3, 3, 2, 3, 3,\n",
       "       2, 1, 3, 3, 3, 1, 1, 0, 2, 2, 0, 0, 2, 3, 2, 2, 1, 2, 3, 2, 2, 1,\n",
       "       1, 1, 1, 2, 2, 4, 3, 3, 2, 4, 0, 2, 2, 0, 2, 2, 2, 3, 3, 2, 3, 2,\n",
       "       2, 3, 2, 1, 1, 1, 2, 3, 1, 3, 1, 2, 2, 4, 0, 3, 4, 2, 3, 2, 3, 3,\n",
       "       1, 2, 1, 2, 0, 3, 2, 1, 1, 2, 2, 0, 4, 3, 1, 1, 1, 1, 2, 1, 2, 1,\n",
       "       1, 3, 2, 2, 2, 3, 2, 0, 3, 1, 0, 0, 2, 2, 1, 1, 2, 3, 1, 2, 2, 1,\n",
       "       2, 2, 0, 1, 2, 2, 2, 2, 3, 1, 3, 1, 3, 1, 1, 3, 2, 3, 2, 2, 2, 2,\n",
       "       1, 2, 2, 1, 2, 2, 3, 1, 3, 1, 2, 2, 3, 2, 2, 1, 1, 1, 1, 2, 0, 2,\n",
       "       2, 2, 1, 0, 3, 0, 2, 2, 2, 2, 2, 3, 2, 3, 2, 2, 1, 2, 2, 3, 3, 2,\n",
       "       2, 2, 2, 2, 3, 3, 3, 2, 1, 2, 1, 2, 2, 3, 2], dtype=int64)"
      ]
     },
     "execution_count": 59,
     "metadata": {},
     "output_type": "execute_result"
    }
   ],
   "source": [
    "#2.Tách biến phụ thuộc Y_practice\n",
    "Y_practice4 = df_practice4.iloc[:,0].values\n",
    "Y_practice4"
   ]
  },
  {
   "cell_type": "code",
   "execution_count": 60,
   "id": "460a25a9",
   "metadata": {},
   "outputs": [
    {
     "data": {
      "text/plain": [
       "(961,)"
      ]
     },
     "execution_count": 60,
     "metadata": {},
     "output_type": "execute_result"
    }
   ],
   "source": [
    "Y_practice4.shape"
   ]
  },
  {
   "cell_type": "code",
   "execution_count": 61,
   "id": "a13dae60",
   "metadata": {},
   "outputs": [
    {
     "name": "stdout",
     "output_type": "stream",
     "text": [
      "1. Kích thước tập training: (720, 4)\n",
      "2. Kích thước tập test: (241, 4)\n"
     ]
    }
   ],
   "source": [
    "#Tách thành tập Train-Test theo tỷ lệ 75-25:\n",
    "from sklearn.model_selection import train_test_split\n",
    "X_practice4_train, X_practice4_test, Y_practice4_train, Y_practice4_test = train_test_split(X_pratice4,\n",
    "                                                                                   Y_practice4,\n",
    "                                                                                   test_size = 0.25,\n",
    "                                                                                   random_state=42)\n",
    "print('1. Kích thước tập training:',X_practice4_train.shape)\n",
    "print('2. Kích thước tập test:',X_practice4_test.shape)\n",
    "\n",
    "\n",
    "\n"
   ]
  },
  {
   "cell_type": "code",
   "execution_count": 62,
   "id": "f0c8a9c8",
   "metadata": {},
   "outputs": [
    {
     "name": "stdout",
     "output_type": "stream",
     "text": [
      "Do chinh xac tren tap hl: 40.14\n"
     ]
    }
   ],
   "source": [
    "#Xây dựng model và huấn luyện:\n",
    "from sklearn.neighbors import KNeighborsClassifier\n",
    "\n",
    "#Khai bao model voi cac tham so mac dinh:\n",
    "KNN_practice4 = KNeighborsClassifier()\n",
    "\n",
    "#huan luyen vowis tajp train:\n",
    "KNN_practice4.fit(X_practice4_train,Y_practice4_train)\n",
    "\n",
    "#Do chisnh xasc\n",
    "acc_train = KNN_practice4.score(X_practice4_train,Y_practice4_train)\n",
    "print('Do chinh xac tren tap hl:',round(acc_train*100,2))"
   ]
  },
  {
   "cell_type": "code",
   "execution_count": 63,
   "id": "314ddfca",
   "metadata": {},
   "outputs": [
    {
     "name": "stdout",
     "output_type": "stream",
     "text": [
      "Gia tri that: [2 2 1 0 1 2 1 2 2 3 2 3 1 1 2 2 1 1 1 3 2 2 2 2 2 1 3 2 3 3]\n",
      "Mo hinh du doan: [0 3 3 0 2 1 0 0 3 1 0 3 1 2 1 0 2 0 1 3 3 3 2 2 1 3 3 3 3 1]\n"
     ]
    }
   ],
   "source": [
    "#Dự đoán trên tập test\n",
    "Y_practice4_predic = KNN_practice4.predict(X_pratice4_test)\n",
    "\n",
    "#kiem tra kq du doan:\n",
    "print('Gia tri that:',Y_practice4_test[:30] )\n",
    "print('Mo hinh du doan:',Y_practice4_predic[:30] )\n",
    "\n"
   ]
  },
  {
   "cell_type": "code",
   "execution_count": 64,
   "id": "5ef6f9e4",
   "metadata": {},
   "outputs": [
    {
     "name": "stdout",
     "output_type": "stream",
     "text": [
      "do chinh xac cua mo hinh tren tap Test: 32.37\n"
     ]
    }
   ],
   "source": [
    "#Đánh giá độ chính xác:\n",
    "from sklearn.metrics import accuracy_score\n",
    "acc_practice4 = accuracy_score(Y_practice4_test,Y_practice4_predic)\n",
    "print('do chinh xac cua mo hinh tren tap Test:',round(acc_practice4*100,2))\n",
    "\n"
   ]
  },
  {
   "cell_type": "code",
   "execution_count": 65,
   "id": "2ca06559",
   "metadata": {},
   "outputs": [
    {
     "name": "stdout",
     "output_type": "stream",
     "text": [
      "so mau du doan dung  tren tap test: 78 / 241\n"
     ]
    }
   ],
   "source": [
    "#Đếm số mẫu dự đoán đúng\n",
    "acc_practice = accuracy_score(Y_practice4_test,Y_practice4_predic, normalize=False)\n",
    "print('so mau du doan dung  tren tap test:',acc_practice,'/',len(Y_practice4_test))\n"
   ]
  },
  {
   "cell_type": "code",
   "execution_count": 66,
   "id": "cf399cb5",
   "metadata": {},
   "outputs": [
    {
     "name": "stdout",
     "output_type": "stream",
     "text": [
      "Tổng số mẫu tập Test: 241\n",
      "Counter({2: 107, 1: 63, 3: 45, 0: 21, 4: 5})\n"
     ]
    }
   ],
   "source": [
    "#Đếm số lượng theo từng lớp trong tập Test\n",
    "from collections import Counter\n",
    "\n",
    "print('Tổng số mẫu tập Test:', len(Y_practice4_test))\n",
    "print(Counter(Y_practice4_test))"
   ]
  },
  {
   "cell_type": "code",
   "execution_count": 67,
   "id": "61cbed42",
   "metadata": {},
   "outputs": [
    {
     "name": "stdout",
     "output_type": "stream",
     "text": [
      "Tổng số mẫu dự đoán đúng trên tập Test: 78  / 241\n"
     ]
    }
   ],
   "source": [
    "#Đếm số mẫu dự đoán đúng\n",
    "acc_practice1 = accuracy_score(Y_practice4_test, Y_practice4_predic,normalize=False)\n",
    "print('Tổng số mẫu dự đoán đúng trên tập Test:', acc_practice1, ' /', len(Y_practice4_test))"
   ]
  },
  {
   "cell_type": "code",
   "execution_count": 68,
   "id": "db971b9b",
   "metadata": {},
   "outputs": [
    {
     "name": "stdout",
     "output_type": "stream",
     "text": [
      "Confusion matrix - Titanic:\n",
      "[[ 8  1  9  3  0]\n",
      " [15 16 20 12  0]\n",
      " [21 21 35 30  0]\n",
      " [ 3 16  7 19  0]\n",
      " [ 0  1  2  2  0]]\n"
     ]
    }
   ],
   "source": [
    "#Sử dụng ma trận confussion matrix kiểm tra kết quả:\n",
    "from sklearn.metrics import confusion_matrix\n",
    "cnf_matrix_titanic = confusion_matrix(Y_practice4_test,Y_practice4_predic,)\n",
    "print('Confusion matrix - Titanic:')\n",
    "print(cnf_matrix_titanic)"
   ]
  },
  {
   "cell_type": "code",
   "execution_count": 69,
   "id": "6003bb23",
   "metadata": {},
   "outputs": [
    {
     "name": "stdout",
     "output_type": "stream",
     "text": [
      "Kết quả phân tích trên tập dữ liệu TEST:\n",
      "Mô hình dự đoán:  [2 2 1 0 1 2 1 2 2 3 2 3 1 1 2 2 1 1 1 3 2 2 2 2 2 1 3 2 3 3]\n",
      "Thực tế    :  [2 2 2 2 2 2 2 2 3 2 2 2 2 2 1 2 2 2 1 2 3 3 2 2 2 3 2 3 2 1]\n",
      "Độ chính xác của mô hình practice (k=15, weights=distance): 0.4190871369294606\n",
      "Độ chính xác theo %: 41.91\n"
     ]
    }
   ],
   "source": [
    "#Thay đổi các tham số của model: đánh giá độ chính xác\n",
    "# Thay đổi tham số n_neighbors, weights:\n",
    "KNN_practice = KNeighborsClassifier(n_neighbors=15, \n",
    "                                     weights='distance')\n",
    "\n",
    "#Thực hiện huấn luyện với dữ liệu tập train\n",
    "KNN_practice.fit(X_practice4_train,Y_practice4_train)\n",
    "\n",
    "#Sử dụng mô hình huấn luyện dự đoán trên tập dữ liệu Test\n",
    "Y_predic2 = KNN_practice.predict(X_practice4_test)\n",
    "print(\"Kết quả phân tích trên tập dữ liệu TEST:\")\n",
    "print(\"Mô hình dự đoán: \", Y_practice4_test[:30])\n",
    "print(\"Thực tế    : \", Y_predic2[:30])\n",
    "\n",
    "acc_practice21 = accuracy_score(Y_practice4_test, Y_predic2)\n",
    "print('Độ chính xác của mô hình practice (k=15, weights=distance):', acc_practice21)\n",
    "print('Độ chính xác theo %:', round(acc_practice21*100,2))"
   ]
  },
  {
   "cell_type": "code",
   "execution_count": 70,
   "id": "13d92e2a",
   "metadata": {},
   "outputs": [
    {
     "name": "stdout",
     "output_type": "stream",
     "text": [
      "Tổng số mẫu dự đoán đúng: 101  / 241\n"
     ]
    }
   ],
   "source": [
    "acc_practice22 = accuracy_score(Y_practice4_test, Y_predic2, normalize=False)\n",
    "print('Tổng số mẫu dự đoán đúng:', acc_practice22, ' /', len(Y_practice4_test))"
   ]
  },
  {
   "cell_type": "code",
   "execution_count": null,
   "id": "17de16b2",
   "metadata": {},
   "outputs": [],
   "source": []
  }
 ],
 "metadata": {
  "kernelspec": {
   "display_name": "Python 3",
   "language": "python",
   "name": "python3"
  },
  "language_info": {
   "codemirror_mode": {
    "name": "ipython",
    "version": 3
   },
   "file_extension": ".py",
   "mimetype": "text/x-python",
   "name": "python",
   "nbconvert_exporter": "python",
   "pygments_lexer": "ipython3",
   "version": "3.8.8"
  }
 },
 "nbformat": 4,
 "nbformat_minor": 5
}
