{
 "cells": [
  {
   "cell_type": "code",
   "execution_count": 2,
   "id": "294a2922",
   "metadata": {},
   "outputs": [
    {
     "name": "stdout",
     "output_type": "stream",
     "text": [
      "<class 'pandas.core.frame.DataFrame'>\n",
      "RangeIndex: 961 entries, 0 to 960\n",
      "Data columns (total 5 columns):\n",
      " #   Column   Non-Null Count  Dtype\n",
      "---  ------   --------------  -----\n",
      " 0   Age      961 non-null    int64\n",
      " 1   Shape    961 non-null    int64\n",
      " 2   Margin   961 non-null    int64\n",
      " 3   Density  961 non-null    int64\n",
      " 4   Target   961 non-null    int64\n",
      "dtypes: int64(5)\n",
      "memory usage: 37.7 KB\n"
     ]
    }
   ],
   "source": [
    "#đọc dữ liệu từ file csv\n",
    "import pandas as pd\n",
    "import numpy as np\n",
    "import matplotlib.pyplot as plt\n",
    "%matplotlib inline\n",
    "\n",
    "path_practice4 = \"Data/Data_Practice4_ok.csv\"\n",
    "df_practice4 = pd.read_csv(path_practice4)\n",
    "df_practice4.info()\n"
   ]
  },
  {
   "cell_type": "code",
   "execution_count": 3,
   "id": "807e32eb",
   "metadata": {},
   "outputs": [
    {
     "data": {
      "text/html": [
       "<div>\n",
       "<style scoped>\n",
       "    .dataframe tbody tr th:only-of-type {\n",
       "        vertical-align: middle;\n",
       "    }\n",
       "\n",
       "    .dataframe tbody tr th {\n",
       "        vertical-align: top;\n",
       "    }\n",
       "\n",
       "    .dataframe thead th {\n",
       "        text-align: right;\n",
       "    }\n",
       "</style>\n",
       "<table border=\"1\" class=\"dataframe\">\n",
       "  <thead>\n",
       "    <tr style=\"text-align: right;\">\n",
       "      <th></th>\n",
       "      <th>Age</th>\n",
       "      <th>Shape</th>\n",
       "      <th>Margin</th>\n",
       "      <th>Density</th>\n",
       "      <th>Target</th>\n",
       "    </tr>\n",
       "  </thead>\n",
       "  <tbody>\n",
       "    <tr>\n",
       "      <th>0</th>\n",
       "      <td>3</td>\n",
       "      <td>3</td>\n",
       "      <td>2</td>\n",
       "      <td>0</td>\n",
       "      <td>1</td>\n",
       "    </tr>\n",
       "    <tr>\n",
       "      <th>1</th>\n",
       "      <td>1</td>\n",
       "      <td>1</td>\n",
       "      <td>0</td>\n",
       "      <td>0</td>\n",
       "      <td>1</td>\n",
       "    </tr>\n",
       "    <tr>\n",
       "      <th>2</th>\n",
       "      <td>2</td>\n",
       "      <td>0</td>\n",
       "      <td>2</td>\n",
       "      <td>0</td>\n",
       "      <td>1</td>\n",
       "    </tr>\n",
       "    <tr>\n",
       "      <th>3</th>\n",
       "      <td>0</td>\n",
       "      <td>1</td>\n",
       "      <td>0</td>\n",
       "      <td>0</td>\n",
       "      <td>0</td>\n",
       "    </tr>\n",
       "    <tr>\n",
       "      <th>4</th>\n",
       "      <td>3</td>\n",
       "      <td>1</td>\n",
       "      <td>2</td>\n",
       "      <td>0</td>\n",
       "      <td>1</td>\n",
       "    </tr>\n",
       "  </tbody>\n",
       "</table>\n",
       "</div>"
      ],
      "text/plain": [
       "   Age  Shape  Margin  Density  Target\n",
       "0    3      3       2        0       1\n",
       "1    1      1       0        0       1\n",
       "2    2      0       2        0       1\n",
       "3    0      1       0        0       0\n",
       "4    3      1       2        0       1"
      ]
     },
     "execution_count": 3,
     "metadata": {},
     "output_type": "execute_result"
    }
   ],
   "source": [
    "#Hiển thị 5 dòng dữ liệu của Dataset\n",
    "df_practice4.head()"
   ]
  },
  {
   "cell_type": "code",
   "execution_count": 16,
   "id": "d93691c0",
   "metadata": {},
   "outputs": [
    {
     "data": {
      "text/html": [
       "<div>\n",
       "<style scoped>\n",
       "    .dataframe tbody tr th:only-of-type {\n",
       "        vertical-align: middle;\n",
       "    }\n",
       "\n",
       "    .dataframe tbody tr th {\n",
       "        vertical-align: top;\n",
       "    }\n",
       "\n",
       "    .dataframe thead th {\n",
       "        text-align: right;\n",
       "    }\n",
       "</style>\n",
       "<table border=\"1\" class=\"dataframe\">\n",
       "  <thead>\n",
       "    <tr style=\"text-align: right;\">\n",
       "      <th></th>\n",
       "      <th>Age</th>\n",
       "      <th>Shape</th>\n",
       "      <th>Margin</th>\n",
       "      <th>Density</th>\n",
       "      <th>Target</th>\n",
       "    </tr>\n",
       "  </thead>\n",
       "  <tbody>\n",
       "    <tr>\n",
       "      <th>956</th>\n",
       "      <td>1</td>\n",
       "      <td>2</td>\n",
       "      <td>0</td>\n",
       "      <td>0</td>\n",
       "      <td>0</td>\n",
       "    </tr>\n",
       "    <tr>\n",
       "      <th>957</th>\n",
       "      <td>2</td>\n",
       "      <td>0</td>\n",
       "      <td>2</td>\n",
       "      <td>0</td>\n",
       "      <td>1</td>\n",
       "    </tr>\n",
       "    <tr>\n",
       "      <th>958</th>\n",
       "      <td>2</td>\n",
       "      <td>0</td>\n",
       "      <td>2</td>\n",
       "      <td>0</td>\n",
       "      <td>0</td>\n",
       "    </tr>\n",
       "    <tr>\n",
       "      <th>959</th>\n",
       "      <td>3</td>\n",
       "      <td>0</td>\n",
       "      <td>2</td>\n",
       "      <td>0</td>\n",
       "      <td>1</td>\n",
       "    </tr>\n",
       "    <tr>\n",
       "      <th>960</th>\n",
       "      <td>2</td>\n",
       "      <td>3</td>\n",
       "      <td>3</td>\n",
       "      <td>0</td>\n",
       "      <td>0</td>\n",
       "    </tr>\n",
       "  </tbody>\n",
       "</table>\n",
       "</div>"
      ],
      "text/plain": [
       "     Age  Shape  Margin  Density  Target\n",
       "956    1      2       0        0       0\n",
       "957    2      0       2        0       1\n",
       "958    2      0       2        0       0\n",
       "959    3      0       2        0       1\n",
       "960    2      3       3        0       0"
      ]
     },
     "execution_count": 16,
     "metadata": {},
     "output_type": "execute_result"
    }
   ],
   "source": [
    "df_practice4.tail()"
   ]
  },
  {
   "cell_type": "code",
   "execution_count": 7,
   "id": "d1189cf3",
   "metadata": {},
   "outputs": [
    {
     "data": {
      "text/plain": [
       "array([[3, 2, 0, 1],\n",
       "       [1, 0, 0, 1],\n",
       "       [0, 2, 0, 1],\n",
       "       ...,\n",
       "       [0, 2, 0, 0],\n",
       "       [0, 2, 0, 1],\n",
       "       [3, 3, 0, 0]], dtype=int64)"
      ]
     },
     "execution_count": 7,
     "metadata": {},
     "output_type": "execute_result"
    }
   ],
   "source": [
    "#Tách biến độc lập - biến phụ thuộc\n",
    "#1.Tách biến độc lập X_pratice4\n",
    "X_pratice4 = df_practice4.iloc[:,1:].values\n",
    "X_pratice4\n",
    "\n",
    "\n"
   ]
  },
  {
   "cell_type": "code",
   "execution_count": 8,
   "id": "a31bf55c",
   "metadata": {},
   "outputs": [
    {
     "data": {
      "text/plain": [
       "(961, 4)"
      ]
     },
     "execution_count": 8,
     "metadata": {},
     "output_type": "execute_result"
    }
   ],
   "source": [
    "X_pratice4.shape"
   ]
  },
  {
   "cell_type": "code",
   "execution_count": 10,
   "id": "6b1fbe7f",
   "metadata": {},
   "outputs": [
    {
     "data": {
      "text/plain": [
       "array([3, 1, 2, 0, 3, 2, 3, 1, 2, 2, 3, 1, 2, 1, 2, 2, 2, 2, 2, 1, 3, 2,\n",
       "       1, 1, 2, 3, 3, 2, 1, 2, 1, 2, 2, 1, 4, 3, 2, 3, 1, 2, 2, 3, 2, 2,\n",
       "       2, 1, 2, 0, 1, 3, 3, 3, 0, 2, 2, 1, 1, 2, 1, 2, 2, 2, 2, 2, 3, 0,\n",
       "       1, 3, 1, 2, 3, 3, 2, 3, 3, 0, 3, 2, 2, 3, 3, 1, 3, 2, 2, 0, 2, 1,\n",
       "       2, 2, 3, 3, 3, 2, 2, 2, 1, 1, 2, 0, 2, 2, 2, 0, 2, 2, 1, 0, 2, 0,\n",
       "       1, 3, 2, 2, 1, 2, 1, 2, 2, 4, 2, 1, 0, 3, 0, 2, 3, 1, 2, 1, 3, 3,\n",
       "       4, 2, 3, 1, 2, 2, 2, 3, 3, 2, 1, 1, 2, 2, 2, 2, 3, 1, 2, 3, 3, 1,\n",
       "       0, 2, 2, 2, 2, 2, 3, 1, 0, 2, 1, 4, 3, 2, 2, 4, 0, 1, 2, 1, 2, 2,\n",
       "       2, 1, 3, 1, 1, 3, 0, 1, 3, 3, 1, 3, 4, 2, 0, 3, 2, 1, 2, 4, 1, 3,\n",
       "       3, 2, 1, 1, 2, 1, 2, 3, 1, 1, 2, 3, 1, 3, 2, 1, 3, 1, 2, 2, 1, 1,\n",
       "       1, 1, 2, 3, 2, 1, 2, 2, 2, 1, 3, 3, 3, 2, 2, 1, 2, 2, 2, 0, 3, 2,\n",
       "       1, 0, 3, 1, 1, 2, 1, 1, 0, 2, 1, 3, 2, 3, 3, 3, 3, 3, 2, 1, 1, 1,\n",
       "       3, 2, 3, 2, 3, 2, 3, 2, 3, 3, 2, 3, 3, 1, 3, 2, 1, 1, 1, 3, 2, 2,\n",
       "       3, 1, 2, 2, 3, 1, 1, 3, 2, 3, 0, 2, 3, 1, 1, 2, 1, 2, 2, 2, 1, 1,\n",
       "       1, 1, 2, 2, 3, 3, 3, 3, 1, 3, 1, 2, 3, 2, 0, 0, 3, 1, 1, 1, 3, 2,\n",
       "       4, 2, 2, 2, 2, 3, 3, 4, 1, 2, 1, 2, 1, 0, 2, 2, 2, 3, 1, 1, 0, 1,\n",
       "       0, 1, 4, 1, 1, 2, 2, 1, 4, 3, 1, 1, 2, 1, 1, 2, 2, 3, 3, 1, 1, 1,\n",
       "       3, 2, 1, 3, 2, 1, 1, 2, 2, 1, 3, 3, 3, 2, 1, 1, 3, 2, 3, 1, 0, 2,\n",
       "       3, 2, 1, 3, 2, 3, 1, 2, 3, 1, 2, 3, 3, 3, 2, 3, 2, 1, 3, 1, 1, 2,\n",
       "       3, 3, 3, 0, 1, 0, 1, 3, 3, 2, 2, 0, 1, 1, 1, 1, 4, 3, 2, 3, 1, 1,\n",
       "       2, 2, 0, 2, 3, 3, 3, 0, 2, 3, 3, 1, 2, 2, 2, 0, 3, 3, 4, 1, 0, 2,\n",
       "       2, 0, 2, 2, 4, 3, 0, 3, 1, 2, 2, 2, 2, 1, 1, 2, 2, 1, 1, 1, 1, 1,\n",
       "       2, 0, 1, 1, 1, 1, 1, 2, 2, 4, 2, 2, 4, 2, 2, 3, 1, 2, 0, 0, 1, 0,\n",
       "       1, 1, 3, 3, 1, 2, 4, 3, 2, 0, 2, 3, 0, 3, 2, 2, 3, 1, 2, 2, 3, 2,\n",
       "       2, 3, 1, 2, 1, 2, 0, 3, 0, 2, 2, 2, 0, 1, 1, 1, 3, 0, 2, 3, 3, 3,\n",
       "       3, 0, 1, 0, 3, 1, 2, 2, 2, 4, 1, 2, 2, 3, 3, 1, 2, 2, 1, 2, 3, 2,\n",
       "       1, 1, 2, 2, 1, 0, 4, 1, 2, 2, 1, 2, 2, 2, 1, 1, 2, 3, 2, 2, 0, 2,\n",
       "       2, 3, 4, 2, 2, 2, 2, 1, 2, 2, 2, 3, 3, 2, 1, 4, 1, 2, 3, 2, 1, 3,\n",
       "       4, 1, 1, 1, 2, 2, 3, 2, 2, 2, 3, 2, 1, 0, 2, 2, 1, 3, 0, 1, 2, 1,\n",
       "       3, 2, 3, 1, 2, 0, 1, 2, 3, 2, 2, 2, 1, 3, 1, 1, 3, 2, 3, 2, 1, 3,\n",
       "       2, 2, 2, 2, 2, 0, 2, 2, 2, 2, 3, 3, 2, 3, 2, 2, 1, 2, 1, 0, 2, 2,\n",
       "       1, 2, 2, 1, 3, 2, 2, 1, 2, 3, 2, 3, 0, 3, 2, 2, 1, 3, 2, 2, 2, 2,\n",
       "       2, 2, 2, 1, 3, 0, 2, 0, 2, 3, 2, 2, 1, 3, 3, 3, 0, 2, 3, 2, 3, 2,\n",
       "       4, 3, 0, 2, 1, 2, 2, 0, 1, 2, 2, 2, 2, 2, 2, 2, 2, 0, 0, 3, 3, 2,\n",
       "       2, 2, 2, 0, 1, 2, 2, 2, 3, 2, 2, 2, 1, 3, 3, 2, 1, 3, 3, 2, 3, 3,\n",
       "       2, 1, 3, 3, 3, 1, 1, 0, 2, 2, 0, 0, 2, 3, 2, 2, 1, 2, 3, 2, 2, 1,\n",
       "       1, 1, 1, 2, 2, 4, 3, 3, 2, 4, 0, 2, 2, 0, 2, 2, 2, 3, 3, 2, 3, 2,\n",
       "       2, 3, 2, 1, 1, 1, 2, 3, 1, 3, 1, 2, 2, 4, 0, 3, 4, 2, 3, 2, 3, 3,\n",
       "       1, 2, 1, 2, 0, 3, 2, 1, 1, 2, 2, 0, 4, 3, 1, 1, 1, 1, 2, 1, 2, 1,\n",
       "       1, 3, 2, 2, 2, 3, 2, 0, 3, 1, 0, 0, 2, 2, 1, 1, 2, 3, 1, 2, 2, 1,\n",
       "       2, 2, 0, 1, 2, 2, 2, 2, 3, 1, 3, 1, 3, 1, 1, 3, 2, 3, 2, 2, 2, 2,\n",
       "       1, 2, 2, 1, 2, 2, 3, 1, 3, 1, 2, 2, 3, 2, 2, 1, 1, 1, 1, 2, 0, 2,\n",
       "       2, 2, 1, 0, 3, 0, 2, 2, 2, 2, 2, 3, 2, 3, 2, 2, 1, 2, 2, 3, 3, 2,\n",
       "       2, 2, 2, 2, 3, 3, 3, 2, 1, 2, 1, 2, 2, 3, 2], dtype=int64)"
      ]
     },
     "execution_count": 10,
     "metadata": {},
     "output_type": "execute_result"
    }
   ],
   "source": [
    "#2.Tách biến phụ thuộc Y_practice4\n",
    "Y_practice4 = df_practice4.iloc[:,0].values\n",
    "Y_practice4"
   ]
  },
  {
   "cell_type": "code",
   "execution_count": 11,
   "id": "f36b037a",
   "metadata": {},
   "outputs": [
    {
     "data": {
      "text/plain": [
       "(961,)"
      ]
     },
     "execution_count": 11,
     "metadata": {},
     "output_type": "execute_result"
    }
   ],
   "source": [
    "Y_practice4.shape"
   ]
  },
  {
   "cell_type": "code",
   "execution_count": 15,
   "id": "64717190",
   "metadata": {},
   "outputs": [
    {
     "name": "stdout",
     "output_type": "stream",
     "text": [
      "1. Kích thước tập training: (768, 4)\n",
      "2. Kích thước tập test: (193, 4)\n"
     ]
    }
   ],
   "source": [
    "#3.Tách thành tập Train-Test theo tỷ lệ 80-20:\n",
    "from sklearn.model_selection import train_test_split\n",
    "X_practice4_train, X_practice4_test, Y_practice4_train, Y_practice4_test = train_test_split(X_pratice4,\n",
    "                                                                                   Y_practice4,\n",
    "                                                                                   test_size = 0.2,\n",
    "                                                                                   random_state=42)\n",
    "print('1. Kích thước tập training:',X_practice4_train.shape)\n",
    "print('2. Kích thước tập test:',X_practice4_test.shape)\n",
    "\n",
    "\n",
    "\n"
   ]
  },
  {
   "cell_type": "code",
   "execution_count": null,
   "id": "6be7dca3",
   "metadata": {},
   "outputs": [],
   "source": [
    "#4.Sử dụng thuật toán MultinomialNB\n"
   ]
  }
 ],
 "metadata": {
  "kernelspec": {
   "display_name": "Python 3",
   "language": "python",
   "name": "python3"
  },
  "language_info": {
   "codemirror_mode": {
    "name": "ipython",
    "version": 3
   },
   "file_extension": ".py",
   "mimetype": "text/x-python",
   "name": "python",
   "nbconvert_exporter": "python",
   "pygments_lexer": "ipython3",
   "version": "3.8.8"
  }
 },
 "nbformat": 4,
 "nbformat_minor": 5
}
